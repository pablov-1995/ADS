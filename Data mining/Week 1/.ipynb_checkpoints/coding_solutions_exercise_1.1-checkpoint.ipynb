{
 "cells": [
  {
   "cell_type": "markdown",
   "metadata": {},
   "source": [
    "## 1.1"
   ]
  },
  {
   "cell_type": "code",
   "execution_count": 1,
   "metadata": {},
   "outputs": [],
   "source": [
    "text = \"\"\"\n",
    "We’re where we were when W.W.W. Wonka (1940-2012) was when he was elected prime minister of the U.K. with 50.23% of the votes. For \n",
    "more information, see: www.we-want-wonka.co.uk/2012 \n",
    "\"\"\""
   ]
  },
  {
   "cell_type": "code",
   "execution_count": 2,
   "metadata": {},
   "outputs": [],
   "source": [
    "my_tokenization = ['We', 're', 'where', 'we', 'were', 'when', \n",
    "                   'W.W.W.', 'Wonka', '(1940-2012)', 'was', 'when', 'he', 'was', 'elected', 'prime',\n",
    "                  'minister', 'of', 'the', 'U.K.', 'with', '50.23%', 'of', 'the', 'votes', 'For',\n",
    "                  'more', 'information', 'see', 'www.we-want-wonka.co.uk/2012']"
   ]
  },
  {
   "cell_type": "code",
   "execution_count": 3,
   "metadata": {},
   "outputs": [
    {
     "name": "stdout",
     "output_type": "stream",
     "text": [
      "['we’re', 'where', 'we', 'were', 'when', 'www', 'wonka', '19402012', 'was', 'when', 'he', 'was', 'elected', 'prime', 'minister', 'of', 'the', 'uk', 'with', '5023', 'of', 'the', 'votes', 'for', 'more', 'information', 'see', 'wwwwewantwonkacouk2012']\n"
     ]
    }
   ],
   "source": [
    "def tokenize(text):\n",
    "    punctuations = '!\"#$%&\\'()*+,-./:;<=>?@[\\\\]^_`{|}~'\n",
    "    for punctuation in punctuations:\n",
    "        text = text.replace(punctuation, '')\n",
    "    text = text.lower() \n",
    "    text = text.split()\n",
    "    return text\n",
    "\n",
    "tokenized_text_python = tokenize(text)\n",
    "print(tokenized_text_python)"
   ]
  },
  {
   "cell_type": "code",
   "execution_count": 4,
   "metadata": {},
   "outputs": [
    {
     "name": "stdout",
     "output_type": "stream",
     "text": [
      "['we', 're', 'where', 'we', 'were', 'when', 'w', 'w', 'w', 'wonka', '1940', '2012', 'was', 'when', 'he', 'was', 'elected', 'prime', 'minister', 'of', 'the', 'u', 'k', 'with', '50', '23', 'of', 'the', 'votes', 'for', 'more', 'information', 'see', 'www', 'we', 'want', 'wonka', 'co', 'uk', '2012']\n"
     ]
    }
   ],
   "source": [
    "from nltk.tokenize import RegexpTokenizer\n",
    "\n",
    "tokenizer = RegexpTokenizer('\\w+')\n",
    "tokenized_text_nltk = tokenizer.tokenize(text.lower())\n",
    "print(tokenized_text_nltk)"
   ]
  },
  {
   "cell_type": "code",
   "execution_count": 5,
   "metadata": {},
   "outputs": [
    {
     "name": "stdout",
     "output_type": "stream",
     "text": [
      "['\\n', 'we', '’re', 'where', 'we', 'were', 'when', 'w.w.w', 'wonka', '1940', '2012', 'was', 'when', 'he', 'was', 'elected', 'prime', 'minister', 'of', 'the', 'u.k', 'with', '50.23', 'of', 'the', 'votes', 'for', '\\n', 'more', 'information', 'see', 'www.we-want-wonka.co.uk/2012', '\\n']\n"
     ]
    }
   ],
   "source": [
    "import spacy\n",
    "\n",
    "nlp = spacy.load(\"en_core_web_sm\")\n",
    "processed_text = nlp(text.lower())\n",
    "\n",
    "tokenized_text_spacy = [token.text for token in processed_text if not token.is_punct]\n",
    "print(tokenized_text_spacy)"
   ]
  },
  {
   "cell_type": "markdown",
   "metadata": {},
   "source": [
    "## 1.2"
   ]
  },
  {
   "cell_type": "code",
   "execution_count": 6,
   "metadata": {},
   "outputs": [
    {
     "name": "stdout",
     "output_type": "stream",
     "text": [
      "29\n",
      "28\n",
      "40\n",
      "33\n"
     ]
    }
   ],
   "source": [
    "print(len(my_tokenization))\n",
    "print(len(tokenized_text_python))\n",
    "print(len(tokenized_text_nltk))\n",
    "print(len(tokenized_text_spacy))"
   ]
  },
  {
   "cell_type": "markdown",
   "metadata": {},
   "source": [
    "## 1.3"
   ]
  },
  {
   "cell_type": "code",
   "execution_count": 7,
   "metadata": {},
   "outputs": [
    {
     "name": "stdout",
     "output_type": "stream",
     "text": [
      "1\n",
      "1\n",
      "3\n",
      "2\n"
     ]
    }
   ],
   "source": [
    "print(my_tokenization.count('we'))\n",
    "print(tokenized_text_python.count('we'))\n",
    "print(tokenized_text_nltk.count('we'))\n",
    "print(tokenized_text_spacy.count('we'))"
   ]
  },
  {
   "cell_type": "code",
   "execution_count": 8,
   "metadata": {},
   "outputs": [
    {
     "name": "stdout",
     "output_type": "stream",
     "text": [
      "0\n",
      "1\n",
      "1\n",
      "0\n"
     ]
    }
   ],
   "source": [
    "print(my_tokenization.count('www'))\n",
    "print(tokenized_text_python.count('www'))\n",
    "print(tokenized_text_nltk.count('www'))\n",
    "print(tokenized_text_spacy.count('www'))"
   ]
  },
  {
   "cell_type": "markdown",
   "metadata": {},
   "source": [
    "## 1.4"
   ]
  },
  {
   "cell_type": "code",
   "execution_count": 9,
   "metadata": {},
   "outputs": [],
   "source": [
    "from collections import Counter"
   ]
  },
  {
   "cell_type": "code",
   "execution_count": 10,
   "metadata": {},
   "outputs": [
    {
     "data": {
      "text/plain": [
       "[('when', 2),\n",
       " ('was', 2),\n",
       " ('of', 2),\n",
       " ('the', 2),\n",
       " ('We', 1),\n",
       " ('re', 1),\n",
       " ('where', 1),\n",
       " ('we', 1),\n",
       " ('were', 1),\n",
       " ('W.W.W.', 1)]"
      ]
     },
     "execution_count": 10,
     "metadata": {},
     "output_type": "execute_result"
    }
   ],
   "source": [
    "Counter(my_tokenization).most_common()[:10]"
   ]
  },
  {
   "cell_type": "code",
   "execution_count": 11,
   "metadata": {},
   "outputs": [
    {
     "data": {
      "text/plain": [
       "[('when', 2),\n",
       " ('was', 2),\n",
       " ('of', 2),\n",
       " ('the', 2),\n",
       " ('we’re', 1),\n",
       " ('where', 1),\n",
       " ('we', 1),\n",
       " ('were', 1),\n",
       " ('www', 1),\n",
       " ('wonka', 1)]"
      ]
     },
     "execution_count": 11,
     "metadata": {},
     "output_type": "execute_result"
    }
   ],
   "source": [
    "Counter(tokenized_text_python).most_common()[:10]"
   ]
  },
  {
   "cell_type": "code",
   "execution_count": 12,
   "metadata": {},
   "outputs": [
    {
     "data": {
      "text/plain": [
       "[('we', 3),\n",
       " ('w', 3),\n",
       " ('when', 2),\n",
       " ('wonka', 2),\n",
       " ('2012', 2),\n",
       " ('was', 2),\n",
       " ('of', 2),\n",
       " ('the', 2),\n",
       " ('re', 1),\n",
       " ('where', 1)]"
      ]
     },
     "execution_count": 12,
     "metadata": {},
     "output_type": "execute_result"
    }
   ],
   "source": [
    "Counter(tokenized_text_nltk).most_common()[:10]"
   ]
  },
  {
   "cell_type": "code",
   "execution_count": 13,
   "metadata": {},
   "outputs": [
    {
     "data": {
      "text/plain": [
       "[('\\n', 3),\n",
       " ('we', 2),\n",
       " ('when', 2),\n",
       " ('was', 2),\n",
       " ('of', 2),\n",
       " ('the', 2),\n",
       " ('’re', 1),\n",
       " ('where', 1),\n",
       " ('were', 1),\n",
       " ('w.w.w', 1)]"
      ]
     },
     "execution_count": 13,
     "metadata": {},
     "output_type": "execute_result"
    }
   ],
   "source": [
    "Counter(tokenized_text_spacy).most_common()[:10]"
   ]
  },
  {
   "cell_type": "markdown",
   "metadata": {},
   "source": [
    "## 2.1"
   ]
  },
  {
   "cell_type": "code",
   "execution_count": 14,
   "metadata": {},
   "outputs": [],
   "source": [
    "import pandas as pd\n",
    "df = pd.read_pickle('discussions.p')"
   ]
  },
  {
   "cell_type": "code",
   "execution_count": 15,
   "metadata": {},
   "outputs": [
    {
     "data": {
      "text/plain": [
       "Game of Thrones            15462\n",
       "Breaking Bad                6424\n",
       "Better Call Saul            5268\n",
       "Black Mirror                4720\n",
       "Stranger Things             2891\n",
       "True Detective              2721\n",
       "Twin Peaks                  2399\n",
       "Dark                        2004\n",
       "Ozark                       1417\n",
       "Mr. Robot                   1347\n",
       "Orange is the New Black     1208\n",
       "The Witcher                 1188\n",
       "Fargo                        680\n",
       "Mindhunter                   657\n",
       "The Newsroom                 484\n",
       "Succession                   389\n",
       "The Crown                    338\n",
       "House of Cards               158\n",
       "La Casa de Papel             150\n",
       "The Mandelorian               95\n",
       "Name: title, dtype: int64"
      ]
     },
     "execution_count": 15,
     "metadata": {},
     "output_type": "execute_result"
    }
   ],
   "source": [
    "df.title.value_counts()"
   ]
  },
  {
   "cell_type": "code",
   "execution_count": 16,
   "metadata": {},
   "outputs": [
    {
     "data": {
      "text/plain": [
       "2017    12830\n",
       "2016     7734\n",
       "2015     7118\n",
       "2019     6608\n",
       "2018     4332\n",
       "2020     3851\n",
       "2012     3342\n",
       "2013     2758\n",
       "2014      839\n",
       "2011      588\n",
       "Name: year, dtype: int64"
      ]
     },
     "execution_count": 16,
     "metadata": {},
     "output_type": "execute_result"
    }
   ],
   "source": [
    "df.year.value_counts()"
   ]
  },
  {
   "cell_type": "markdown",
   "metadata": {},
   "source": [
    "## 2.2"
   ]
  },
  {
   "cell_type": "code",
   "execution_count": 17,
   "metadata": {},
   "outputs": [
    {
     "name": "stderr",
     "output_type": "stream",
     "text": [
      "/Users/jorisveerbeek/opt/anaconda3/lib/python3.7/site-packages/ipykernel_launcher.py:7: TqdmDeprecationWarning: This function will be removed in tqdm==5.0.0\n",
      "Please use `tqdm.notebook.tqdm` instead of `tqdm.tqdm_notebook`\n",
      "  import sys\n"
     ]
    },
    {
     "data": {
      "application/vnd.jupyter.widget-view+json": {
       "model_id": "a46d61e44fd74144892aa0caed009ec5",
       "version_major": 2,
       "version_minor": 0
      },
      "text/plain": [
       "HBox(children=(FloatProgress(value=0.0, max=50000.0), HTML(value='')))"
      ]
     },
     "metadata": {},
     "output_type": "display_data"
    },
    {
     "name": "stdout",
     "output_type": "stream",
     "text": [
      "\n"
     ]
    }
   ],
   "source": [
    "from tqdm import tqdm_notebook \n",
    "\n",
    "processed_texts = [text for text in tqdm_notebook(nlp.pipe(df.post, \n",
    "                                              n_process=-1, # maximum number of threads\n",
    "                                              disable=[\"ner\",\n",
    "                                                       \"parser\"]),\n",
    "                                          total=len(df.post))]"
   ]
  },
  {
   "cell_type": "code",
   "execution_count": 18,
   "metadata": {},
   "outputs": [],
   "source": [
    "df['processed_texts'] = processed_texts"
   ]
  },
  {
   "cell_type": "code",
   "execution_count": 19,
   "metadata": {},
   "outputs": [],
   "source": [
    "flatten = lambda t: [item for sublist in t for item in sublist]\n",
    "\n",
    "nouns = [[word.lemma_ for word in text if word.pos_ == 'NOUN'] for text in processed_texts]\n",
    "adjectives = [[word.lemma_ for word in text if word.pos_ == 'ADJ'] for text in processed_texts]"
   ]
  },
  {
   "cell_type": "code",
   "execution_count": 20,
   "metadata": {},
   "outputs": [
    {
     "data": {
      "text/plain": [
       "[('episode', 5243),\n",
       " ('season', 3003),\n",
       " ('time', 2913),\n",
       " ('show', 2700),\n",
       " ('thing', 2625),\n",
       " ('people', 2370),\n",
       " ('scene', 2237),\n",
       " ('way', 2186),\n",
       " ('character', 1865),\n",
       " ('guy', 1598)]"
      ]
     },
     "execution_count": 20,
     "metadata": {},
     "output_type": "execute_result"
    }
   ],
   "source": [
    "Counter(flatten(nouns)).most_common()[:10]"
   ]
  },
  {
   "cell_type": "code",
   "execution_count": 21,
   "metadata": {},
   "outputs": [
    {
     "data": {
      "text/plain": [
       "[('good', 2581),\n",
       " ('other', 1611),\n",
       " ('bad', 1529),\n",
       " ('same', 1527),\n",
       " ('more', 1421),\n",
       " ('first', 1275),\n",
       " ('last', 1133),\n",
       " ('whole', 1086),\n",
       " ('great', 1042),\n",
       " ('sure', 1015)]"
      ]
     },
     "execution_count": 21,
     "metadata": {},
     "output_type": "execute_result"
    }
   ],
   "source": [
    "Counter(flatten(adjectives)).most_common()[:10]"
   ]
  },
  {
   "cell_type": "markdown",
   "metadata": {},
   "source": [
    "## 2.3"
   ]
  },
  {
   "cell_type": "code",
   "execution_count": 22,
   "metadata": {},
   "outputs": [
    {
     "data": {
      "text/plain": [
       "[('good', 206),\n",
       " ('bad', 138),\n",
       " ('last', 124),\n",
       " ('first', 107),\n",
       " ('much', 98),\n",
       " ('sure', 97),\n",
       " ('more', 96),\n",
       " ('same', 94),\n",
       " ('next', 86),\n",
       " ('other', 85)]"
      ]
     },
     "execution_count": 22,
     "metadata": {},
     "output_type": "execute_result"
    }
   ],
   "source": [
    "breaking_bad_posts = df[df.title == 'Breaking Bad']\n",
    "adj_bb = [[word.lemma_ for word in text if word.pos_ == 'ADJ'] for text in breaking_bad_posts.processed_texts]\n",
    "Counter(flatten(adj_bb)).most_common()[:10]"
   ]
  },
  {
   "cell_type": "code",
   "execution_count": 23,
   "metadata": {},
   "outputs": [
    {
     "data": {
      "text/plain": [
       "[('good', 321),\n",
       " ('bad', 222),\n",
       " ('other', 189),\n",
       " ('same', 183),\n",
       " ('more', 170),\n",
       " ('first', 166),\n",
       " ('great', 139),\n",
       " ('right', 133),\n",
       " ('much', 118),\n",
       " ('sure', 116)]"
      ]
     },
     "execution_count": 23,
     "metadata": {},
     "output_type": "execute_result"
    }
   ],
   "source": [
    "better_call_saul_posts = df[df.title == 'Better Call Saul']\n",
    "adj_bcs = [[word.lemma_ for word in text if word.pos_ == 'ADJ'] for text in better_call_saul_posts.processed_texts]\n",
    "Counter(flatten(adj_bcs)).most_common()[:10]"
   ]
  },
  {
   "cell_type": "code",
   "execution_count": 24,
   "metadata": {},
   "outputs": [
    {
     "data": {
      "text/plain": [
       "[('episode', 403),\n",
       " ('time', 230),\n",
       " ('show', 221),\n",
       " ('season', 219),\n",
       " ('scene', 201),\n",
       " ('way', 194),\n",
       " ('guy', 189),\n",
       " ('thing', 187),\n",
       " ('money', 181),\n",
       " ('shit', 157)]"
      ]
     },
     "execution_count": 24,
     "metadata": {},
     "output_type": "execute_result"
    }
   ],
   "source": [
    "nouns_bb = [[word.lemma_ for word in text if word.pos_ == 'NOUN'] for text in breaking_bad_posts.processed_texts]\n",
    "Counter(flatten(nouns_bb)).most_common()[:10]"
   ]
  },
  {
   "cell_type": "code",
   "execution_count": 25,
   "metadata": {},
   "outputs": [
    {
     "data": {
      "text/plain": [
       "[('episode', 478),\n",
       " ('show', 340),\n",
       " ('time', 312),\n",
       " ('thing', 309),\n",
       " ('scene', 294),\n",
       " ('way', 292),\n",
       " ('guy', 292),\n",
       " ('season', 267),\n",
       " ('people', 242),\n",
       " ('character', 187)]"
      ]
     },
     "execution_count": 25,
     "metadata": {},
     "output_type": "execute_result"
    }
   ],
   "source": [
    "nouns_bcs = [[word.lemma_ for word in text if word.pos_ == 'NOUN'] for text in better_call_saul_posts.processed_texts]\n",
    "Counter(flatten(nouns_bcs)).most_common()[:10]"
   ]
  },
  {
   "cell_type": "markdown",
   "metadata": {},
   "source": [
    "## 2.5"
   ]
  },
  {
   "cell_type": "code",
   "execution_count": 26,
   "metadata": {},
   "outputs": [
    {
     "data": {
      "text/plain": [
       "[('episode', 43),\n",
       " ('scene', 35),\n",
       " ('time', 31),\n",
       " ('season', 30),\n",
       " ('thing', 29),\n",
       " ('show', 26),\n",
       " ('car', 21),\n",
       " ('way', 19),\n",
       " ('guy', 18),\n",
       " ('year', 17)]"
      ]
     },
     "execution_count": 26,
     "metadata": {},
     "output_type": "execute_result"
    }
   ],
   "source": [
    "posts_2011 = df[df.year == 2011]\n",
    "nouns_2011 = [[word.lemma_ for word in text if word.pos_ == 'NOUN'] for text in posts_2011.processed_texts]\n",
    "Counter(flatten(nouns_2011)).most_common()[:10]"
   ]
  },
  {
   "cell_type": "code",
   "execution_count": 27,
   "metadata": {},
   "outputs": [
    {
     "data": {
      "text/plain": [
       "[('episode', 370),\n",
       " ('time', 338),\n",
       " ('season', 326),\n",
       " ('world', 319),\n",
       " ('show', 270),\n",
       " ('thing', 234),\n",
       " ('way', 203),\n",
       " ('scene', 197),\n",
       " ('character', 181),\n",
       " ('people', 156)]"
      ]
     },
     "execution_count": 27,
     "metadata": {},
     "output_type": "execute_result"
    }
   ],
   "source": [
    "posts_2020 = df[df.year == 2020]\n",
    "nouns_2020 = [[word.lemma_ for word in text if word.pos_ == 'NOUN'] for text in posts_2020.processed_texts]\n",
    "Counter(flatten(nouns_2020)).most_common()[:10]"
   ]
  },
  {
   "cell_type": "markdown",
   "metadata": {},
   "source": [
    "## Interesting differences: character, people"
   ]
  },
  {
   "cell_type": "code",
   "execution_count": 28,
   "metadata": {},
   "outputs": [],
   "source": [
    "nouns = [[word.lemma_ for word in text if word.pos_ == 'NOUN'] for text in df.processed_texts] # here I select only nouns, but using the complete tokenized texts is equally fine"
   ]
  },
  {
   "cell_type": "code",
   "execution_count": 29,
   "metadata": {},
   "outputs": [
    {
     "data": {
      "text/plain": [
       "<matplotlib.axes._subplots.AxesSubplot at 0x7f960506cf50>"
      ]
     },
     "execution_count": 29,
     "metadata": {},
     "output_type": "execute_result"
    }
   ],
   "source": [
    "df['nouns'] = nouns\n",
    "df['count'] = df.nouns.apply(lambda x: x.count('character'))\n",
    "df['total'] = df.nouns.apply(len)\n",
    "\n",
    "grouped = df.groupby('year').sum()\n",
    "grouped['normalized_freq'] = grouped['count'] * 10000 / grouped['total']\n",
    "\n",
    "grouped.normalized_freq.plot() # plot the normalized frequency\n"
   ]
  },
  {
   "cell_type": "code",
   "execution_count": 30,
   "metadata": {},
   "outputs": [
    {
     "data": {
      "text/plain": [
       "<matplotlib.axes._subplots.AxesSubplot at 0x7f96050725d0>"
      ]
     },
     "execution_count": 30,
     "metadata": {},
     "output_type": "execute_result"
    },
    {
     "data": {
      "image/png": "[encoded data removed]",
      "text/plain": [
       "<Figure size 432x288 with 1 Axes>"
      ]
     },
     "metadata": {
      "needs_background": "light"
     },
     "output_type": "display_data"
    }
   ],
   "source": [
    "df['nouns'] = nouns\n",
    "df['count'] = df.nouns.apply(lambda x: x.count('people'))\n",
    "df['total'] = df.nouns.apply(len)\n",
    "\n",
    "grouped = df.groupby('year').sum()\n",
    "grouped['normalized_freq'] = grouped['count'] * 10000 / grouped['total']\n",
    "\n",
    "grouped.normalized_freq.plot() # plot the normalized frequency"
   ]
  },
  {
   "cell_type": "markdown",
   "metadata": {},
   "source": [
    "## 2.6"
   ]
  },
  {
   "cell_type": "code",
   "execution_count": 31,
   "metadata": {},
   "outputs": [
    {
     "data": {
      "text/plain": [
       "<matplotlib.axes._subplots.AxesSubplot at 0x7f962bafc1d0>"
      ]
     },
     "execution_count": 31,
     "metadata": {},
     "output_type": "execute_result"
    },
    {
     "data": {
      "image/png": "[encoded data removed]",
      "text/plain": [
       "<Figure size 432x288 with 1 Axes>"
      ]
     },
     "metadata": {
      "needs_background": "light"
     },
     "output_type": "display_data"
    }
   ],
   "source": [
    "lemmatized_texts = [[word.lemma_ for word in text if not word.is_punct] for text in df.processed_texts] \n",
    "\n",
    "word2count = 'netflix'\n",
    "df['lemmatized_texts'] = lemmatized_texts\n",
    "df['count'] = df.lemmatized_texts.apply(lambda x: x.count(word2count))\n",
    "df['total'] = df.lemmatized_texts.apply(len)\n",
    "\n",
    "grouped = df.groupby('year').sum()\n",
    "grouped['normalized_freq'] = grouped['count'] * 10000 / grouped['total']\n",
    "\n",
    "grouped.normalized_freq.plot() # plot the normalized frequency"
   ]
  },
  {
   "cell_type": "code",
   "execution_count": 32,
   "metadata": {},
   "outputs": [
    {
     "data": {
      "text/plain": [
       "<matplotlib.axes._subplots.AxesSubplot at 0x7f9603204d90>"
      ]
     },
     "execution_count": 32,
     "metadata": {},
     "output_type": "execute_result"
    },
    {
     "data": {
      "image/png": "[encoded data removed]",
      "text/plain": [
       "<Figure size 432x288 with 1 Axes>"
      ]
     },
     "metadata": {
      "needs_background": "light"
     },
     "output_type": "display_data"
    }
   ],
   "source": [
    "word2count = 'binge'\n",
    "\n",
    "df['count'] = df.lemmatized_texts.apply(lambda x: x.count(word2count))\n",
    "\n",
    "grouped = df.groupby('year').sum()\n",
    "grouped['normalized_freq'] = grouped['count'] * 10000 / grouped['total']\n",
    "\n",
    "grouped.normalized_freq.plot() # plot the normalized frequency"
   ]
  },
  {
   "cell_type": "code",
   "execution_count": 33,
   "metadata": {},
   "outputs": [
    {
     "data": {
      "text/plain": [
       "<matplotlib.axes._subplots.AxesSubplot at 0x7f962bb0bb90>"
      ]
     },
     "execution_count": 33,
     "metadata": {},
     "output_type": "execute_result"
    },
    {
     "data": {
      "image/png": "[encoded data removed]",
      "text/plain": [
       "<Figure size 432x288 with 1 Axes>"
      ]
     },
     "metadata": {
      "needs_background": "light"
     },
     "output_type": "display_data"
    }
   ],
   "source": [
    "word2count = 'original'\n",
    "\n",
    "df['count'] = df.lemmatized_texts.apply(lambda x: x.count(word2count))\n",
    "\n",
    "grouped = df.groupby('year').sum()\n",
    "grouped['normalized_freq'] = grouped['count'] * 10000 / grouped['total']\n",
    "\n",
    "grouped.normalized_freq.plot() # plot the normalized frequency"
   ]
  },
  {
   "cell_type": "code",
   "execution_count": 34,
   "metadata": {},
   "outputs": [
    {
     "data": {
      "text/plain": [
       "<matplotlib.axes._subplots.AxesSubplot at 0x7f96050e7490>"
      ]
     },
     "execution_count": 34,
     "metadata": {},
     "output_type": "execute_result"
    },
    {
     "data": {
      "image/png": "[encoded data removed]",
      "text/plain": [
       "<Figure size 432x288 with 1 Axes>"
      ]
     },
     "metadata": {
      "needs_background": "light"
     },
     "output_type": "display_data"
    }
   ],
   "source": [
    "word2count = 'cliffhanger'\n",
    "\n",
    "df['count'] = df.lemmatized_texts.apply(lambda x: x.count(word2count))\n",
    "\n",
    "grouped = df.groupby('year').sum()\n",
    "grouped['normalized_freq'] = grouped['count'] * 10000 / grouped['total']\n",
    "\n",
    "grouped.normalized_freq.plot() # plot the normalized frequency"
   ]
  },
  {
   "cell_type": "code",
   "execution_count": 35,
   "metadata": {},
   "outputs": [
    {
     "data": {
      "text/plain": [
       "<matplotlib.axes._subplots.AxesSubplot at 0x7f962bf0a050>"
      ]
     },
     "execution_count": 35,
     "metadata": {},
     "output_type": "execute_result"
    },
    {
     "data": {
      "image/png": "[encoded data removed]",
      "text/plain": [
       "<Figure size 432x288 with 1 Axes>"
      ]
     },
     "metadata": {
      "needs_background": "light"
     },
     "output_type": "display_data"
    }
   ],
   "source": [
    "word2count = 'television'\n",
    "\n",
    "df['count'] = df.lemmatized_texts.apply(lambda x: x.count(word2count))\n",
    "\n",
    "grouped = df.groupby('year').sum()\n",
    "grouped['normalized_freq'] = grouped['count'] * 10000 / grouped['total']\n",
    "\n",
    "grouped.normalized_freq.plot() # plot the normalized frequency"
   ]
  }
 ],
 "metadata": {
  "kernelspec": {
   "display_name": "Python 3",
   "language": "python",
   "name": "python3"
  },
  "language_info": {
   "codemirror_mode": {
    "name": "ipython",
    "version": 3
   },
   "file_extension": ".py",
   "mimetype": "text/x-python",
   "name": "python",
   "nbconvert_exporter": "python",
   "pygments_lexer": "ipython3",
   "version": "3.7.9"
  }
 },
 "nbformat": 4,
 "nbformat_minor": 2
}
