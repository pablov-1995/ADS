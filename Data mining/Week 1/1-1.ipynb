{
 "cells": [
  {
   "cell_type": "markdown",
   "metadata": {},
   "source": [
    "## Part 1"
   ]
  },
  {
   "cell_type": "code",
   "execution_count": 1,
   "metadata": {},
   "outputs": [],
   "source": [
    "import re\n",
    "from nltk.tokenize import RegexpTokenizer\n",
    "import spacy\n",
    "import pandas as pd\n",
    "from collections import Counter\n",
    "import pickle"
   ]
  },
  {
   "cell_type": "markdown",
   "metadata": {},
   "source": [
    "### 1.1. First, tokenize the sentence yourself (i.e. manually convert this string toa list of tokens) without looking at any of the methods in the manual.Then, use at least two different (computational) methods for tokenization. Compare the results: describe the differences and try to explain them given what you know about the way they work"
   ]
  },
  {
   "cell_type": "code",
   "execution_count": 2,
   "metadata": {},
   "outputs": [],
   "source": [
    "sample = 'We’re where we were when W.W.W. Wonka (1940-2012) was when he was selected prime minister of the U.K. with 50.23% of the votes. For more information, see: www.we-want-wonka.co.uk/2012'\n",
    "punctuation = re.compile(r'[!\"#$%&\\'\\(\\)\\*\\+\\,\\-\\.\\/:\\;\\<=\\>\\?@\\[\\\\\\]\\^\\_`\\{|\\}~]')\n",
    "\n",
    "# No methods used\n",
    "def tokenize(text):\n",
    "    punctuation.sub(text, '')\n",
    "    text = text.lower() \n",
    "    text = text.split()\n",
    "    return text\n",
    "\n",
    "result1 = tokenize(sample)\n",
    "\n",
    "# NLTK method\n",
    "tokenizer = RegexpTokenizer('\\w+')\n",
    "result2 = tokenizer.tokenize(sample.lower())\n",
    "\n",
    "# Spacy method\n",
    "nlp = spacy.load(\"en_core_web_sm\")\n",
    "processed_text = nlp(sample.lower())\n",
    "\n",
    "result3 = [token.text for token in processed_text if not token.is_punct]"
   ]
  },
  {
   "cell_type": "markdown",
   "metadata": {},
   "source": [
    "Put together, the different tokens lists look like this."
   ]
  },
  {
   "cell_type": "code",
   "execution_count": 3,
   "metadata": {},
   "outputs": [
    {
     "data": {
      "text/html": [
       "<div>\n",
       "<style scoped>\n",
       "    .dataframe tbody tr th:only-of-type {\n",
       "        vertical-align: middle;\n",
       "    }\n",
       "\n",
       "    .dataframe tbody tr th {\n",
       "        vertical-align: top;\n",
       "    }\n",
       "\n",
       "    .dataframe thead th {\n",
       "        text-align: right;\n",
       "    }\n",
       "</style>\n",
       "<table border=\"1\" class=\"dataframe\">\n",
       "  <thead>\n",
       "    <tr style=\"text-align: right;\">\n",
       "      <th></th>\n",
       "      <th>0</th>\n",
       "      <th>1</th>\n",
       "      <th>2</th>\n",
       "    </tr>\n",
       "  </thead>\n",
       "  <tbody>\n",
       "    <tr>\n",
       "      <th>0</th>\n",
       "      <td>we’re</td>\n",
       "      <td>we</td>\n",
       "      <td>we</td>\n",
       "    </tr>\n",
       "    <tr>\n",
       "      <th>1</th>\n",
       "      <td>where</td>\n",
       "      <td>re</td>\n",
       "      <td>’re</td>\n",
       "    </tr>\n",
       "    <tr>\n",
       "      <th>2</th>\n",
       "      <td>we</td>\n",
       "      <td>where</td>\n",
       "      <td>where</td>\n",
       "    </tr>\n",
       "    <tr>\n",
       "      <th>3</th>\n",
       "      <td>were</td>\n",
       "      <td>we</td>\n",
       "      <td>we</td>\n",
       "    </tr>\n",
       "    <tr>\n",
       "      <th>4</th>\n",
       "      <td>when</td>\n",
       "      <td>were</td>\n",
       "      <td>were</td>\n",
       "    </tr>\n",
       "    <tr>\n",
       "      <th>5</th>\n",
       "      <td>w.w.w.</td>\n",
       "      <td>when</td>\n",
       "      <td>when</td>\n",
       "    </tr>\n",
       "    <tr>\n",
       "      <th>6</th>\n",
       "      <td>wonka</td>\n",
       "      <td>w</td>\n",
       "      <td>w.w.w</td>\n",
       "    </tr>\n",
       "    <tr>\n",
       "      <th>7</th>\n",
       "      <td>(1940-2012)</td>\n",
       "      <td>w</td>\n",
       "      <td>wonka</td>\n",
       "    </tr>\n",
       "    <tr>\n",
       "      <th>8</th>\n",
       "      <td>was</td>\n",
       "      <td>w</td>\n",
       "      <td>1940</td>\n",
       "    </tr>\n",
       "    <tr>\n",
       "      <th>9</th>\n",
       "      <td>when</td>\n",
       "      <td>wonka</td>\n",
       "      <td>2012</td>\n",
       "    </tr>\n",
       "    <tr>\n",
       "      <th>10</th>\n",
       "      <td>he</td>\n",
       "      <td>1940</td>\n",
       "      <td>was</td>\n",
       "    </tr>\n",
       "    <tr>\n",
       "      <th>11</th>\n",
       "      <td>was</td>\n",
       "      <td>2012</td>\n",
       "      <td>when</td>\n",
       "    </tr>\n",
       "    <tr>\n",
       "      <th>12</th>\n",
       "      <td>selected</td>\n",
       "      <td>was</td>\n",
       "      <td>he</td>\n",
       "    </tr>\n",
       "    <tr>\n",
       "      <th>13</th>\n",
       "      <td>prime</td>\n",
       "      <td>when</td>\n",
       "      <td>was</td>\n",
       "    </tr>\n",
       "    <tr>\n",
       "      <th>14</th>\n",
       "      <td>minister</td>\n",
       "      <td>he</td>\n",
       "      <td>selected</td>\n",
       "    </tr>\n",
       "    <tr>\n",
       "      <th>15</th>\n",
       "      <td>of</td>\n",
       "      <td>was</td>\n",
       "      <td>prime</td>\n",
       "    </tr>\n",
       "    <tr>\n",
       "      <th>16</th>\n",
       "      <td>the</td>\n",
       "      <td>selected</td>\n",
       "      <td>minister</td>\n",
       "    </tr>\n",
       "    <tr>\n",
       "      <th>17</th>\n",
       "      <td>u.k.</td>\n",
       "      <td>prime</td>\n",
       "      <td>of</td>\n",
       "    </tr>\n",
       "    <tr>\n",
       "      <th>18</th>\n",
       "      <td>with</td>\n",
       "      <td>minister</td>\n",
       "      <td>the</td>\n",
       "    </tr>\n",
       "    <tr>\n",
       "      <th>19</th>\n",
       "      <td>50.23%</td>\n",
       "      <td>of</td>\n",
       "      <td>u.k</td>\n",
       "    </tr>\n",
       "    <tr>\n",
       "      <th>20</th>\n",
       "      <td>of</td>\n",
       "      <td>the</td>\n",
       "      <td>with</td>\n",
       "    </tr>\n",
       "    <tr>\n",
       "      <th>21</th>\n",
       "      <td>the</td>\n",
       "      <td>u</td>\n",
       "      <td>50.23</td>\n",
       "    </tr>\n",
       "    <tr>\n",
       "      <th>22</th>\n",
       "      <td>votes.</td>\n",
       "      <td>k</td>\n",
       "      <td>of</td>\n",
       "    </tr>\n",
       "    <tr>\n",
       "      <th>23</th>\n",
       "      <td>for</td>\n",
       "      <td>with</td>\n",
       "      <td>the</td>\n",
       "    </tr>\n",
       "    <tr>\n",
       "      <th>24</th>\n",
       "      <td>more</td>\n",
       "      <td>50</td>\n",
       "      <td>votes</td>\n",
       "    </tr>\n",
       "    <tr>\n",
       "      <th>25</th>\n",
       "      <td>information,</td>\n",
       "      <td>23</td>\n",
       "      <td>for</td>\n",
       "    </tr>\n",
       "    <tr>\n",
       "      <th>26</th>\n",
       "      <td>see:</td>\n",
       "      <td>of</td>\n",
       "      <td>more</td>\n",
       "    </tr>\n",
       "    <tr>\n",
       "      <th>27</th>\n",
       "      <td>www.we-want-wonka.co.uk/2012</td>\n",
       "      <td>the</td>\n",
       "      <td>information</td>\n",
       "    </tr>\n",
       "    <tr>\n",
       "      <th>28</th>\n",
       "      <td>None</td>\n",
       "      <td>votes</td>\n",
       "      <td>see</td>\n",
       "    </tr>\n",
       "    <tr>\n",
       "      <th>29</th>\n",
       "      <td>None</td>\n",
       "      <td>for</td>\n",
       "      <td>www.we-want-wonka.co.uk/2012</td>\n",
       "    </tr>\n",
       "    <tr>\n",
       "      <th>30</th>\n",
       "      <td>None</td>\n",
       "      <td>more</td>\n",
       "      <td>None</td>\n",
       "    </tr>\n",
       "    <tr>\n",
       "      <th>31</th>\n",
       "      <td>None</td>\n",
       "      <td>information</td>\n",
       "      <td>None</td>\n",
       "    </tr>\n",
       "    <tr>\n",
       "      <th>32</th>\n",
       "      <td>None</td>\n",
       "      <td>see</td>\n",
       "      <td>None</td>\n",
       "    </tr>\n",
       "    <tr>\n",
       "      <th>33</th>\n",
       "      <td>None</td>\n",
       "      <td>www</td>\n",
       "      <td>None</td>\n",
       "    </tr>\n",
       "    <tr>\n",
       "      <th>34</th>\n",
       "      <td>None</td>\n",
       "      <td>we</td>\n",
       "      <td>None</td>\n",
       "    </tr>\n",
       "    <tr>\n",
       "      <th>35</th>\n",
       "      <td>None</td>\n",
       "      <td>want</td>\n",
       "      <td>None</td>\n",
       "    </tr>\n",
       "    <tr>\n",
       "      <th>36</th>\n",
       "      <td>None</td>\n",
       "      <td>wonka</td>\n",
       "      <td>None</td>\n",
       "    </tr>\n",
       "    <tr>\n",
       "      <th>37</th>\n",
       "      <td>None</td>\n",
       "      <td>co</td>\n",
       "      <td>None</td>\n",
       "    </tr>\n",
       "    <tr>\n",
       "      <th>38</th>\n",
       "      <td>None</td>\n",
       "      <td>uk</td>\n",
       "      <td>None</td>\n",
       "    </tr>\n",
       "    <tr>\n",
       "      <th>39</th>\n",
       "      <td>None</td>\n",
       "      <td>2012</td>\n",
       "      <td>None</td>\n",
       "    </tr>\n",
       "  </tbody>\n",
       "</table>\n",
       "</div>"
      ],
      "text/plain": [
       "                               0            1                             2\n",
       "0                          we’re           we                            we\n",
       "1                          where           re                           ’re\n",
       "2                             we        where                         where\n",
       "3                           were           we                            we\n",
       "4                           when         were                          were\n",
       "5                         w.w.w.         when                          when\n",
       "6                          wonka            w                         w.w.w\n",
       "7                    (1940-2012)            w                         wonka\n",
       "8                            was            w                          1940\n",
       "9                           when        wonka                          2012\n",
       "10                            he         1940                           was\n",
       "11                           was         2012                          when\n",
       "12                      selected          was                            he\n",
       "13                         prime         when                           was\n",
       "14                      minister           he                      selected\n",
       "15                            of          was                         prime\n",
       "16                           the     selected                      minister\n",
       "17                          u.k.        prime                            of\n",
       "18                          with     minister                           the\n",
       "19                        50.23%           of                           u.k\n",
       "20                            of          the                          with\n",
       "21                           the            u                         50.23\n",
       "22                        votes.            k                            of\n",
       "23                           for         with                           the\n",
       "24                          more           50                         votes\n",
       "25                  information,           23                           for\n",
       "26                          see:           of                          more\n",
       "27  www.we-want-wonka.co.uk/2012          the                   information\n",
       "28                          None        votes                           see\n",
       "29                          None          for  www.we-want-wonka.co.uk/2012\n",
       "30                          None         more                          None\n",
       "31                          None  information                          None\n",
       "32                          None          see                          None\n",
       "33                          None          www                          None\n",
       "34                          None           we                          None\n",
       "35                          None         want                          None\n",
       "36                          None        wonka                          None\n",
       "37                          None           co                          None\n",
       "38                          None           uk                          None\n",
       "39                          None         2012                          None"
      ]
     },
     "execution_count": 3,
     "metadata": {},
     "output_type": "execute_result"
    }
   ],
   "source": [
    "pd.DataFrame(data=[result1, result2, result3]).T"
   ]
  },
  {
   "cell_type": "markdown",
   "metadata": {},
   "source": [
    "Differences:\n",
    "\n",
    "- result1 splits on any of the characters included in the punctuation list.\n",
    "\n",
    "- result2 splits the sample text in sequences that match the indicated pattern '\\w+' (sequence of word characters). It is equivalent to the method 'findall' from the re library.\n",
    "\n",
    "- result3 is the library spaCy particular method of tokenization. It adds some special cases to the standard tokenization. For example, it seems to retrieve the full value of numbers that have a decimal part (50.23), or abbreviations separated by periods (U.K). Also, it retrieves full links to websites."
   ]
  },
  {
   "cell_type": "markdown",
   "metadata": {},
   "source": [
    "### 1.2. In 2017, a medium article compared the word counts of four different tools (Word, Word Online, Google Docs, LibreOffice). All tools produced different word counts. The author concluded: ’I’m not counting manually to find out who is correct, so I am declaring them all rubbish’.\n",
    "\n",
    "### Inspect the lengths of texts based on the different tokenization methods from question 1"
   ]
  },
  {
   "cell_type": "code",
   "execution_count": 4,
   "metadata": {},
   "outputs": [
    {
     "name": "stdout",
     "output_type": "stream",
     "text": [
      "Total number of tokens obtained with custom tokenize function: 28\n",
      "Total number of tokens obtained with RegexpTokenizer: 40\n",
      "Total number of tokens obtained with spaCy tokenizer: 30\n"
     ]
    }
   ],
   "source": [
    "print(f\"Total number of tokens obtained with custom tokenize function: {len(result1)}\")\n",
    "print(f\"Total number of tokens obtained with RegexpTokenizer: {len(result2)}\")\n",
    "print(f\"Total number of tokens obtained with spaCy tokenizer: {len(result3)}\")"
   ]
  },
  {
   "cell_type": "markdown",
   "metadata": {},
   "source": [
    "Since the tokens obtained with spaCy seem the most reliable to me, I would say that the most appropriate length is 30 words."
   ]
  },
  {
   "cell_type": "markdown",
   "metadata": {},
   "source": [
    "### 1.3. Compare the occurrences of the words ’we’, ’www’ between tokenization methods."
   ]
  },
  {
   "cell_type": "markdown",
   "metadata": {},
   "source": [
    "Custom tokenize function retrieves: {\"we’re\"}, {\"w.w.w\"}\n",
    "\n",
    "RegexpTokenizer retrieves: {\"we\", \"re\"}, {\"w\", \"w\", \"w\"}\n",
    "\n",
    "spaCy tokenizer retrieves: {\"we\", \"’re\"}, {\"w.w.w\"}"
   ]
  },
  {
   "cell_type": "markdown",
   "metadata": {},
   "source": [
    "### 1.4. Compare the ten most frequent words based on the different (including your own) tokenization methods. Do you think these differences will matter when you have millions of texts, and not some nonsense text solely designed to make you reflect on the impact of preprocessing methods?"
   ]
  },
  {
   "cell_type": "code",
   "execution_count": 5,
   "metadata": {},
   "outputs": [
    {
     "data": {
      "text/plain": [
       "([('when', 2), ('was', 2), ('of', 2), ('the', 2), ('we’re', 1)],\n",
       " [('we', 3), ('w', 3), ('when', 2), ('wonka', 2), ('2012', 2)],\n",
       " [('we', 2), ('when', 2), ('was', 2), ('of', 2), ('the', 2)])"
      ]
     },
     "execution_count": 5,
     "metadata": {},
     "output_type": "execute_result"
    }
   ],
   "source": [
    "counter_1 = Counter(result1)\n",
    "counter_2 = Counter(result2)\n",
    "counter_3 = Counter(result3)\n",
    "\n",
    "counter_1.most_common(5), counter_2.most_common(5), counter_3.most_common(5)"
   ]
  },
  {
   "cell_type": "markdown",
   "metadata": {},
   "source": [
    "If the difference is so substantial in such a small text, it is very likely that they will matter in bigger samples."
   ]
  },
  {
   "cell_type": "markdown",
   "metadata": {},
   "source": [
    "## Part 2"
   ]
  },
  {
   "cell_type": "code",
   "execution_count": 6,
   "metadata": {},
   "outputs": [],
   "source": [
    "# Load pickle file\n",
    "df = pd.read_pickle(r'discussions.p')"
   ]
  },
  {
   "cell_type": "markdown",
   "metadata": {},
   "source": [
    "### How many posts of each television show are in the dataset? And how many of each year?"
   ]
  },
  {
   "cell_type": "code",
   "execution_count": 7,
   "metadata": {},
   "outputs": [
    {
     "data": {
      "text/plain": [
       "Game of Thrones            15462\n",
       "Breaking Bad                6424\n",
       "Better Call Saul            5268\n",
       "Black Mirror                4720\n",
       "Stranger Things             2891\n",
       "True Detective              2721\n",
       "Twin Peaks                  2399\n",
       "Dark                        2004\n",
       "Ozark                       1417\n",
       "Mr. Robot                   1347\n",
       "Orange is the New Black     1208\n",
       "The Witcher                 1188\n",
       "Fargo                        680\n",
       "Mindhunter                   657\n",
       "The Newsroom                 484\n",
       "Succession                   389\n",
       "The Crown                    338\n",
       "House of Cards               158\n",
       "La Casa de Papel             150\n",
       "The Mandelorian               95\n",
       "Name: title, dtype: int64"
      ]
     },
     "execution_count": 7,
     "metadata": {},
     "output_type": "execute_result"
    }
   ],
   "source": [
    "df.title.value_counts()"
   ]
  },
  {
   "cell_type": "code",
   "execution_count": 8,
   "metadata": {},
   "outputs": [
    {
     "data": {
      "text/plain": [
       "2017    12830\n",
       "2016     7734\n",
       "2015     7118\n",
       "2019     6608\n",
       "2018     4332\n",
       "2020     3851\n",
       "2012     3342\n",
       "2013     2758\n",
       "2014      839\n",
       "2011      588\n",
       "Name: year, dtype: int64"
      ]
     },
     "execution_count": 8,
     "metadata": {},
     "output_type": "execute_result"
    }
   ],
   "source": [
    "df.year.value_counts()"
   ]
  },
  {
   "cell_type": "markdown",
   "metadata": {},
   "source": [
    "### Process the posts using Spacy. What are the ten most frequent lemmatized nouns? And what are the most frequent lemmatized adjectives?"
   ]
  },
  {
   "cell_type": "code",
   "execution_count": 9,
   "metadata": {},
   "outputs": [
    {
     "data": {
      "application/vnd.jupyter.widget-view+json": {
       "model_id": "6c7e4c518df24baca4a7708647d8a959",
       "version_major": 2,
       "version_minor": 0
      },
      "text/plain": [
       "HBox(children=(HTML(value=''), FloatProgress(value=0.0, max=50000.0), HTML(value='')))"
      ]
     },
     "metadata": {},
     "output_type": "display_data"
    },
    {
     "name": "stdout",
     "output_type": "stream",
     "text": [
      "\n"
     ]
    }
   ],
   "source": [
    "from tqdm.notebook import tqdm \n",
    "\n",
    "processed_texts = [text for text in tqdm(nlp.pipe(df.post, \n",
    "                                              n_process=-1, # maximum number of threads\n",
    "                                              disable=[\"ner\",\n",
    "                                                       \"parser\"]),\n",
    "                                          total=len(df.post))]"
   ]
  },
  {
   "cell_type": "code",
   "execution_count": 10,
   "metadata": {},
   "outputs": [],
   "source": [
    "df['processed_texts'] = processed_texts"
   ]
  },
  {
   "cell_type": "code",
   "execution_count": 11,
   "metadata": {},
   "outputs": [],
   "source": [
    "flatten = lambda t: [item for sublist in t for item in sublist]\n",
    "\n",
    "nouns = [[word.lemma_ for word in text if word.pos_ == 'NOUN'] for text in processed_texts]\n",
    "adjectives = [[word.lemma_ for word in text if word.pos_ == 'ADJ'] for text in processed_texts]"
   ]
  },
  {
   "cell_type": "code",
   "execution_count": 12,
   "metadata": {},
   "outputs": [
    {
     "data": {
      "text/plain": [
       "[('episode', 5243),\n",
       " ('season', 3003),\n",
       " ('time', 2913),\n",
       " ('show', 2700),\n",
       " ('thing', 2625),\n",
       " ('people', 2370),\n",
       " ('scene', 2237),\n",
       " ('way', 2186),\n",
       " ('character', 1865),\n",
       " ('guy', 1598)]"
      ]
     },
     "execution_count": 12,
     "metadata": {},
     "output_type": "execute_result"
    }
   ],
   "source": [
    "# 10 most common nouns\n",
    "Counter(flatten(nouns)).most_common()[:10]"
   ]
  },
  {
   "cell_type": "code",
   "execution_count": 13,
   "metadata": {},
   "outputs": [
    {
     "data": {
      "text/plain": [
       "[('good', 2581),\n",
       " ('other', 1611),\n",
       " ('bad', 1529),\n",
       " ('same', 1527),\n",
       " ('more', 1421),\n",
       " ('first', 1275),\n",
       " ('last', 1133),\n",
       " ('whole', 1086),\n",
       " ('great', 1042),\n",
       " ('sure', 1015)]"
      ]
     },
     "execution_count": 13,
     "metadata": {},
     "output_type": "execute_result"
    }
   ],
   "source": [
    "# 10 most common adjectives\n",
    "Counter(flatten(adjectives)).most_common()[:10]"
   ]
  },
  {
   "cell_type": "markdown",
   "metadata": {},
   "source": [
    "### Choose two titles you think make for an interesting comparison. This could be titles of shows you’ve seen, but that isn’t necessary. Now, make a subset of the dataset only including discussion on the first title. What are the twenty most frequent adjectives?"
   ]
  },
  {
   "cell_type": "code",
   "execution_count": 14,
   "metadata": {},
   "outputs": [
    {
     "data": {
      "text/html": [
       "<div>\n",
       "<style scoped>\n",
       "    .dataframe tbody tr th:only-of-type {\n",
       "        vertical-align: middle;\n",
       "    }\n",
       "\n",
       "    .dataframe tbody tr th {\n",
       "        vertical-align: top;\n",
       "    }\n",
       "\n",
       "    .dataframe thead th {\n",
       "        text-align: right;\n",
       "    }\n",
       "</style>\n",
       "<table border=\"1\" class=\"dataframe\">\n",
       "  <thead>\n",
       "    <tr style=\"text-align: right;\">\n",
       "      <th></th>\n",
       "      <th>title</th>\n",
       "      <th>type</th>\n",
       "      <th>year</th>\n",
       "      <th>post</th>\n",
       "      <th>processed_texts</th>\n",
       "    </tr>\n",
       "  </thead>\n",
       "  <tbody>\n",
       "    <tr>\n",
       "      <th>0</th>\n",
       "      <td>Better Call Saul</td>\n",
       "      <td>linear</td>\n",
       "      <td>2017</td>\n",
       "      <td>Walter. And there the chain ends.</td>\n",
       "      <td>(Walter, ., And, there, the, chain, ends, .)</td>\n",
       "    </tr>\n",
       "    <tr>\n",
       "      <th>1</th>\n",
       "      <td>Better Call Saul</td>\n",
       "      <td>linear</td>\n",
       "      <td>2016</td>\n",
       "      <td>I love this show. But it's hard to argue again...</td>\n",
       "      <td>(I, love, this, show, ., But, it, 's, hard, to...</td>\n",
       "    </tr>\n",
       "    <tr>\n",
       "      <th>2</th>\n",
       "      <td>Better Call Saul</td>\n",
       "      <td>linear</td>\n",
       "      <td>2017</td>\n",
       "      <td>What am I missing?  A lot of reference to ribs...</td>\n",
       "      <td>(What, am, I, missing, ?,  , A, lot, of, refer...</td>\n",
       "    </tr>\n",
       "    <tr>\n",
       "      <th>3</th>\n",
       "      <td>Better Call Saul</td>\n",
       "      <td>linear</td>\n",
       "      <td>2018</td>\n",
       "      <td>Oh come on Mike, he's a good little boy.</td>\n",
       "      <td>(Oh, come, on, Mike, ,, he, 's, a, good, littl...</td>\n",
       "    </tr>\n",
       "    <tr>\n",
       "      <th>4</th>\n",
       "      <td>Better Call Saul</td>\n",
       "      <td>linear</td>\n",
       "      <td>2017</td>\n",
       "      <td>Look again 👀</td>\n",
       "      <td>(Look, again, 👀)</td>\n",
       "    </tr>\n",
       "  </tbody>\n",
       "</table>\n",
       "</div>"
      ],
      "text/plain": [
       "              title    type  year  \\\n",
       "0  Better Call Saul  linear  2017   \n",
       "1  Better Call Saul  linear  2016   \n",
       "2  Better Call Saul  linear  2017   \n",
       "3  Better Call Saul  linear  2018   \n",
       "4  Better Call Saul  linear  2017   \n",
       "\n",
       "                                                post  \\\n",
       "0                  Walter. And there the chain ends.   \n",
       "1  I love this show. But it's hard to argue again...   \n",
       "2  What am I missing?  A lot of reference to ribs...   \n",
       "3          Oh come on Mike, he's a good little boy.    \n",
       "4                                       Look again 👀   \n",
       "\n",
       "                                     processed_texts  \n",
       "0       (Walter, ., And, there, the, chain, ends, .)  \n",
       "1  (I, love, this, show, ., But, it, 's, hard, to...  \n",
       "2  (What, am, I, missing, ?,  , A, lot, of, refer...  \n",
       "3  (Oh, come, on, Mike, ,, he, 's, a, good, littl...  \n",
       "4                                   (Look, again, 👀)  "
      ]
     },
     "execution_count": 14,
     "metadata": {},
     "output_type": "execute_result"
    }
   ],
   "source": [
    "df.head()"
   ]
  },
  {
   "cell_type": "markdown",
   "metadata": {},
   "source": [
    "#### Adjectives"
   ]
  },
  {
   "cell_type": "code",
   "execution_count": 15,
   "metadata": {},
   "outputs": [
    {
     "data": {
      "text/plain": [
       "[('good', 206),\n",
       " ('bad', 138),\n",
       " ('last', 124),\n",
       " ('first', 107),\n",
       " ('much', 98),\n",
       " ('sure', 97),\n",
       " ('more', 96),\n",
       " ('same', 94),\n",
       " ('next', 86),\n",
       " ('other', 85)]"
      ]
     },
     "execution_count": 15,
     "metadata": {},
     "output_type": "execute_result"
    }
   ],
   "source": [
    "bb_posts = df[df.title == 'Breaking Bad']\n",
    "adj_bb = [[word.lemma_ for word in text if word.pos_ == 'ADJ'] for text in bb_posts.processed_texts]\n",
    "Counter(flatten(adj_bb)).most_common()[:10]"
   ]
  },
  {
   "cell_type": "code",
   "execution_count": 16,
   "metadata": {},
   "outputs": [
    {
     "data": {
      "text/plain": [
       "[('good', 321),\n",
       " ('bad', 222),\n",
       " ('other', 189),\n",
       " ('same', 183),\n",
       " ('more', 170),\n",
       " ('first', 166),\n",
       " ('great', 139),\n",
       " ('right', 133),\n",
       " ('much', 118),\n",
       " ('sure', 116)]"
      ]
     },
     "execution_count": 16,
     "metadata": {},
     "output_type": "execute_result"
    }
   ],
   "source": [
    "bcs_posts = df[df.title == 'Better Call Saul']\n",
    "adj_bcs = [[word.lemma_ for word in text if word.pos_ == 'ADJ'] for text in bcs_posts.processed_texts]\n",
    "Counter(flatten(adj_bcs)).most_common()[:10]"
   ]
  },
  {
   "cell_type": "markdown",
   "metadata": {},
   "source": [
    "#### Nouns"
   ]
  },
  {
   "cell_type": "code",
   "execution_count": 17,
   "metadata": {},
   "outputs": [
    {
     "data": {
      "text/plain": [
       "[('episode', 403),\n",
       " ('time', 230),\n",
       " ('show', 221),\n",
       " ('season', 219),\n",
       " ('scene', 201),\n",
       " ('way', 194),\n",
       " ('guy', 189),\n",
       " ('thing', 187),\n",
       " ('money', 181),\n",
       " ('shit', 157)]"
      ]
     },
     "execution_count": 17,
     "metadata": {},
     "output_type": "execute_result"
    }
   ],
   "source": [
    "nouns_bb = [[word.lemma_ for word in text if word.pos_ == 'NOUN'] for text in bb_posts.processed_texts]\n",
    "Counter(flatten(nouns_bb)).most_common()[:10]"
   ]
  },
  {
   "cell_type": "code",
   "execution_count": 18,
   "metadata": {},
   "outputs": [
    {
     "data": {
      "text/plain": [
       "[('episode', 478),\n",
       " ('show', 340),\n",
       " ('time', 312),\n",
       " ('thing', 309),\n",
       " ('scene', 294),\n",
       " ('way', 292),\n",
       " ('guy', 292),\n",
       " ('season', 267),\n",
       " ('people', 242),\n",
       " ('character', 187)]"
      ]
     },
     "execution_count": 18,
     "metadata": {},
     "output_type": "execute_result"
    }
   ],
   "source": [
    "nouns_bcs = [[word.lemma_ for word in text if word.pos_ == 'NOUN'] for text in bcs_posts.processed_texts]\n",
    "Counter(flatten(nouns_bcs)).most_common()[:10]"
   ]
  },
  {
   "cell_type": "markdown",
   "metadata": {},
   "source": [
    "#### Compare the most frequent nouns between posts from 2011 and posts from 2020. Do you see any notable differences? If so, track the normalized frequencies of those words throughout the years."
   ]
  },
  {
   "cell_type": "code",
   "execution_count": 19,
   "metadata": {},
   "outputs": [
    {
     "data": {
      "text/plain": [
       "[('episode', 43),\n",
       " ('scene', 35),\n",
       " ('time', 31),\n",
       " ('season', 30),\n",
       " ('thing', 29),\n",
       " ('show', 26),\n",
       " ('car', 21),\n",
       " ('way', 19),\n",
       " ('guy', 18),\n",
       " ('year', 17)]"
      ]
     },
     "execution_count": 19,
     "metadata": {},
     "output_type": "execute_result"
    }
   ],
   "source": [
    "posts_11 = df[df.year == 2011]\n",
    "nouns_11 = [[word.lemma_ for word in text if word.pos_ == 'NOUN'] for text in posts_11.processed_texts]\n",
    "Counter(flatten(nouns_11)).most_common()[:10]"
   ]
  },
  {
   "cell_type": "code",
   "execution_count": 20,
   "metadata": {},
   "outputs": [
    {
     "data": {
      "text/plain": [
       "[('episode', 370),\n",
       " ('time', 338),\n",
       " ('season', 326),\n",
       " ('world', 319),\n",
       " ('show', 270),\n",
       " ('thing', 234),\n",
       " ('way', 203),\n",
       " ('scene', 197),\n",
       " ('character', 181),\n",
       " ('people', 156)]"
      ]
     },
     "execution_count": 20,
     "metadata": {},
     "output_type": "execute_result"
    }
   ],
   "source": [
    "posts_20 = df[df.year == 2020]\n",
    "nouns_20 = [[word.lemma_ for word in text if word.pos_ == 'NOUN'] for text in posts_20.processed_texts]\n",
    "Counter(flatten(nouns_20)).most_common()[:10]"
   ]
  },
  {
   "cell_type": "code",
   "execution_count": 21,
   "metadata": {},
   "outputs": [],
   "source": [
    "# Let's check what uncommon nouns there are and if there are, which ones are the most frequent in each document\n",
    "\n",
    "nouns_str_11 = [word for word, num in Counter(flatten(nouns_11)).most_common()[:10]]\n",
    "nouns_str_20 = [word for word, num in Counter(flatten(nouns_20)).most_common()[:10]]\n",
    "common_nouns = [w for w in nouns_str_11 if w in nouns_str_20]\n",
    "uncommon_nouns = [(w, n, '2020') for w, n in Counter(flatten(nouns_20)).most_common()[:10] if w not in common_nouns]\n",
    "uncommon_nouns.extend([(w, n, '2011') for w, n in Counter(flatten(nouns_11)).most_common()[:10] if w not in common_nouns])"
   ]
  },
  {
   "cell_type": "code",
   "execution_count": 22,
   "metadata": {},
   "outputs": [
    {
     "data": {
      "text/plain": [
       "[('world', 319, '2020'),\n",
       " ('character', 181, '2020'),\n",
       " ('people', 156, '2020'),\n",
       " ('car', 21, '2011'),\n",
       " ('guy', 18, '2011'),\n",
       " ('year', 17, '2011')]"
      ]
     },
     "execution_count": 22,
     "metadata": {},
     "output_type": "execute_result"
    }
   ],
   "source": [
    "uncommon_nouns"
   ]
  },
  {
   "cell_type": "code",
   "execution_count": 23,
   "metadata": {},
   "outputs": [
    {
     "data": {
      "text/plain": [
       "<AxesSubplot:xlabel='year'>"
      ]
     },
     "execution_count": 23,
     "metadata": {},
     "output_type": "execute_result"
    },
    {
     "data": {
      "image/png": "[encoded data removed]",
      "text/plain": [
       "<Figure size 432x288 with 1 Axes>"
      ]
     },
     "metadata": {
      "needs_background": "light"
     },
     "output_type": "display_data"
    }
   ],
   "source": [
    "# World is the most used term in 2020 that wasn't used in 2011. Car is the most used term in 2011 that wasn't used in 2020. Let's investigate those two!\n",
    "\n",
    "nouns = [[word.lemma_ for word in text if word.pos_ == 'NOUN'] for text in df.processed_texts]\n",
    "\n",
    "df['nouns'] = nouns\n",
    "df['count'] = df.nouns.apply(lambda x: x.count('world'))\n",
    "df['total'] = df.nouns.apply(len)\n",
    "\n",
    "grouped = df.groupby('year').sum()\n",
    "grouped['normalized_freq'] = grouped['count'] * 10000 / grouped['total']\n",
    "\n",
    "grouped.normalized_freq.plot() # plot the normalized frequency"
   ]
  },
  {
   "cell_type": "code",
   "execution_count": 24,
   "metadata": {},
   "outputs": [
    {
     "data": {
      "text/plain": [
       "<AxesSubplot:xlabel='year'>"
      ]
     },
     "execution_count": 24,
     "metadata": {},
     "output_type": "execute_result"
    },
    {
     "data": {
      "image/png": "[encoded data removed]",
      "text/plain": [
       "<Figure size 432x288 with 1 Axes>"
      ]
     },
     "metadata": {
      "needs_background": "light"
     },
     "output_type": "display_data"
    }
   ],
   "source": [
    "df['count'] = df.nouns.apply(lambda x: x.count('car'))\n",
    "df['total'] = df.nouns.apply(len)\n",
    "\n",
    "grouped = df.groupby('year').sum()\n",
    "grouped['normalized_freq'] = grouped['count'] * 10000 / grouped['total']\n",
    "\n",
    "grouped.normalized_freq.plot() # plot the normalized frequency"
   ]
  },
  {
   "cell_type": "markdown",
   "metadata": {},
   "source": [
    "### Track the normalized frequency of the lemmas netflix, binge, original, cliffhanger and television through the years. What can you conclude?"
   ]
  },
  {
   "cell_type": "code",
   "execution_count": 25,
   "metadata": {},
   "outputs": [
    {
     "data": {
      "text/plain": [
       "<AxesSubplot:xlabel='year'>"
      ]
     },
     "execution_count": 25,
     "metadata": {},
     "output_type": "execute_result"
    },
    {
     "data": {
      "image/png": "[encoded data removed]",
      "text/plain": [
       "<Figure size 432x288 with 1 Axes>"
      ]
     },
     "metadata": {
      "needs_background": "light"
     },
     "output_type": "display_data"
    }
   ],
   "source": [
    "lemmatized_texts = [[word.lemma_ for word in text if not word.is_punct] for text in df.processed_texts] \n",
    "\n",
    "df['lemmatized_texts'] = lemmatized_texts\n",
    "df['count'] = df.lemmatized_texts.apply(lambda x: x.count('netflix'))\n",
    "df['total'] = df.lemmatized_texts.apply(len)\n",
    "\n",
    "grouped = df.groupby('year').sum()\n",
    "grouped['normalized_freq'] = grouped['count'] * 10000 / grouped['total']\n",
    "\n",
    "grouped.normalized_freq.plot() # plot the normalized frequency"
   ]
  },
  {
   "cell_type": "code",
   "execution_count": 26,
   "metadata": {},
   "outputs": [
    {
     "data": {
      "text/plain": [
       "<AxesSubplot:xlabel='year'>"
      ]
     },
     "execution_count": 26,
     "metadata": {},
     "output_type": "execute_result"
    },
    {
     "data": {
      "image/png": "[encoded data removed]",
      "text/plain": [
       "<Figure size 432x288 with 1 Axes>"
      ]
     },
     "metadata": {
      "needs_background": "light"
     },
     "output_type": "display_data"
    }
   ],
   "source": [
    "df['count'] = df.lemmatized_texts.apply(lambda x: x.count('binge'))\n",
    "\n",
    "grouped = df.groupby('year').sum()\n",
    "grouped['normalized_freq'] = grouped['count'] * 10000 / grouped['total']\n",
    "\n",
    "grouped.normalized_freq.plot() # plot the normalized frequency"
   ]
  },
  {
   "cell_type": "code",
   "execution_count": 27,
   "metadata": {},
   "outputs": [
    {
     "data": {
      "text/plain": [
       "<AxesSubplot:xlabel='year'>"
      ]
     },
     "execution_count": 27,
     "metadata": {},
     "output_type": "execute_result"
    },
    {
     "data": {
      "image/png": "[encoded data removed]",
      "text/plain": [
       "<Figure size 432x288 with 1 Axes>"
      ]
     },
     "metadata": {
      "needs_background": "light"
     },
     "output_type": "display_data"
    }
   ],
   "source": [
    "df['count'] = df.lemmatized_texts.apply(lambda x: x.count('original'))\n",
    "\n",
    "grouped = df.groupby('year').sum()\n",
    "grouped['normalized_freq'] = grouped['count'] * 10000 / grouped['total']\n",
    "\n",
    "grouped.normalized_freq.plot() # plot the normalized frequency"
   ]
  },
  {
   "cell_type": "code",
   "execution_count": 28,
   "metadata": {},
   "outputs": [
    {
     "data": {
      "text/plain": [
       "<AxesSubplot:xlabel='year'>"
      ]
     },
     "execution_count": 28,
     "metadata": {},
     "output_type": "execute_result"
    },
    {
     "data": {
      "image/png": "[encoded data removed]",
      "text/plain": [
       "<Figure size 432x288 with 1 Axes>"
      ]
     },
     "metadata": {
      "needs_background": "light"
     },
     "output_type": "display_data"
    }
   ],
   "source": [
    "df['count'] = df.lemmatized_texts.apply(lambda x: x.count('cliffhanger'))\n",
    "\n",
    "grouped = df.groupby('year').sum()\n",
    "grouped['normalized_freq'] = grouped['count'] * 10000 / grouped['total']\n",
    "\n",
    "grouped.normalized_freq.plot() # plot the normalized frequency"
   ]
  },
  {
   "cell_type": "code",
   "execution_count": 29,
   "metadata": {},
   "outputs": [
    {
     "data": {
      "text/plain": [
       "<AxesSubplot:xlabel='year'>"
      ]
     },
     "execution_count": 29,
     "metadata": {},
     "output_type": "execute_result"
    },
    {
     "data": {
      "image/png": "[encoded data removed]",
      "text/plain": [
       "<Figure size 432x288 with 1 Axes>"
      ]
     },
     "metadata": {
      "needs_background": "light"
     },
     "output_type": "display_data"
    }
   ],
   "source": [
    "df['count'] = df.lemmatized_texts.apply(lambda x: x.count('television'))\n",
    "\n",
    "grouped = df.groupby('year').sum()\n",
    "grouped['normalized_freq'] = grouped['count'] * 10000 / grouped['total']\n",
    "\n",
    "grouped.normalized_freq.plot() # plot the normalized frequency"
   ]
  }
 ],
 "metadata": {
  "kernelspec": {
   "display_name": "ADS",
   "language": "python",
   "name": "ads"
  },
  "language_info": {
   "codemirror_mode": {
    "name": "ipython",
    "version": 3
   },
   "file_extension": ".py",
   "mimetype": "text/x-python",
   "name": "python",
   "nbconvert_exporter": "python",
   "pygments_lexer": "ipython3",
   "version": "3.7.9"
  }
 },
 "nbformat": 4,
 "nbformat_minor": 4
}
