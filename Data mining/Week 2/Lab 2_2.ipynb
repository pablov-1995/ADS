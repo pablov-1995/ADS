{
 "cells": [
  {
   "cell_type": "code",
   "execution_count": 1,
   "metadata": {},
   "outputs": [],
   "source": [
    "import pandas as pd"
   ]
  },
  {
   "cell_type": "code",
   "execution_count": 3,
   "metadata": {},
   "outputs": [],
   "source": [
    "df = pd.read_pickle('framing.p')"
   ]
  },
  {
   "cell_type": "code",
   "execution_count": 4,
   "metadata": {},
   "outputs": [
    {
     "data": {
      "text/html": [
       "<div>\n",
       "<style scoped>\n",
       "    .dataframe tbody tr th:only-of-type {\n",
       "        vertical-align: middle;\n",
       "    }\n",
       "\n",
       "    .dataframe tbody tr th {\n",
       "        vertical-align: top;\n",
       "    }\n",
       "\n",
       "    .dataframe thead th {\n",
       "        text-align: right;\n",
       "    }\n",
       "</style>\n",
       "<table border=\"1\" class=\"dataframe\">\n",
       "  <thead>\n",
       "    <tr style=\"text-align: right;\">\n",
       "      <th></th>\n",
       "      <th>tweet_id</th>\n",
       "      <th>date</th>\n",
       "      <th>user</th>\n",
       "      <th>party</th>\n",
       "      <th>state</th>\n",
       "      <th>chamber</th>\n",
       "      <th>tweet</th>\n",
       "      <th>news_mention</th>\n",
       "      <th>url_reference</th>\n",
       "      <th>netloc</th>\n",
       "      <th>title</th>\n",
       "      <th>description</th>\n",
       "      <th>label</th>\n",
       "    </tr>\n",
       "  </thead>\n",
       "  <tbody>\n",
       "    <tr>\n",
       "      <th>0</th>\n",
       "      <td>1325914751495499776</td>\n",
       "      <td>2020-11-09 21:34:45</td>\n",
       "      <td>SenShelby</td>\n",
       "      <td>R</td>\n",
       "      <td>Alabama</td>\n",
       "      <td>Senator</td>\n",
       "      <td>ICYMI – @BusinessInsider declared #Huntsville ...</td>\n",
       "      <td>businessinsider</td>\n",
       "      <td>https://www.businessinsider.com/personal-finan...</td>\n",
       "      <td>www.businessinsider.com</td>\n",
       "      <td>The 10 best US cities to move to if you want t...</td>\n",
       "      <td>The best US cities to move to if you want to s...</td>\n",
       "      <td></td>\n",
       "    </tr>\n",
       "    <tr>\n",
       "      <th>1</th>\n",
       "      <td>1294021087118987264</td>\n",
       "      <td>2020-08-13 21:20:43</td>\n",
       "      <td>SenShelby</td>\n",
       "      <td>R</td>\n",
       "      <td>Alabama</td>\n",
       "      <td>Senator</td>\n",
       "      <td>Great news! Today @mazda_toyota announced an a...</td>\n",
       "      <td></td>\n",
       "      <td>https://pressroom.toyota.com/mazda-and-toyota-...</td>\n",
       "      <td>pressroom.toyota.com</td>\n",
       "      <td>Mazda and Toyota Further Commitment to U.S. Ma...</td>\n",
       "      <td>HUNTSVILLE, Ala., (Aug. 13, 2020) – Today, Maz...</td>\n",
       "      <td></td>\n",
       "    </tr>\n",
       "    <tr>\n",
       "      <th>2</th>\n",
       "      <td>1323340848130609156</td>\n",
       "      <td>2020-11-02 19:06:59</td>\n",
       "      <td>DougJones</td>\n",
       "      <td>D</td>\n",
       "      <td>Alabama</td>\n",
       "      <td>Senator</td>\n",
       "      <td>He’s already quitting on the folks of Alabama ...</td>\n",
       "      <td></td>\n",
       "      <td>https://apnews.com/article/c73f0dfe8008ebaf85e...</td>\n",
       "      <td>apnews.com</td>\n",
       "      <td>Tuberville, Jones fight for Senate seat in Ala...</td>\n",
       "      <td>GARDENDALE, Ala. (AP) — U.S. Sen. Doug Jones, ...</td>\n",
       "      <td></td>\n",
       "    </tr>\n",
       "    <tr>\n",
       "      <th>3</th>\n",
       "      <td>1323004075831709698</td>\n",
       "      <td>2020-11-01 20:48:46</td>\n",
       "      <td>DougJones</td>\n",
       "      <td>D</td>\n",
       "      <td>Alabama</td>\n",
       "      <td>Senator</td>\n",
       "      <td>I know you guys are getting bombarded with fun...</td>\n",
       "      <td></td>\n",
       "      <td>https://secure.actblue.com/donate/djfs-close?r...</td>\n",
       "      <td>secure.actblue.com</td>\n",
       "      <td>I just gave!</td>\n",
       "      <td>Join us! Contribute today.</td>\n",
       "      <td>negiotated</td>\n",
       "    </tr>\n",
       "    <tr>\n",
       "      <th>4</th>\n",
       "      <td>1322567531320717314</td>\n",
       "      <td>2020-10-31 15:54:06</td>\n",
       "      <td>DougJones</td>\n",
       "      <td>D</td>\n",
       "      <td>Alabama</td>\n",
       "      <td>Senator</td>\n",
       "      <td>Well looky here folks, his own players don’t t...</td>\n",
       "      <td></td>\n",
       "      <td>https://slate.com/culture/2020/10/tommy-tuberv...</td>\n",
       "      <td>slate.com</td>\n",
       "      <td>What Tommy Tuberville’s Former Auburn Players ...</td>\n",
       "      <td>\"All I could think is, why?\"</td>\n",
       "      <td></td>\n",
       "    </tr>\n",
       "  </tbody>\n",
       "</table>\n",
       "</div>"
      ],
      "text/plain": [
       "              tweet_id                date       user party    state  chamber  \\\n",
       "0  1325914751495499776 2020-11-09 21:34:45  SenShelby     R  Alabama  Senator   \n",
       "1  1294021087118987264 2020-08-13 21:20:43  SenShelby     R  Alabama  Senator   \n",
       "2  1323340848130609156 2020-11-02 19:06:59  DougJones     D  Alabama  Senator   \n",
       "3  1323004075831709698 2020-11-01 20:48:46  DougJones     D  Alabama  Senator   \n",
       "4  1322567531320717314 2020-10-31 15:54:06  DougJones     D  Alabama  Senator   \n",
       "\n",
       "                                               tweet     news_mention  \\\n",
       "0  ICYMI – @BusinessInsider declared #Huntsville ...  businessinsider   \n",
       "1  Great news! Today @mazda_toyota announced an a...                    \n",
       "2  He’s already quitting on the folks of Alabama ...                    \n",
       "3  I know you guys are getting bombarded with fun...                    \n",
       "4  Well looky here folks, his own players don’t t...                    \n",
       "\n",
       "                                       url_reference                   netloc  \\\n",
       "0  https://www.businessinsider.com/personal-finan...  www.businessinsider.com   \n",
       "1  https://pressroom.toyota.com/mazda-and-toyota-...     pressroom.toyota.com   \n",
       "2  https://apnews.com/article/c73f0dfe8008ebaf85e...               apnews.com   \n",
       "3  https://secure.actblue.com/donate/djfs-close?r...       secure.actblue.com   \n",
       "4  https://slate.com/culture/2020/10/tommy-tuberv...                slate.com   \n",
       "\n",
       "                                               title  \\\n",
       "0  The 10 best US cities to move to if you want t...   \n",
       "1  Mazda and Toyota Further Commitment to U.S. Ma...   \n",
       "2  Tuberville, Jones fight for Senate seat in Ala...   \n",
       "3                                       I just gave!   \n",
       "4  What Tommy Tuberville’s Former Auburn Players ...   \n",
       "\n",
       "                                         description       label  \n",
       "0  The best US cities to move to if you want to s...              \n",
       "1  HUNTSVILLE, Ala., (Aug. 13, 2020) – Today, Maz...              \n",
       "2  GARDENDALE, Ala. (AP) — U.S. Sen. Doug Jones, ...              \n",
       "3                         Join us! Contribute today.  negiotated  \n",
       "4                       \"All I could think is, why?\"              "
      ]
     },
     "execution_count": 4,
     "metadata": {},
     "output_type": "execute_result"
    }
   ],
   "source": [
    "df.head()"
   ]
  },
  {
   "cell_type": "code",
   "execution_count": 5,
   "metadata": {},
   "outputs": [
    {
     "data": {
      "text/plain": [
       "array(['R', 'D', 'I', 'L'], dtype=object)"
      ]
     },
     "execution_count": 5,
     "metadata": {},
     "output_type": "execute_result"
    }
   ],
   "source": [
    "df.party.unique()"
   ]
  },
  {
   "cell_type": "code",
   "execution_count": 7,
   "metadata": {},
   "outputs": [],
   "source": [
    "r_df = df[df.party == \"R\"]\n",
    "d_df = df[df.party == \"D\"]"
   ]
  },
  {
   "cell_type": "code",
   "execution_count": null,
   "metadata": {},
   "outputs": [],
   "source": []
  }
 ],
 "metadata": {
  "kernelspec": {
   "display_name": "ADS",
   "language": "python",
   "name": "ads"
  },
  "language_info": {
   "codemirror_mode": {
    "name": "ipython",
    "version": 3
   },
   "file_extension": ".py",
   "mimetype": "text/x-python",
   "name": "python",
   "nbconvert_exporter": "python",
   "pygments_lexer": "ipython3",
   "version": "3.7.9"
  }
 },
 "nbformat": 4,
 "nbformat_minor": 4
}
