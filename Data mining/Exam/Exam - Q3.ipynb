{
 "cells": [
  {
   "cell_type": "markdown",
   "metadata": {
    "id": "xcgfG1BMEdF0"
   },
   "source": [
    "# Data Mining: exam text analysis"
   ]
  },
  {
   "cell_type": "markdown",
   "metadata": {
    "id": "LxFUqRbaElfC"
   },
   "source": [
    "- Pablo Vizán Siso\n",
    "- 7438214"
   ]
  },
  {
   "cell_type": "markdown",
   "metadata": {
    "id": "Hd1fSFfbEpga"
   },
   "source": [
    "## Question 3"
   ]
  },
  {
   "cell_type": "markdown",
   "metadata": {
    "id": "YOvjQ9DBEw6k"
   },
   "source": [
    "#### A television producer has approached you with the question whether they should release the new season of their show all at once, like Netflix does, or once a week.  Try to formulate a good operationalization of this question using the methods we discussed in the last three weeks, and argue why this operationalization would be suitable to formulate a substantiated advice for the television producer. Then implement your operationalization using discussions.p"
   ]
  },
  {
   "cell_type": "code",
   "execution_count": 2,
   "metadata": {
    "id": "mhrPeRORDTzx"
   },
   "outputs": [],
   "source": [
    "# collections\n",
    "from collections import Counter\n",
    "\n",
    "# pandas\n",
    "import pandas as pd\n",
    "\n",
    "# tqdm\n",
    "from tqdm import tqdm\n",
    "\n",
    "# transformers\n",
    "from transformers import pipeline"
   ]
  },
  {
   "cell_type": "code",
   "execution_count": 3,
   "metadata": {
    "id": "MAJU9dbqD3UB"
   },
   "outputs": [],
   "source": [
    "df = pd.read_pickle('discussions.p')"
   ]
  },
  {
   "cell_type": "markdown",
   "metadata": {
    "id": "cXeMve40Gb79"
   },
   "source": [
    "The first thing I will do is inspecting the data, in particular the type column, which is of interest for the analysis."
   ]
  },
  {
   "cell_type": "code",
   "execution_count": 4,
   "metadata": {
    "colab": {
     "base_uri": "https://localhost:8080/",
     "height": 204
    },
    "id": "IND_Msp6GlL8",
    "outputId": "0689dc26-fdad-4821-d87e-8656d74b7dbe"
   },
   "outputs": [
    {
     "data": {
      "text/html": [
       "<div>\n",
       "<style scoped>\n",
       "    .dataframe tbody tr th:only-of-type {\n",
       "        vertical-align: middle;\n",
       "    }\n",
       "\n",
       "    .dataframe tbody tr th {\n",
       "        vertical-align: top;\n",
       "    }\n",
       "\n",
       "    .dataframe thead th {\n",
       "        text-align: right;\n",
       "    }\n",
       "</style>\n",
       "<table border=\"1\" class=\"dataframe\">\n",
       "  <thead>\n",
       "    <tr style=\"text-align: right;\">\n",
       "      <th></th>\n",
       "      <th>title</th>\n",
       "      <th>type</th>\n",
       "      <th>year</th>\n",
       "      <th>post</th>\n",
       "    </tr>\n",
       "  </thead>\n",
       "  <tbody>\n",
       "    <tr>\n",
       "      <th>36567</th>\n",
       "      <td>Mr. Robot</td>\n",
       "      <td>linear</td>\n",
       "      <td>2019</td>\n",
       "      <td>I want it tho. \"Hi ur looking for someone else...</td>\n",
       "    </tr>\n",
       "    <tr>\n",
       "      <th>48660</th>\n",
       "      <td>Twin Peaks</td>\n",
       "      <td>linear</td>\n",
       "      <td>2017</td>\n",
       "      <td>Probably when he went into the ICU, the opport...</td>\n",
       "    </tr>\n",
       "    <tr>\n",
       "      <th>8345</th>\n",
       "      <td>Black Mirror</td>\n",
       "      <td>netflix</td>\n",
       "      <td>2017</td>\n",
       "      <td>We don’t know that, the father could have died...</td>\n",
       "    </tr>\n",
       "    <tr>\n",
       "      <th>31073</th>\n",
       "      <td>Game of Thrones</td>\n",
       "      <td>linear</td>\n",
       "      <td>2019</td>\n",
       "      <td>[My Reaction](https://youtu.be/Djlc6uHTVmY)</td>\n",
       "    </tr>\n",
       "    <tr>\n",
       "      <th>38465</th>\n",
       "      <td>Ozark</td>\n",
       "      <td>netflix</td>\n",
       "      <td>2020</td>\n",
       "      <td>I agree but the same thing with the genders re...</td>\n",
       "    </tr>\n",
       "  </tbody>\n",
       "</table>\n",
       "</div>"
      ],
      "text/plain": [
       "                 title  ...                                               post\n",
       "36567        Mr. Robot  ...  I want it tho. \"Hi ur looking for someone else...\n",
       "48660       Twin Peaks  ...  Probably when he went into the ICU, the opport...\n",
       "8345      Black Mirror  ...  We don’t know that, the father could have died...\n",
       "31073  Game of Thrones  ...        [My Reaction](https://youtu.be/Djlc6uHTVmY)\n",
       "38465            Ozark  ...  I agree but the same thing with the genders re...\n",
       "\n",
       "[5 rows x 4 columns]"
      ]
     },
     "execution_count": 4,
     "metadata": {
      "tags": []
     },
     "output_type": "execute_result"
    }
   ],
   "source": [
    "df.sample(5)"
   ]
  },
  {
   "cell_type": "code",
   "execution_count": 5,
   "metadata": {
    "colab": {
     "base_uri": "https://localhost:8080/"
    },
    "id": "HhqEpWKKGp4O",
    "outputId": "3f647ca7-30a6-429c-f456-d6f88708c8ad"
   },
   "outputs": [
    {
     "data": {
      "text/plain": [
       "array(['linear', 'netflix', nan, 'linear '], dtype=object)"
      ]
     },
     "execution_count": 5,
     "metadata": {
      "tags": []
     },
     "output_type": "execute_result"
    }
   ],
   "source": [
    "df.type.unique()"
   ]
  },
  {
   "cell_type": "markdown",
   "metadata": {
    "id": "4hGwUZdtGt79"
   },
   "source": [
    "There seems to be one or several reviews of shows mislabeled as 'linear '. I will reformat the type of those entries in the DataFrame. Also, the reviews that have value NaN for the show type are from The Crown, a Netflix show. I will also manually change this."
   ]
  },
  {
   "cell_type": "code",
   "execution_count": 6,
   "metadata": {
    "colab": {
     "base_uri": "https://localhost:8080/",
     "height": 142
    },
    "id": "Qgfoe0CkHORG",
    "outputId": "22c42cc0-253a-4622-f960-2740857b7123"
   },
   "outputs": [
    {
     "data": {
      "text/html": [
       "<div>\n",
       "<style scoped>\n",
       "    .dataframe tbody tr th:only-of-type {\n",
       "        vertical-align: middle;\n",
       "    }\n",
       "\n",
       "    .dataframe tbody tr th {\n",
       "        vertical-align: top;\n",
       "    }\n",
       "\n",
       "    .dataframe thead th {\n",
       "        text-align: right;\n",
       "    }\n",
       "</style>\n",
       "<table border=\"1\" class=\"dataframe\">\n",
       "  <thead>\n",
       "    <tr style=\"text-align: right;\">\n",
       "      <th></th>\n",
       "      <th>title</th>\n",
       "      <th>type</th>\n",
       "      <th>year</th>\n",
       "      <th>post</th>\n",
       "    </tr>\n",
       "  </thead>\n",
       "  <tbody>\n",
       "    <tr>\n",
       "      <th>42788</th>\n",
       "      <td>The Crown</td>\n",
       "      <td>NaN</td>\n",
       "      <td>2017</td>\n",
       "      <td>That is honestly my favourite scene of the who...</td>\n",
       "    </tr>\n",
       "    <tr>\n",
       "      <th>42898</th>\n",
       "      <td>The Crown</td>\n",
       "      <td>NaN</td>\n",
       "      <td>2017</td>\n",
       "      <td>Not only would it make him of a higher standin...</td>\n",
       "    </tr>\n",
       "    <tr>\n",
       "      <th>42904</th>\n",
       "      <td>The Crown</td>\n",
       "      <td>NaN</td>\n",
       "      <td>2017</td>\n",
       "      <td>Yes, I learned this the hard way a couple of y...</td>\n",
       "    </tr>\n",
       "  </tbody>\n",
       "</table>\n",
       "</div>"
      ],
      "text/plain": [
       "           title type  year                                               post\n",
       "42788  The Crown  NaN  2017  That is honestly my favourite scene of the who...\n",
       "42898  The Crown  NaN  2017  Not only would it make him of a higher standin...\n",
       "42904  The Crown  NaN  2017  Yes, I learned this the hard way a couple of y..."
      ]
     },
     "execution_count": 6,
     "metadata": {
      "tags": []
     },
     "output_type": "execute_result"
    }
   ],
   "source": [
    "df[df.type.isna()]"
   ]
  },
  {
   "cell_type": "code",
   "execution_count": 7,
   "metadata": {
    "id": "5CfQNWXcEbcm"
   },
   "outputs": [],
   "source": [
    "df.type = df.type.replace('linear ', 'linear')\n",
    "df.type = df.type.fillna('netflix')"
   ]
  },
  {
   "cell_type": "code",
   "execution_count": 8,
   "metadata": {
    "colab": {
     "base_uri": "https://localhost:8080/"
    },
    "id": "M9G7rgytFJEp",
    "outputId": "0adf2a5a-f4c1-4752-e454-3ae7ff30d4f1"
   },
   "outputs": [
    {
     "data": {
      "text/plain": [
       "array(['linear', 'netflix'], dtype=object)"
      ]
     },
     "execution_count": 8,
     "metadata": {
      "tags": []
     },
     "output_type": "execute_result"
    }
   ],
   "source": [
    "df.type.unique()"
   ]
  },
  {
   "cell_type": "markdown",
   "metadata": {
    "id": "F6ICLbgpsLuo"
   },
   "source": [
    "Finally, I noticed a considerably big number of posts are deleted. I will get rid of them for the analysis."
   ]
  },
  {
   "cell_type": "code",
   "execution_count": 9,
   "metadata": {
    "colab": {
     "base_uri": "https://localhost:8080/"
    },
    "id": "svXQLQfUspRj",
    "outputId": "450ce2eb-61c2-4393-8d26-909dc4f68fde"
   },
   "outputs": [
    {
     "data": {
      "text/plain": [
       "50000"
      ]
     },
     "execution_count": 9,
     "metadata": {
      "tags": []
     },
     "output_type": "execute_result"
    }
   ],
   "source": [
    "df.shape[0]"
   ]
  },
  {
   "cell_type": "code",
   "execution_count": 10,
   "metadata": {
    "id": "jO2KF3QlsBjH"
   },
   "outputs": [],
   "source": [
    "df.drop(df[df.post.isin(['[deleted]', '[removed]'])].index, inplace=True)"
   ]
  },
  {
   "cell_type": "code",
   "execution_count": 11,
   "metadata": {
    "colab": {
     "base_uri": "https://localhost:8080/"
    },
    "id": "F2yTPZDfsucK",
    "outputId": "b2834b5f-c340-4e83-f85b-1688f3d6826e"
   },
   "outputs": [
    {
     "data": {
      "text/plain": [
       "47809"
      ]
     },
     "execution_count": 11,
     "metadata": {
      "tags": []
     },
     "output_type": "execute_result"
    }
   ],
   "source": [
    "df.shape[0]"
   ]
  },
  {
   "cell_type": "markdown",
   "metadata": {
    "id": "Tb4Ka_pjswl1"
   },
   "source": [
    "We have cleaned 1611 posts."
   ]
  },
  {
   "cell_type": "markdown",
   "metadata": {
    "id": "M44x8JMCHdsE"
   },
   "source": [
    "Our dataset is now ready for the analysis!"
   ]
  },
  {
   "cell_type": "markdown",
   "metadata": {
    "id": "Jl_IKpmptR_y"
   },
   "source": [
    "## Operationalization"
   ]
  },
  {
   "cell_type": "markdown",
   "metadata": {
    "id": "35RoXdCftijp"
   },
   "source": [
    "The goal of this assignment is to find what strategy (linear vs Netflix) will engage with their audience more, and result in more valuable discussions. In order to answer this question, we have to start defining how to measure the value of a discussion. \n",
    "\n",
    "This is a very subjective question: the fact that there are people speaking about a show on Reddit already shows an initial engagement that they have with it, since they spend their free time posting their opinions and sharing them with millions of people. However, I am going to try to narrow it down a little bit: I will consider a discussion more **valuable** particularly when the post is raising questions about the plot and/or defending his point of view during an **interaction** with another user, or an invitation to interact. \n",
    "\n",
    "Other comments are not necessarily less valuable, but as I see it more engagement is needed to generate thorough discussions than reviews or short comments about the show. \n",
    "\n",
    "That being said, I will turn this idea into a research question using a zero-shot classification algorithm. The objective of this study will be to classify reviews as one of the three following categories:\n",
    "\n",
    "- **debate**: I chose this word because it designated what I had in mind when I thought of this way to operationalize my idea: it involves discussion and theoritising about the possible destinies of the characters/ending of the seasons.\n",
    "\n",
    "- **review**: ideally, part of the reviews would also count as valuable input (as it can foster discussion and raise questions about the plot). However, I used it mainly to classify those posts that do not seem to generate interactions, but rather issue an opinion, many times shortly and unidirectionally (e.g. \"I loved this episode!\").\n",
    "\n",
    "- **funny**: people catching references, comments about funny details of an episode... this kind of posts are not what we want to classify as \"valuable\" either.\n",
    "\n",
    "Given these three categories, I will score each post as described below:\n",
    "\n",
    "*score = 0.7 * probability of being labeled \"debate\" + 0.2 * probability of being labeled \"review\" + 0.1 * probability of being labeled \"funny\"*\n",
    "\n",
    "This way, I will put most of the weight on the probability of the post being labeled \"debate\", while not making \"review\" as unimportant as \"funny\"."
   ]
  },
  {
   "cell_type": "markdown",
   "metadata": {
    "id": "RUmTZS4FtxEs"
   },
   "source": [
    "## Creating and running the model"
   ]
  },
  {
   "cell_type": "markdown",
   "metadata": {
    "id": "MA_xUBcdt458"
   },
   "source": [
    "Let's start creating a zero-shot classification classifier. These classifiers have the ability of classifying texts into a set of pre-defined labels without any training data."
   ]
  },
  {
   "cell_type": "code",
   "execution_count": 12,
   "metadata": {
    "colab": {
     "base_uri": "https://localhost:8080/"
    },
    "id": "YsCD_uCt8gFz",
    "outputId": "8d4bec89-21b1-475b-9838-b9192751e591"
   },
   "outputs": [
    {
     "name": "stderr",
     "output_type": "stream",
     "text": [
      "Some weights of the model checkpoint at facebook/bart-large-mnli were not used when initializing BartModel: ['model.encoder.version', 'model.decoder.version']\n",
      "- This IS expected if you are initializing BartModel from the checkpoint of a model trained on another task or with another architecture (e.g. initializing a BertForSequenceClassification model from a BertForPreTraining model).\n",
      "- This IS NOT expected if you are initializing BartModel from the checkpoint of a model that you expect to be exactly identical (initializing a BertForSequenceClassification model from a BertForSequenceClassification model).\n",
      "Some weights of the model checkpoint at facebook/bart-large-mnli were not used when initializing BartForSequenceClassification: ['model.encoder.version', 'model.decoder.version']\n",
      "- This IS expected if you are initializing BartForSequenceClassification from the checkpoint of a model trained on another task or with another architecture (e.g. initializing a BertForSequenceClassification model from a BertForPreTraining model).\n",
      "- This IS NOT expected if you are initializing BartForSequenceClassification from the checkpoint of a model that you expect to be exactly identical (initializing a BertForSequenceClassification model from a BertForSequenceClassification model).\n"
     ]
    }
   ],
   "source": [
    "classifier = pipeline(\"zero-shot-classification\")"
   ]
  },
  {
   "cell_type": "markdown",
   "metadata": {
    "id": "Mdsfgv1rutPq"
   },
   "source": [
    "After this, we will create two subsets from the data: the posts of TV shows of type \"linear\" and the posts of TV shows of type \"Netflix\""
   ]
  },
  {
   "cell_type": "code",
   "execution_count": 14,
   "metadata": {
    "id": "ExLuPidAJyaN"
   },
   "outputs": [],
   "source": [
    "linear_posts = df[df.type == 'linear'].post\n",
    "netflix_posts = df[df.type == 'netflix'].post"
   ]
  },
  {
   "cell_type": "markdown",
   "metadata": {
    "id": "LMDuvyGavfoo"
   },
   "source": [
    "Since the zero-shot classification algorithm would take very long to process the whole dataset, I have opted for using reduced samples of 100 posts randomly chosen."
   ]
  },
  {
   "cell_type": "code",
   "execution_count": 20,
   "metadata": {
    "id": "4_bdQkxYS7DX"
   },
   "outputs": [],
   "source": [
    "linear_posts_sample = linear_posts.sample(100)"
   ]
  },
  {
   "cell_type": "code",
   "execution_count": 15,
   "metadata": {
    "id": "VcrGDaWmV2c-"
   },
   "outputs": [],
   "source": [
    "netflix_posts_sample = netflix_posts.sample(100)"
   ]
  },
  {
   "cell_type": "markdown",
   "metadata": {
    "id": "W8uMfjyUwCMd"
   },
   "source": [
    "We will also define the candidate labels described during the operationalization: **debate**, **review** and **funny**."
   ]
  },
  {
   "cell_type": "code",
   "execution_count": 21,
   "metadata": {
    "id": "ph6CauP-wNki"
   },
   "outputs": [],
   "source": [
    "candidate_labels = [\"debate\", \"review\", \"funny\"]"
   ]
  },
  {
   "cell_type": "markdown",
   "metadata": {
    "id": "ousNajy_5Aqi"
   },
   "source": [
    "Now it is time to run the models over our untrained datasets. We will store the accumulated score of the posts in a variable, ln_sc and nf_sc for posts of type 'linear' and 'netflix', respectively. Note that the highest possible score for each post is 0.8, so over each sample of 100 samples the highest possible score will be 80."
   ]
  },
  {
   "cell_type": "code",
   "execution_count": 21,
   "metadata": {
    "colab": {
     "base_uri": "https://localhost:8080/",
     "height": 83,
     "referenced_widgets": [
      "8f733c47b1bf4693ba6d353e02b7b665",
      "46ff42b68b42455a8ed4969088f8b874",
      "1ad1abe93ffd43bc928b25482e71949e",
      "c4c005e9a6ed42738559f6afc3e39deb",
      "d967f9dab40c4081a11e4b0b28e8f15b",
      "e918753b236d41699b6b79297b9c0ee0",
      "396c8ab9e5444278b3e81be2f13662be",
      "c61eb5e926b0493e8af8a723906790c4"
     ]
    },
    "id": "lJ1hMI3tWFPS",
    "outputId": "a895ddfa-7f4f-44b7-ab6b-22cd8a2ec4f9"
   },
   "outputs": [
    {
     "data": {
      "application/vnd.jupyter.widget-view+json": {
       "model_id": "8f733c47b1bf4693ba6d353e02b7b665",
       "version_major": 2,
       "version_minor": 0
      },
      "text/plain": [
       "HBox(children=(FloatProgress(value=0.0), HTML(value='')))"
      ]
     },
     "metadata": {
      "tags": []
     },
     "output_type": "display_data"
    },
    {
     "name": "stdout",
     "output_type": "stream",
     "text": [
      "\n"
     ]
    },
    {
     "data": {
      "text/plain": [
       "34.22505229946692"
      ]
     },
     "execution_count": 21,
     "metadata": {
      "tags": []
     },
     "output_type": "execute_result"
    }
   ],
   "source": [
    "linear_classifier = classifier(linear_posts_sample.tolist(), candidate_labels)\n",
    "\n",
    "ln_sc = 0\n",
    "\n",
    "for post in tqdm(linear_classifier):\n",
    "  dbt_sc = post['scores'][post['labels'].index('debate')]\n",
    "  rv_sc = post['scores'][post['labels'].index('review')]\n",
    "  fun_sc = post['scores'][post['labels'].index('funny')]\n",
    "  ln_sc += (0.7 * dbt_sc + 0.2 * rv_sc + 0.1 * fun_sc)\n",
    "\n",
    "ln_sc"
   ]
  },
  {
   "cell_type": "code",
   "execution_count": 18,
   "metadata": {
    "colab": {
     "base_uri": "https://localhost:8080/",
     "height": 83,
     "referenced_widgets": [
      "7b7c8e627cb344b2bdfafc96d69cbb65",
      "5ec6fbb40f37424c8231f220e17b9561",
      "6c7972cd95db4f0bbcf0b01bf794c7b5",
      "3db30df391664da88f04a9e71f04a576",
      "1eb4623cd9764a06ad5f59b9b45a5097",
      "9c3d1404f9384db4a8f2b0198b9ffaaf",
      "f029eea7f15b46a88392698e79b26641",
      "0edaa327006741d791a996d2774a3549"
     ]
    },
    "id": "ZCfatXYbaP0K",
    "outputId": "4efe36cf-6b0d-4fef-b2da-8224510f248c"
   },
   "outputs": [
    {
     "data": {
      "application/vnd.jupyter.widget-view+json": {
       "model_id": "7b7c8e627cb344b2bdfafc96d69cbb65",
       "version_major": 2,
       "version_minor": 0
      },
      "text/plain": [
       "HBox(children=(FloatProgress(value=0.0), HTML(value='')))"
      ]
     },
     "metadata": {
      "tags": []
     },
     "output_type": "display_data"
    },
    {
     "name": "stdout",
     "output_type": "stream",
     "text": [
      "\n"
     ]
    },
    {
     "data": {
      "text/plain": [
       "32.927712499909106"
      ]
     },
     "execution_count": 18,
     "metadata": {
      "tags": []
     },
     "output_type": "execute_result"
    }
   ],
   "source": [
    "netflix_classifier = classifier(netflix_posts_sample.tolist(), candidate_labels)\n",
    "\n",
    "nf_sc = 0\n",
    "\n",
    "for post in tqdm(netflix_classifier):\n",
    "  dbt_sc = post['scores'][post['labels'].index('debate')]\n",
    "  rv_sc = post['scores'][post['labels'].index('review')]\n",
    "  fun_sc = post['scores'][post['labels'].index('funny')]\n",
    "  nf_sc += (0.7 * dbt_sc + 0.2 * rv_sc + 0.1 * fun_sc)\n",
    "  \n",
    "nf_sc"
   ]
  },
  {
   "cell_type": "markdown",
   "metadata": {
    "id": "3gAJTWgnX0au"
   },
   "source": [
    "## Conclusion"
   ]
  },
  {
   "cell_type": "markdown",
   "metadata": {
    "id": "kkEofrtj6oCd"
   },
   "source": [
    "We have calculated the quality score for each post in the subset of posts that are of type \"linear\" and the posts that are of type \"netflix\", respectively. The results indicate that given our scoring formula the discussions for the \"linear\" type posts are more valuable than the discussions for the \"netflix\" type ones. Therefore, if the score of the posts depended exclusively on the type of release, I would recommend using a linear release model. \n",
    "\n",
    "However, I think there are additional factors that influence more the engagement of the users of Reddit with the shows that are not studied in this notebook, which are mostly related with the quality of the show as a whole: the richness of the story, likeability of characters, the genre of the show, etcetera. The way I see it, they should be taken into consideration in the analysis of the measured engagement in the posts. \n",
    "\n",
    "Finally, if the goal of the producer is to measure only the effect of the kind of release chosen for the show, I would suggest doing some additional data gathering and retrieve also the date where the posts were written, and analyze the number and quality of posts as a time series compared with the dates of the release of each episode / the whole season of the show. My initial impression is that a show that is released linearly will generate more activity, as the show will be airing longer and will be a topic of discussion for a longer time, and people will wonder what will happen in the next episode during the 7 days prior to the airing date (which doesn't happen with the *Netflix-kind-of-release* shows, as you can watch the next episode right after)."
   ]
  }
 ],
 "metadata": {
  "accelerator": "GPU",
  "colab": {
   "collapsed_sections": [],
   "name": "Exam  - Q3.ipynb",
   "provenance": []
  },
  "kernelspec": {
   "display_name": "Python 3",
   "language": "python",
   "name": "python3"
  },
  "language_info": {
   "codemirror_mode": {
    "name": "ipython",
    "version": 3
   },
   "file_extension": ".py",
   "mimetype": "text/x-python",
   "name": "python",
   "nbconvert_exporter": "python",
   "pygments_lexer": "ipython3",
   "version": "3.7.9"
  },
  "widgets": {
   "application/vnd.jupyter.widget-state+json": {
    "0edaa327006741d791a996d2774a3549": {
     "model_module": "@jupyter-widgets/base",
     "model_name": "LayoutModel",
     "state": {
      "_model_module": "@jupyter-widgets/base",
      "_model_module_version": "1.2.0",
      "_model_name": "LayoutModel",
      "_view_count": null,
      "_view_module": "@jupyter-widgets/base",
      "_view_module_version": "1.2.0",
      "_view_name": "LayoutView",
      "align_content": null,
      "align_items": null,
      "align_self": null,
      "border": null,
      "bottom": null,
      "display": null,
      "flex": null,
      "flex_flow": null,
      "grid_area": null,
      "grid_auto_columns": null,
      "grid_auto_flow": null,
      "grid_auto_rows": null,
      "grid_column": null,
      "grid_gap": null,
      "grid_row": null,
      "grid_template_areas": null,
      "grid_template_columns": null,
      "grid_template_rows": null,
      "height": null,
      "justify_content": null,
      "justify_items": null,
      "left": null,
      "margin": null,
      "max_height": null,
      "max_width": null,
      "min_height": null,
      "min_width": null,
      "object_fit": null,
      "object_position": null,
      "order": null,
      "overflow": null,
      "overflow_x": null,
      "overflow_y": null,
      "padding": null,
      "right": null,
      "top": null,
      "visibility": null,
      "width": null
     }
    },
    "1ad1abe93ffd43bc928b25482e71949e": {
     "model_module": "@jupyter-widgets/controls",
     "model_name": "FloatProgressModel",
     "state": {
      "_dom_classes": [],
      "_model_module": "@jupyter-widgets/controls",
      "_model_module_version": "1.5.0",
      "_model_name": "FloatProgressModel",
      "_view_count": null,
      "_view_module": "@jupyter-widgets/controls",
      "_view_module_version": "1.5.0",
      "_view_name": "ProgressView",
      "bar_style": "success",
      "description": "100%",
      "description_tooltip": null,
      "layout": "IPY_MODEL_e918753b236d41699b6b79297b9c0ee0",
      "max": 100,
      "min": 0,
      "orientation": "horizontal",
      "style": "IPY_MODEL_d967f9dab40c4081a11e4b0b28e8f15b",
      "value": 100
     }
    },
    "1eb4623cd9764a06ad5f59b9b45a5097": {
     "model_module": "@jupyter-widgets/controls",
     "model_name": "ProgressStyleModel",
     "state": {
      "_model_module": "@jupyter-widgets/controls",
      "_model_module_version": "1.5.0",
      "_model_name": "ProgressStyleModel",
      "_view_count": null,
      "_view_module": "@jupyter-widgets/base",
      "_view_module_version": "1.2.0",
      "_view_name": "StyleView",
      "bar_color": null,
      "description_width": "initial"
     }
    },
    "396c8ab9e5444278b3e81be2f13662be": {
     "model_module": "@jupyter-widgets/controls",
     "model_name": "DescriptionStyleModel",
     "state": {
      "_model_module": "@jupyter-widgets/controls",
      "_model_module_version": "1.5.0",
      "_model_name": "DescriptionStyleModel",
      "_view_count": null,
      "_view_module": "@jupyter-widgets/base",
      "_view_module_version": "1.2.0",
      "_view_name": "StyleView",
      "description_width": ""
     }
    },
    "3db30df391664da88f04a9e71f04a576": {
     "model_module": "@jupyter-widgets/controls",
     "model_name": "HTMLModel",
     "state": {
      "_dom_classes": [],
      "_model_module": "@jupyter-widgets/controls",
      "_model_module_version": "1.5.0",
      "_model_name": "HTMLModel",
      "_view_count": null,
      "_view_module": "@jupyter-widgets/controls",
      "_view_module_version": "1.5.0",
      "_view_name": "HTMLView",
      "description": "",
      "description_tooltip": null,
      "layout": "IPY_MODEL_0edaa327006741d791a996d2774a3549",
      "placeholder": "​",
      "style": "IPY_MODEL_f029eea7f15b46a88392698e79b26641",
      "value": " 100/100 [28:05&lt;00:00, 16.85s/it]"
     }
    },
    "46ff42b68b42455a8ed4969088f8b874": {
     "model_module": "@jupyter-widgets/base",
     "model_name": "LayoutModel",
     "state": {
      "_model_module": "@jupyter-widgets/base",
      "_model_module_version": "1.2.0",
      "_model_name": "LayoutModel",
      "_view_count": null,
      "_view_module": "@jupyter-widgets/base",
      "_view_module_version": "1.2.0",
      "_view_name": "LayoutView",
      "align_content": null,
      "align_items": null,
      "align_self": null,
      "border": null,
      "bottom": null,
      "display": null,
      "flex": null,
      "flex_flow": null,
      "grid_area": null,
      "grid_auto_columns": null,
      "grid_auto_flow": null,
      "grid_auto_rows": null,
      "grid_column": null,
      "grid_gap": null,
      "grid_row": null,
      "grid_template_areas": null,
      "grid_template_columns": null,
      "grid_template_rows": null,
      "height": null,
      "justify_content": null,
      "justify_items": null,
      "left": null,
      "margin": null,
      "max_height": null,
      "max_width": null,
      "min_height": null,
      "min_width": null,
      "object_fit": null,
      "object_position": null,
      "order": null,
      "overflow": null,
      "overflow_x": null,
      "overflow_y": null,
      "padding": null,
      "right": null,
      "top": null,
      "visibility": null,
      "width": null
     }
    },
    "5ec6fbb40f37424c8231f220e17b9561": {
     "model_module": "@jupyter-widgets/base",
     "model_name": "LayoutModel",
     "state": {
      "_model_module": "@jupyter-widgets/base",
      "_model_module_version": "1.2.0",
      "_model_name": "LayoutModel",
      "_view_count": null,
      "_view_module": "@jupyter-widgets/base",
      "_view_module_version": "1.2.0",
      "_view_name": "LayoutView",
      "align_content": null,
      "align_items": null,
      "align_self": null,
      "border": null,
      "bottom": null,
      "display": null,
      "flex": null,
      "flex_flow": null,
      "grid_area": null,
      "grid_auto_columns": null,
      "grid_auto_flow": null,
      "grid_auto_rows": null,
      "grid_column": null,
      "grid_gap": null,
      "grid_row": null,
      "grid_template_areas": null,
      "grid_template_columns": null,
      "grid_template_rows": null,
      "height": null,
      "justify_content": null,
      "justify_items": null,
      "left": null,
      "margin": null,
      "max_height": null,
      "max_width": null,
      "min_height": null,
      "min_width": null,
      "object_fit": null,
      "object_position": null,
      "order": null,
      "overflow": null,
      "overflow_x": null,
      "overflow_y": null,
      "padding": null,
      "right": null,
      "top": null,
      "visibility": null,
      "width": null
     }
    },
    "6c7972cd95db4f0bbcf0b01bf794c7b5": {
     "model_module": "@jupyter-widgets/controls",
     "model_name": "FloatProgressModel",
     "state": {
      "_dom_classes": [],
      "_model_module": "@jupyter-widgets/controls",
      "_model_module_version": "1.5.0",
      "_model_name": "FloatProgressModel",
      "_view_count": null,
      "_view_module": "@jupyter-widgets/controls",
      "_view_module_version": "1.5.0",
      "_view_name": "ProgressView",
      "bar_style": "success",
      "description": "100%",
      "description_tooltip": null,
      "layout": "IPY_MODEL_9c3d1404f9384db4a8f2b0198b9ffaaf",
      "max": 100,
      "min": 0,
      "orientation": "horizontal",
      "style": "IPY_MODEL_1eb4623cd9764a06ad5f59b9b45a5097",
      "value": 100
     }
    },
    "7b7c8e627cb344b2bdfafc96d69cbb65": {
     "model_module": "@jupyter-widgets/controls",
     "model_name": "HBoxModel",
     "state": {
      "_dom_classes": [],
      "_model_module": "@jupyter-widgets/controls",
      "_model_module_version": "1.5.0",
      "_model_name": "HBoxModel",
      "_view_count": null,
      "_view_module": "@jupyter-widgets/controls",
      "_view_module_version": "1.5.0",
      "_view_name": "HBoxView",
      "box_style": "",
      "children": [
       "IPY_MODEL_6c7972cd95db4f0bbcf0b01bf794c7b5",
       "IPY_MODEL_3db30df391664da88f04a9e71f04a576"
      ],
      "layout": "IPY_MODEL_5ec6fbb40f37424c8231f220e17b9561"
     }
    },
    "8f733c47b1bf4693ba6d353e02b7b665": {
     "model_module": "@jupyter-widgets/controls",
     "model_name": "HBoxModel",
     "state": {
      "_dom_classes": [],
      "_model_module": "@jupyter-widgets/controls",
      "_model_module_version": "1.5.0",
      "_model_name": "HBoxModel",
      "_view_count": null,
      "_view_module": "@jupyter-widgets/controls",
      "_view_module_version": "1.5.0",
      "_view_name": "HBoxView",
      "box_style": "",
      "children": [
       "IPY_MODEL_1ad1abe93ffd43bc928b25482e71949e",
       "IPY_MODEL_c4c005e9a6ed42738559f6afc3e39deb"
      ],
      "layout": "IPY_MODEL_46ff42b68b42455a8ed4969088f8b874"
     }
    },
    "9c3d1404f9384db4a8f2b0198b9ffaaf": {
     "model_module": "@jupyter-widgets/base",
     "model_name": "LayoutModel",
     "state": {
      "_model_module": "@jupyter-widgets/base",
      "_model_module_version": "1.2.0",
      "_model_name": "LayoutModel",
      "_view_count": null,
      "_view_module": "@jupyter-widgets/base",
      "_view_module_version": "1.2.0",
      "_view_name": "LayoutView",
      "align_content": null,
      "align_items": null,
      "align_self": null,
      "border": null,
      "bottom": null,
      "display": null,
      "flex": null,
      "flex_flow": null,
      "grid_area": null,
      "grid_auto_columns": null,
      "grid_auto_flow": null,
      "grid_auto_rows": null,
      "grid_column": null,
      "grid_gap": null,
      "grid_row": null,
      "grid_template_areas": null,
      "grid_template_columns": null,
      "grid_template_rows": null,
      "height": null,
      "justify_content": null,
      "justify_items": null,
      "left": null,
      "margin": null,
      "max_height": null,
      "max_width": null,
      "min_height": null,
      "min_width": null,
      "object_fit": null,
      "object_position": null,
      "order": null,
      "overflow": null,
      "overflow_x": null,
      "overflow_y": null,
      "padding": null,
      "right": null,
      "top": null,
      "visibility": null,
      "width": null
     }
    },
    "c4c005e9a6ed42738559f6afc3e39deb": {
     "model_module": "@jupyter-widgets/controls",
     "model_name": "HTMLModel",
     "state": {
      "_dom_classes": [],
      "_model_module": "@jupyter-widgets/controls",
      "_model_module_version": "1.5.0",
      "_model_name": "HTMLModel",
      "_view_count": null,
      "_view_module": "@jupyter-widgets/controls",
      "_view_module_version": "1.5.0",
      "_view_name": "HTMLView",
      "description": "",
      "description_tooltip": null,
      "layout": "IPY_MODEL_c61eb5e926b0493e8af8a723906790c4",
      "placeholder": "​",
      "style": "IPY_MODEL_396c8ab9e5444278b3e81be2f13662be",
      "value": " 100/100 [00:22&lt;00:00,  4.47it/s]"
     }
    },
    "c61eb5e926b0493e8af8a723906790c4": {
     "model_module": "@jupyter-widgets/base",
     "model_name": "LayoutModel",
     "state": {
      "_model_module": "@jupyter-widgets/base",
      "_model_module_version": "1.2.0",
      "_model_name": "LayoutModel",
      "_view_count": null,
      "_view_module": "@jupyter-widgets/base",
      "_view_module_version": "1.2.0",
      "_view_name": "LayoutView",
      "align_content": null,
      "align_items": null,
      "align_self": null,
      "border": null,
      "bottom": null,
      "display": null,
      "flex": null,
      "flex_flow": null,
      "grid_area": null,
      "grid_auto_columns": null,
      "grid_auto_flow": null,
      "grid_auto_rows": null,
      "grid_column": null,
      "grid_gap": null,
      "grid_row": null,
      "grid_template_areas": null,
      "grid_template_columns": null,
      "grid_template_rows": null,
      "height": null,
      "justify_content": null,
      "justify_items": null,
      "left": null,
      "margin": null,
      "max_height": null,
      "max_width": null,
      "min_height": null,
      "min_width": null,
      "object_fit": null,
      "object_position": null,
      "order": null,
      "overflow": null,
      "overflow_x": null,
      "overflow_y": null,
      "padding": null,
      "right": null,
      "top": null,
      "visibility": null,
      "width": null
     }
    },
    "d967f9dab40c4081a11e4b0b28e8f15b": {
     "model_module": "@jupyter-widgets/controls",
     "model_name": "ProgressStyleModel",
     "state": {
      "_model_module": "@jupyter-widgets/controls",
      "_model_module_version": "1.5.0",
      "_model_name": "ProgressStyleModel",
      "_view_count": null,
      "_view_module": "@jupyter-widgets/base",
      "_view_module_version": "1.2.0",
      "_view_name": "StyleView",
      "bar_color": null,
      "description_width": "initial"
     }
    },
    "e918753b236d41699b6b79297b9c0ee0": {
     "model_module": "@jupyter-widgets/base",
     "model_name": "LayoutModel",
     "state": {
      "_model_module": "@jupyter-widgets/base",
      "_model_module_version": "1.2.0",
      "_model_name": "LayoutModel",
      "_view_count": null,
      "_view_module": "@jupyter-widgets/base",
      "_view_module_version": "1.2.0",
      "_view_name": "LayoutView",
      "align_content": null,
      "align_items": null,
      "align_self": null,
      "border": null,
      "bottom": null,
      "display": null,
      "flex": null,
      "flex_flow": null,
      "grid_area": null,
      "grid_auto_columns": null,
      "grid_auto_flow": null,
      "grid_auto_rows": null,
      "grid_column": null,
      "grid_gap": null,
      "grid_row": null,
      "grid_template_areas": null,
      "grid_template_columns": null,
      "grid_template_rows": null,
      "height": null,
      "justify_content": null,
      "justify_items": null,
      "left": null,
      "margin": null,
      "max_height": null,
      "max_width": null,
      "min_height": null,
      "min_width": null,
      "object_fit": null,
      "object_position": null,
      "order": null,
      "overflow": null,
      "overflow_x": null,
      "overflow_y": null,
      "padding": null,
      "right": null,
      "top": null,
      "visibility": null,
      "width": null
     }
    },
    "f029eea7f15b46a88392698e79b26641": {
     "model_module": "@jupyter-widgets/controls",
     "model_name": "DescriptionStyleModel",
     "state": {
      "_model_module": "@jupyter-widgets/controls",
      "_model_module_version": "1.5.0",
      "_model_name": "DescriptionStyleModel",
      "_view_count": null,
      "_view_module": "@jupyter-widgets/base",
      "_view_module_version": "1.2.0",
      "_view_name": "StyleView",
      "description_width": ""
     }
    }
   }
  }
 },
 "nbformat": 4,
 "nbformat_minor": 1
}
