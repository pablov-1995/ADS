{
 "cells": [
  {
   "cell_type": "markdown",
   "metadata": {
    "id": "HNAyxkg96Sb3"
   },
   "source": [
    "# Data Mining: exam text analysis"
   ]
  },
  {
   "cell_type": "markdown",
   "metadata": {
    "id": "IlRpsHyS6Sb3"
   },
   "source": [
    "- Pablo Vizán Siso\n",
    "- 7438214"
   ]
  },
  {
   "cell_type": "markdown",
   "metadata": {
    "id": "Ui6sLJ7g6Sb3"
   },
   "source": [
    "## Question 1"
   ]
  },
  {
   "cell_type": "markdown",
   "metadata": {
    "id": "mX6tLg2K6Sb3"
   },
   "source": [
    "#### Compare the use of clickbait titles between democrats and republicans in framing.p. How many times do democrats refer to an article with a clickbait title and how many times do republicans do? Inspect the titles in the dataset that were classified as clickbait and try to explain the results."
   ]
  },
  {
   "cell_type": "markdown",
   "metadata": {
    "id": "D__vPPwT6Sb3"
   },
   "source": [
    "Below, I will import the necessary packages for the analysis"
   ]
  },
  {
   "cell_type": "code",
   "execution_count": 3,
   "metadata": {
    "id": "l93y0UGk6Sb4"
   },
   "outputs": [],
   "source": [
    "# numpy\n",
    "import numpy as np\n",
    "\n",
    "# pandas\n",
    "import pandas as pd\n",
    "\n",
    "# scikit-learn\n",
    "from sklearn.model_selection import train_test_split\n",
    "from sklearn.metrics import classification_report \n",
    "\n",
    "# tensorflow\n",
    "import tensorflow as tf\n",
    "\n",
    "# transformers\n",
    "from transformers import DistilBertTokenizerFast, TFDistilBertForSequenceClassification"
   ]
  },
  {
   "cell_type": "markdown",
   "metadata": {
    "id": "Skl4Hyii6Sb4"
   },
   "source": [
    "First step will be opening the file from which we will be extracting the necessary data for the analysis, framing.p, as a pandas DataFrame"
   ]
  },
  {
   "cell_type": "code",
   "execution_count": 4,
   "metadata": {
    "id": "InUFPfSn6Sb4"
   },
   "outputs": [],
   "source": [
    "df = pd.read_pickle('framing.p')"
   ]
  },
  {
   "cell_type": "markdown",
   "metadata": {
    "id": "RqnQpKIT6Sb4"
   },
   "source": [
    "I will call the head method on the just created DataFrame to take a first look at the data"
   ]
  },
  {
   "cell_type": "code",
   "execution_count": 5,
   "metadata": {
    "colab": {
     "base_uri": "https://localhost:8080/",
     "height": 530
    },
    "id": "tYrJlPsJ6Sb4",
    "outputId": "f7ef66a5-4b9c-4297-9a9d-81bffd0e13b7"
   },
   "outputs": [
    {
     "data": {
      "text/html": [
       "<div>\n",
       "<style scoped>\n",
       "    .dataframe tbody tr th:only-of-type {\n",
       "        vertical-align: middle;\n",
       "    }\n",
       "\n",
       "    .dataframe tbody tr th {\n",
       "        vertical-align: top;\n",
       "    }\n",
       "\n",
       "    .dataframe thead th {\n",
       "        text-align: right;\n",
       "    }\n",
       "</style>\n",
       "<table border=\"1\" class=\"dataframe\">\n",
       "  <thead>\n",
       "    <tr style=\"text-align: right;\">\n",
       "      <th></th>\n",
       "      <th>tweet_id</th>\n",
       "      <th>date</th>\n",
       "      <th>user</th>\n",
       "      <th>party</th>\n",
       "      <th>state</th>\n",
       "      <th>chamber</th>\n",
       "      <th>tweet</th>\n",
       "      <th>news_mention</th>\n",
       "      <th>url_reference</th>\n",
       "      <th>netloc</th>\n",
       "      <th>title</th>\n",
       "      <th>description</th>\n",
       "      <th>label</th>\n",
       "    </tr>\n",
       "  </thead>\n",
       "  <tbody>\n",
       "    <tr>\n",
       "      <th>0</th>\n",
       "      <td>1325914751495499776</td>\n",
       "      <td>2020-11-09 21:34:45</td>\n",
       "      <td>SenShelby</td>\n",
       "      <td>R</td>\n",
       "      <td>Alabama</td>\n",
       "      <td>Senator</td>\n",
       "      <td>ICYMI – @BusinessInsider declared #Huntsville ...</td>\n",
       "      <td>businessinsider</td>\n",
       "      <td>https://www.businessinsider.com/personal-finan...</td>\n",
       "      <td>www.businessinsider.com</td>\n",
       "      <td>The 10 best US cities to move to if you want t...</td>\n",
       "      <td>The best US cities to move to if you want to s...</td>\n",
       "      <td></td>\n",
       "    </tr>\n",
       "    <tr>\n",
       "      <th>1</th>\n",
       "      <td>1294021087118987264</td>\n",
       "      <td>2020-08-13 21:20:43</td>\n",
       "      <td>SenShelby</td>\n",
       "      <td>R</td>\n",
       "      <td>Alabama</td>\n",
       "      <td>Senator</td>\n",
       "      <td>Great news! Today @mazda_toyota announced an a...</td>\n",
       "      <td></td>\n",
       "      <td>https://pressroom.toyota.com/mazda-and-toyota-...</td>\n",
       "      <td>pressroom.toyota.com</td>\n",
       "      <td>Mazda and Toyota Further Commitment to U.S. Ma...</td>\n",
       "      <td>HUNTSVILLE, Ala., (Aug. 13, 2020) – Today, Maz...</td>\n",
       "      <td></td>\n",
       "    </tr>\n",
       "    <tr>\n",
       "      <th>2</th>\n",
       "      <td>1323340848130609156</td>\n",
       "      <td>2020-11-02 19:06:59</td>\n",
       "      <td>DougJones</td>\n",
       "      <td>D</td>\n",
       "      <td>Alabama</td>\n",
       "      <td>Senator</td>\n",
       "      <td>He’s already quitting on the folks of Alabama ...</td>\n",
       "      <td></td>\n",
       "      <td>https://apnews.com/article/c73f0dfe8008ebaf85e...</td>\n",
       "      <td>apnews.com</td>\n",
       "      <td>Tuberville, Jones fight for Senate seat in Ala...</td>\n",
       "      <td>GARDENDALE, Ala. (AP) — U.S. Sen. Doug Jones, ...</td>\n",
       "      <td></td>\n",
       "    </tr>\n",
       "    <tr>\n",
       "      <th>3</th>\n",
       "      <td>1323004075831709698</td>\n",
       "      <td>2020-11-01 20:48:46</td>\n",
       "      <td>DougJones</td>\n",
       "      <td>D</td>\n",
       "      <td>Alabama</td>\n",
       "      <td>Senator</td>\n",
       "      <td>I know you guys are getting bombarded with fun...</td>\n",
       "      <td></td>\n",
       "      <td>https://secure.actblue.com/donate/djfs-close?r...</td>\n",
       "      <td>secure.actblue.com</td>\n",
       "      <td>I just gave!</td>\n",
       "      <td>Join us! Contribute today.</td>\n",
       "      <td>negiotated</td>\n",
       "    </tr>\n",
       "    <tr>\n",
       "      <th>4</th>\n",
       "      <td>1322567531320717314</td>\n",
       "      <td>2020-10-31 15:54:06</td>\n",
       "      <td>DougJones</td>\n",
       "      <td>D</td>\n",
       "      <td>Alabama</td>\n",
       "      <td>Senator</td>\n",
       "      <td>Well looky here folks, his own players don’t t...</td>\n",
       "      <td></td>\n",
       "      <td>https://slate.com/culture/2020/10/tommy-tuberv...</td>\n",
       "      <td>slate.com</td>\n",
       "      <td>What Tommy Tuberville’s Former Auburn Players ...</td>\n",
       "      <td>\"All I could think is, why?\"</td>\n",
       "      <td></td>\n",
       "    </tr>\n",
       "  </tbody>\n",
       "</table>\n",
       "</div>"
      ],
      "text/plain": [
       "              tweet_id  ...       label\n",
       "0  1325914751495499776  ...            \n",
       "1  1294021087118987264  ...            \n",
       "2  1323340848130609156  ...            \n",
       "3  1323004075831709698  ...  negiotated\n",
       "4  1322567531320717314  ...            \n",
       "\n",
       "[5 rows x 13 columns]"
      ]
     },
     "execution_count": 5,
     "metadata": {
      "tags": []
     },
     "output_type": "execute_result"
    }
   ],
   "source": [
    "df.head()"
   ]
  },
  {
   "cell_type": "markdown",
   "metadata": {
    "id": "ImCYd7Ed6Sb5"
   },
   "source": [
    "In order to determine whether or not each tweet is a clickbait, we will make use of a dataset of 16,086 titles labeled as clickbait (1) or not clickbait (0)"
   ]
  },
  {
   "cell_type": "code",
   "execution_count": 6,
   "metadata": {
    "colab": {
     "base_uri": "https://localhost:8080/",
     "height": 204
    },
    "id": "XWqzp45I6Sb6",
    "outputId": "1d846d24-b61a-4651-96b6-ef1de56e0f32"
   },
   "outputs": [
    {
     "data": {
      "text/html": [
       "<div>\n",
       "<style scoped>\n",
       "    .dataframe tbody tr th:only-of-type {\n",
       "        vertical-align: middle;\n",
       "    }\n",
       "\n",
       "    .dataframe tbody tr th {\n",
       "        vertical-align: top;\n",
       "    }\n",
       "\n",
       "    .dataframe thead th {\n",
       "        text-align: right;\n",
       "    }\n",
       "</style>\n",
       "<table border=\"1\" class=\"dataframe\">\n",
       "  <thead>\n",
       "    <tr style=\"text-align: right;\">\n",
       "      <th></th>\n",
       "      <th>title</th>\n",
       "      <th>label</th>\n",
       "    </tr>\n",
       "  </thead>\n",
       "  <tbody>\n",
       "    <tr>\n",
       "      <th>0</th>\n",
       "      <td>15 Highly Important Questions About Adulthood,...</td>\n",
       "      <td>1</td>\n",
       "    </tr>\n",
       "    <tr>\n",
       "      <th>1</th>\n",
       "      <td>250 Nuns Just Cycled All The Way From Kathmand...</td>\n",
       "      <td>1</td>\n",
       "    </tr>\n",
       "    <tr>\n",
       "      <th>2</th>\n",
       "      <td>Australian comedians \"could have been shot\" du...</td>\n",
       "      <td>0</td>\n",
       "    </tr>\n",
       "    <tr>\n",
       "      <th>3</th>\n",
       "      <td>Lycos launches screensaver to increase spammer...</td>\n",
       "      <td>0</td>\n",
       "    </tr>\n",
       "    <tr>\n",
       "      <th>4</th>\n",
       "      <td>Fußball-Bundesliga 2008–09: Goalkeeper Butt si...</td>\n",
       "      <td>0</td>\n",
       "    </tr>\n",
       "  </tbody>\n",
       "</table>\n",
       "</div>"
      ],
      "text/plain": [
       "                                               title  label\n",
       "0  15 Highly Important Questions About Adulthood,...      1\n",
       "1  250 Nuns Just Cycled All The Way From Kathmand...      1\n",
       "2  Australian comedians \"could have been shot\" du...      0\n",
       "3  Lycos launches screensaver to increase spammer...      0\n",
       "4  Fußball-Bundesliga 2008–09: Goalkeeper Butt si...      0"
      ]
     },
     "execution_count": 6,
     "metadata": {
      "tags": []
     },
     "output_type": "execute_result"
    }
   ],
   "source": [
    "DATASET_URL = 'https://gist.githubusercontent.com/amitness/0a2ddbcb61c34eab04bad5a17fd8c86b/raw/66ad13dfac4bd1201e09726677dd8ba8048bb8af/clickbait.csv'\n",
    "data = pd.read_csv(DATASET_URL)\n",
    "data.head(5)"
   ]
  },
  {
   "cell_type": "markdown",
   "metadata": {
    "id": "61YpJIAP6Sb6"
   },
   "source": [
    "While logistic regression is also a valid choice, I will opt to use a BERT model, which already has an initial understanding of the language unlike logistic regression. More particularly, I will us a DistilBERT model, a smaller and faster implementation of the BERT model. The first step of the process will be to split the dataset into training, test and validation sets."
   ]
  },
  {
   "cell_type": "code",
   "execution_count": 7,
   "metadata": {
    "id": "UWaLJz5R6Sb6"
   },
   "outputs": [],
   "source": [
    "X = list(data.title.values) \n",
    "y = list(data.label.values) \n",
    "labels = ['not clickbait', 'clickbait']\n",
    "\n",
    "X_train, X_test, y_train, y_test = train_test_split(X, y, test_size=0.2, random_state=1)\n",
    "X_test, X_val, y_test, y_val = train_test_split(X_test, y_test, test_size=0.5, random_state=1)"
   ]
  },
  {
   "cell_type": "markdown",
   "metadata": {
    "id": "fEGZK0iu6Sb6"
   },
   "source": [
    "After that, the step of vectorization comes. I will use the tokenizer of the model to extract the tokens from the dataset."
   ]
  },
  {
   "cell_type": "code",
   "execution_count": 9,
   "metadata": {
    "id": "XfYEnrT06Sb6"
   },
   "outputs": [],
   "source": [
    "tokenizer = DistilBertTokenizerFast.from_pretrained('distilbert-base-uncased')\n",
    "\n",
    "train_encodings = tokenizer(X_train, truncation=True, padding=True, max_length=128) # convert input strings to BERT encodings\n",
    "test_encodings = tokenizer(X_test, truncation=True, padding=True,  max_length=128)\n",
    "val_encodings = tokenizer(X_val, truncation=True, padding=True, max_length=128)\n",
    "\n",
    "train_dataset = tf.data.Dataset.from_tensor_slices((\n",
    "    dict(train_encodings),\n",
    "    y_train\n",
    ")).shuffle(1000).batch(16) # convert the encodings to Tensorflow objects\n",
    "val_dataset = tf.data.Dataset.from_tensor_slices((\n",
    "    dict(val_encodings),\n",
    "    y_val\n",
    ")).batch(64)\n",
    "test_dataset = tf.data.Dataset.from_tensor_slices((\n",
    "    dict(test_encodings),\n",
    "    y_test\n",
    ")).batch(64)"
   ]
  },
  {
   "cell_type": "markdown",
   "metadata": {
    "id": "S3-S2LA46Sb6"
   },
   "source": [
    "After that, the model will be ready to be loaded and compiled. I will make use of EarlyStopping: the model will be evaluated each epoch (one iteration through the training set), and when its performance on the validation set doesn't improve three times in a row, the training will be stopped early, and the best model will be returned."
   ]
  },
  {
   "cell_type": "code",
   "execution_count": 10,
   "metadata": {
    "colab": {
     "base_uri": "https://localhost:8080/",
     "height": 220,
     "referenced_widgets": [
      "a1b519eda0bb406ebd5c1e6b1facf6bb",
      "1d30a4090e47492098c9faf317c2a065",
      "8a24a502ff994927aead895e463fd24a",
      "6b226755b24b4aa6b674eadfe74f2b32",
      "24330a99b1ed4f82bd21cfd01e897a2a",
      "e43726dc09544506aed6aa395fd341f8",
      "7339321e2c214bf0b0e984418d35f1e0",
      "783d7f0e85bc433795a182339194ad38",
      "d640867ce8444560bc6ffb8350700220",
      "0175da6745744fa192f129d8a2d25ab5",
      "069a404e2509445d9f0211f4e6cbfa14",
      "60439d60b6824f4987e9179391761ec3",
      "7d11852833d6463e8775ce75ad4acdbf",
      "3ae20d66dcc84b2b81ee60724a190d08",
      "5d44e7502a1647f884bd6ef57655fe31",
      "200d1e34611744f8b925ab2e264ca245"
     ]
    },
    "id": "404ewmDl6Sb7",
    "outputId": "df14d5fd-aaf5-4d5a-c707-b829d75dc064"
   },
   "outputs": [
    {
     "data": {
      "application/vnd.jupyter.widget-view+json": {
       "model_id": "a1b519eda0bb406ebd5c1e6b1facf6bb",
       "version_major": 2,
       "version_minor": 0
      },
      "text/plain": [
       "HBox(children=(FloatProgress(value=0.0, description='Downloading', max=411.0, style=ProgressStyle(description_…"
      ]
     },
     "metadata": {
      "tags": []
     },
     "output_type": "display_data"
    },
    {
     "name": "stdout",
     "output_type": "stream",
     "text": [
      "\n"
     ]
    },
    {
     "data": {
      "application/vnd.jupyter.widget-view+json": {
       "model_id": "d640867ce8444560bc6ffb8350700220",
       "version_major": 2,
       "version_minor": 0
      },
      "text/plain": [
       "HBox(children=(FloatProgress(value=0.0, description='Downloading', max=354041576.0, style=ProgressStyle(descri…"
      ]
     },
     "metadata": {
      "tags": []
     },
     "output_type": "display_data"
    },
    {
     "name": "stdout",
     "output_type": "stream",
     "text": [
      "\n"
     ]
    },
    {
     "name": "stderr",
     "output_type": "stream",
     "text": [
      "Some layers from the model checkpoint at distilbert-base-cased were not used when initializing TFDistilBertForSequenceClassification: ['activation_13', 'vocab_layer_norm', 'vocab_transform', 'vocab_projector']\n",
      "- This IS expected if you are initializing TFDistilBertForSequenceClassification from the checkpoint of a model trained on another task or with another architecture (e.g. initializing a BertForSequenceClassification model from a BertForPreTraining model).\n",
      "- This IS NOT expected if you are initializing TFDistilBertForSequenceClassification from the checkpoint of a model that you expect to be exactly identical (initializing a BertForSequenceClassification model from a BertForSequenceClassification model).\n",
      "Some layers of TFDistilBertForSequenceClassification were not initialized from the model checkpoint at distilbert-base-cased and are newly initialized: ['pre_classifier', 'dropout_19', 'classifier']\n",
      "You should probably TRAIN this model on a down-stream task to be able to use it for predictions and inference.\n"
     ]
    }
   ],
   "source": [
    "model = TFDistilBertForSequenceClassification.from_pretrained('distilbert-base-cased', \n",
    "                                                           num_labels=len(labels))\n",
    "callbacks = [\n",
    "        tf.keras.callbacks.EarlyStopping(\n",
    "            monitor='val_loss', min_delta=0, patience=3, verbose=0, mode='min', baseline=None, restore_best_weights=True)\n",
    "]\n",
    "\n",
    "optimizer = tf.keras.optimizers.Adam(learning_rate=5e-5)\n",
    "loss = tf.keras.losses.SparseCategoricalCrossentropy(from_logits=True)\n",
    "\n",
    "model.compile(optimizer=optimizer, loss=loss)"
   ]
  },
  {
   "cell_type": "markdown",
   "metadata": {
    "id": "o1rfzbJm6Sb7"
   },
   "source": [
    "Now, everything is set for the model to be finally trained!"
   ]
  },
  {
   "cell_type": "code",
   "execution_count": 11,
   "metadata": {
    "colab": {
     "base_uri": "https://localhost:8080/"
    },
    "id": "7Gafiw8r6Sb7",
    "outputId": "d8e5835a-28fa-4c1c-d34c-564bcc9d4dd8"
   },
   "outputs": [
    {
     "name": "stdout",
     "output_type": "stream",
     "text": [
      "Epoch 1/10\n",
      "1600/1600 [==============================] - 89s 55ms/step - loss: 0.1561 - val_loss: 0.0798\n",
      "Epoch 2/10\n",
      "1600/1600 [==============================] - 87s 55ms/step - loss: 0.0456 - val_loss: 0.0853\n",
      "Epoch 3/10\n",
      "1600/1600 [==============================] - 86s 54ms/step - loss: 0.0202 - val_loss: 0.0886\n",
      "Epoch 4/10\n",
      "1600/1600 [==============================] - 87s 54ms/step - loss: 0.0149 - val_loss: 0.1054\n"
     ]
    },
    {
     "data": {
      "text/plain": [
       "<tensorflow.python.keras.callbacks.History at 0x7f3bc7fcf048>"
      ]
     },
     "execution_count": 11,
     "metadata": {
      "tags": []
     },
     "output_type": "execute_result"
    }
   ],
   "source": [
    "model.fit(train_dataset, epochs=10, callbacks=callbacks, validation_data=val_dataset, batch_size=16)"
   ]
  },
  {
   "cell_type": "markdown",
   "metadata": {
    "id": "w9Xtlqfr9XfI"
   },
   "source": [
    "I will quickly check how good this model is looking at its classification report"
   ]
  },
  {
   "cell_type": "code",
   "execution_count": 12,
   "metadata": {
    "colab": {
     "base_uri": "https://localhost:8080/"
    },
    "id": "CcPfAqZn9hMa",
    "outputId": "20036f61-2f45-42a7-a3a6-32704dcb6671"
   },
   "outputs": [
    {
     "name": "stdout",
     "output_type": "stream",
     "text": [
      "              precision    recall  f1-score   support\n",
      "\n",
      "           0       0.96      0.98      0.97      1586\n",
      "           1       0.98      0.96      0.97      1613\n",
      "\n",
      "    accuracy                           0.97      3199\n",
      "   macro avg       0.97      0.97      0.97      3199\n",
      "weighted avg       0.97      0.97      0.97      3199\n",
      "\n"
     ]
    }
   ],
   "source": [
    "logits = model.predict(test_dataset)\n",
    "y_preds = np.argmax(logits[0], axis=1)\n",
    "print(classification_report(y_test, y_preds))"
   ]
  },
  {
   "cell_type": "markdown",
   "metadata": {
    "id": "CFAr_0o79xGm"
   },
   "source": [
    "The model seems reliable as its accuracy f1-score is very high (0.97!)"
   ]
  },
  {
   "cell_type": "markdown",
   "metadata": {
    "id": "dJ_53U3697Uv"
   },
   "source": [
    "Now, it is time to classify the tweets in the data as clickbait or not clickbait."
   ]
  },
  {
   "cell_type": "code",
   "execution_count": 21,
   "metadata": {
    "id": "ssfKi2nD9kK2"
   },
   "outputs": [],
   "source": [
    "titles = df.title.to_list()\n",
    "titles_encodings = tokenizer(titles, truncation=True, padding=True)\n",
    "titles_encodings = tf.data.Dataset.from_tensor_slices((dict(titles_encodings))).batch(64)\n",
    "pred_logits = model.predict(titles_encodings)"
   ]
  },
  {
   "cell_type": "markdown",
   "metadata": {
    "id": "IBzEPM89D8aX"
   },
   "source": [
    "I just used the model to make the prediction. Now, I am going to append it to the DataFrame as a new column"
   ]
  },
  {
   "cell_type": "code",
   "execution_count": 26,
   "metadata": {
    "id": "9xat-flNCs7d"
   },
   "outputs": [],
   "source": [
    "clickbait = [labels[np.argmax(logits)] for _, logits in enumerate(pred_logits[0])]\n",
    "df['clickbait'] = clickbait"
   ]
  },
  {
   "cell_type": "code",
   "execution_count": 28,
   "metadata": {
    "colab": {
     "base_uri": "https://localhost:8080/",
     "height": 530
    },
    "id": "tapuUNnIDvVo",
    "outputId": "dc54b05e-cf52-4a92-9743-3994c91d5009"
   },
   "outputs": [
    {
     "data": {
      "text/html": [
       "<div>\n",
       "<style scoped>\n",
       "    .dataframe tbody tr th:only-of-type {\n",
       "        vertical-align: middle;\n",
       "    }\n",
       "\n",
       "    .dataframe tbody tr th {\n",
       "        vertical-align: top;\n",
       "    }\n",
       "\n",
       "    .dataframe thead th {\n",
       "        text-align: right;\n",
       "    }\n",
       "</style>\n",
       "<table border=\"1\" class=\"dataframe\">\n",
       "  <thead>\n",
       "    <tr style=\"text-align: right;\">\n",
       "      <th></th>\n",
       "      <th>tweet_id</th>\n",
       "      <th>date</th>\n",
       "      <th>user</th>\n",
       "      <th>party</th>\n",
       "      <th>state</th>\n",
       "      <th>chamber</th>\n",
       "      <th>tweet</th>\n",
       "      <th>news_mention</th>\n",
       "      <th>url_reference</th>\n",
       "      <th>netloc</th>\n",
       "      <th>title</th>\n",
       "      <th>description</th>\n",
       "      <th>label</th>\n",
       "      <th>clickbait</th>\n",
       "    </tr>\n",
       "  </thead>\n",
       "  <tbody>\n",
       "    <tr>\n",
       "      <th>0</th>\n",
       "      <td>1325914751495499776</td>\n",
       "      <td>2020-11-09 21:34:45</td>\n",
       "      <td>SenShelby</td>\n",
       "      <td>R</td>\n",
       "      <td>Alabama</td>\n",
       "      <td>Senator</td>\n",
       "      <td>ICYMI – @BusinessInsider declared #Huntsville ...</td>\n",
       "      <td>businessinsider</td>\n",
       "      <td>https://www.businessinsider.com/personal-finan...</td>\n",
       "      <td>www.businessinsider.com</td>\n",
       "      <td>The 10 best US cities to move to if you want t...</td>\n",
       "      <td>The best US cities to move to if you want to s...</td>\n",
       "      <td></td>\n",
       "      <td>clickbait</td>\n",
       "    </tr>\n",
       "    <tr>\n",
       "      <th>1</th>\n",
       "      <td>1294021087118987264</td>\n",
       "      <td>2020-08-13 21:20:43</td>\n",
       "      <td>SenShelby</td>\n",
       "      <td>R</td>\n",
       "      <td>Alabama</td>\n",
       "      <td>Senator</td>\n",
       "      <td>Great news! Today @mazda_toyota announced an a...</td>\n",
       "      <td></td>\n",
       "      <td>https://pressroom.toyota.com/mazda-and-toyota-...</td>\n",
       "      <td>pressroom.toyota.com</td>\n",
       "      <td>Mazda and Toyota Further Commitment to U.S. Ma...</td>\n",
       "      <td>HUNTSVILLE, Ala., (Aug. 13, 2020) – Today, Maz...</td>\n",
       "      <td></td>\n",
       "      <td>not clickbait</td>\n",
       "    </tr>\n",
       "    <tr>\n",
       "      <th>2</th>\n",
       "      <td>1323340848130609156</td>\n",
       "      <td>2020-11-02 19:06:59</td>\n",
       "      <td>DougJones</td>\n",
       "      <td>D</td>\n",
       "      <td>Alabama</td>\n",
       "      <td>Senator</td>\n",
       "      <td>He’s already quitting on the folks of Alabama ...</td>\n",
       "      <td></td>\n",
       "      <td>https://apnews.com/article/c73f0dfe8008ebaf85e...</td>\n",
       "      <td>apnews.com</td>\n",
       "      <td>Tuberville, Jones fight for Senate seat in Ala...</td>\n",
       "      <td>GARDENDALE, Ala. (AP) — U.S. Sen. Doug Jones, ...</td>\n",
       "      <td></td>\n",
       "      <td>not clickbait</td>\n",
       "    </tr>\n",
       "    <tr>\n",
       "      <th>3</th>\n",
       "      <td>1323004075831709698</td>\n",
       "      <td>2020-11-01 20:48:46</td>\n",
       "      <td>DougJones</td>\n",
       "      <td>D</td>\n",
       "      <td>Alabama</td>\n",
       "      <td>Senator</td>\n",
       "      <td>I know you guys are getting bombarded with fun...</td>\n",
       "      <td></td>\n",
       "      <td>https://secure.actblue.com/donate/djfs-close?r...</td>\n",
       "      <td>secure.actblue.com</td>\n",
       "      <td>I just gave!</td>\n",
       "      <td>Join us! Contribute today.</td>\n",
       "      <td>negiotated</td>\n",
       "      <td>clickbait</td>\n",
       "    </tr>\n",
       "    <tr>\n",
       "      <th>4</th>\n",
       "      <td>1322567531320717314</td>\n",
       "      <td>2020-10-31 15:54:06</td>\n",
       "      <td>DougJones</td>\n",
       "      <td>D</td>\n",
       "      <td>Alabama</td>\n",
       "      <td>Senator</td>\n",
       "      <td>Well looky here folks, his own players don’t t...</td>\n",
       "      <td></td>\n",
       "      <td>https://slate.com/culture/2020/10/tommy-tuberv...</td>\n",
       "      <td>slate.com</td>\n",
       "      <td>What Tommy Tuberville’s Former Auburn Players ...</td>\n",
       "      <td>\"All I could think is, why?\"</td>\n",
       "      <td></td>\n",
       "      <td>not clickbait</td>\n",
       "    </tr>\n",
       "  </tbody>\n",
       "</table>\n",
       "</div>"
      ],
      "text/plain": [
       "              tweet_id                date  ...       label      clickbait\n",
       "0  1325914751495499776 2020-11-09 21:34:45  ...                  clickbait\n",
       "1  1294021087118987264 2020-08-13 21:20:43  ...              not clickbait\n",
       "2  1323340848130609156 2020-11-02 19:06:59  ...              not clickbait\n",
       "3  1323004075831709698 2020-11-01 20:48:46  ...  negiotated      clickbait\n",
       "4  1322567531320717314 2020-10-31 15:54:06  ...              not clickbait\n",
       "\n",
       "[5 rows x 14 columns]"
      ]
     },
     "execution_count": 28,
     "metadata": {
      "tags": []
     },
     "output_type": "execute_result"
    }
   ],
   "source": [
    "df.head()"
   ]
  },
  {
   "cell_type": "markdown",
   "metadata": {
    "id": "gleriRcMENot"
   },
   "source": [
    "Great! The prediction for each tweet can be checked looking at its value for the 'clickbait' field. Now, I will divide the dataset in two subsets: tweets made by republicans, and tweets made by democrats"
   ]
  },
  {
   "cell_type": "code",
   "execution_count": 30,
   "metadata": {
    "id": "xFVSoCQZDxBc"
   },
   "outputs": [],
   "source": [
    "df_dem = df[df.party == 'D']\n",
    "df_rep = df[df.party == 'R']"
   ]
  },
  {
   "cell_type": "markdown",
   "metadata": {
    "id": "IdoSLkLSEtwv"
   },
   "source": [
    "Finally, we will check how many times did republican politicians tweet the title of a clickbait article, and how many times did democrat politicians do that as well"
   ]
  },
  {
   "cell_type": "code",
   "execution_count": 44,
   "metadata": {
    "colab": {
     "base_uri": "https://localhost:8080/"
    },
    "id": "N64zQGeYE8zO",
    "outputId": "561adafe-007f-4141-d3b1-c5a7045b6569"
   },
   "outputs": [
    {
     "name": "stdout",
     "output_type": "stream",
     "text": [
      "Number of times democrats have shared articles with clickbait titles: 2019\n",
      "Number of times republicans have shared articles with clickbait titles: 736\n"
     ]
    }
   ],
   "source": [
    "print(f\"Number of times democrats have shared articles with clickbait titles: {df_dem[df_dem.clickbait == 'clickbait'].shape[0]}\")\n",
    "print(f\"Number of times republicans have shared articles with clickbait titles: {df_rep[df_rep.clickbait == 'clickbait'].shape[0]}\")"
   ]
  },
  {
   "cell_type": "markdown",
   "metadata": {
    "id": "dOnYPUgCGHGC"
   },
   "source": [
    "Interesting! Democrats seem to have share significantly more articles with clickbait titles. We should consider the possibility that these numbers are actually due to the fact there are less tweets by republicans in our database than there are by democrats, since although the initial impression that this data gives is that democrats are more likely to share clickbait articles it could change when the number is put in proportion."
   ]
  },
  {
   "cell_type": "code",
   "execution_count": 45,
   "metadata": {
    "colab": {
     "base_uri": "https://localhost:8080/"
    },
    "id": "uSALhgHeFBno",
    "outputId": "1e54b349-1d29-430a-c6fc-b21fdc02d528"
   },
   "outputs": [
    {
     "name": "stdout",
     "output_type": "stream",
     "text": [
      "Percentage of tweets made by democrat politicians that shared a clickbait article: 12.97\n",
      "Percentage of tweets made by republican politicians that shared a clickbait article:  9.47\n"
     ]
    }
   ],
   "source": [
    "print(f\"Percentage of tweets made by democrat politicians that shared a clickbait article: {round(100 * (df_dem[df_dem.clickbait == 'clickbait'].shape[0] / df_dem.shape[0]), 2)}\")\n",
    "print(f\"Percentage of tweets made by republican politicians that shared a clickbait article:  {round(100 * (df_rep[df_rep.clickbait == 'clickbait'].shape[0] / df_rep.shape[0]), 2)}\")"
   ]
  },
  {
   "cell_type": "markdown",
   "metadata": {
    "id": "EHWLnOeIH8A0"
   },
   "source": [
    "It seems like proportionally democrats still link to clickbait articles in their tweets more often than republicans do, even if the difference now doesn't seem as drastic as it did when I compared the absolute count of the tweets of both subsets."
   ]
  },
  {
   "cell_type": "markdown",
   "metadata": {},
   "source": [
    "## Conclusion"
   ]
  },
  {
   "cell_type": "markdown",
   "metadata": {},
   "source": [
    "In the dataset we were provided with, more clickbait articles have been shared by democrats than by republicans. I have determined whether each article title can be considered clickbait or not by training a DistilBERT model with a dataset of already labeled article titles. A possibility I considered was that, while in appeareance democrats did share more articles with clickbait titles, it was only due to them being more represented in the dataset than republicans. While it is true that they are more represented in our data, the percentage of their tweets that shared articles with clickbait titles is higher than the one for republican politicians (12.97% and 9.47%, respectively)"
   ]
  }
 ],
 "metadata": {
  "accelerator": "GPU",
  "colab": {
   "collapsed_sections": [],
   "name": "Exam - Q1.ipynb",
   "provenance": [],
   "toc_visible": true
  },
  "kernelspec": {
   "display_name": "ADS",
   "language": "python",
   "name": "ads"
  },
  "language_info": {
   "codemirror_mode": {
    "name": "ipython",
    "version": 3
   },
   "file_extension": ".py",
   "mimetype": "text/x-python",
   "name": "python",
   "nbconvert_exporter": "python",
   "pygments_lexer": "ipython3",
   "version": "3.7.9"
  },
  "widgets": {
   "application/vnd.jupyter.widget-state+json": {
    "0175da6745744fa192f129d8a2d25ab5": {
     "model_module": "@jupyter-widgets/base",
     "model_name": "LayoutModel",
     "state": {
      "_model_module": "@jupyter-widgets/base",
      "_model_module_version": "1.2.0",
      "_model_name": "LayoutModel",
      "_view_count": null,
      "_view_module": "@jupyter-widgets/base",
      "_view_module_version": "1.2.0",
      "_view_name": "LayoutView",
      "align_content": null,
      "align_items": null,
      "align_self": null,
      "border": null,
      "bottom": null,
      "display": null,
      "flex": null,
      "flex_flow": null,
      "grid_area": null,
      "grid_auto_columns": null,
      "grid_auto_flow": null,
      "grid_auto_rows": null,
      "grid_column": null,
      "grid_gap": null,
      "grid_row": null,
      "grid_template_areas": null,
      "grid_template_columns": null,
      "grid_template_rows": null,
      "height": null,
      "justify_content": null,
      "justify_items": null,
      "left": null,
      "margin": null,
      "max_height": null,
      "max_width": null,
      "min_height": null,
      "min_width": null,
      "object_fit": null,
      "object_position": null,
      "order": null,
      "overflow": null,
      "overflow_x": null,
      "overflow_y": null,
      "padding": null,
      "right": null,
      "top": null,
      "visibility": null,
      "width": null
     }
    },
    "069a404e2509445d9f0211f4e6cbfa14": {
     "model_module": "@jupyter-widgets/controls",
     "model_name": "FloatProgressModel",
     "state": {
      "_dom_classes": [],
      "_model_module": "@jupyter-widgets/controls",
      "_model_module_version": "1.5.0",
      "_model_name": "FloatProgressModel",
      "_view_count": null,
      "_view_module": "@jupyter-widgets/controls",
      "_view_module_version": "1.5.0",
      "_view_name": "ProgressView",
      "bar_style": "success",
      "description": "Downloading: 100%",
      "description_tooltip": null,
      "layout": "IPY_MODEL_3ae20d66dcc84b2b81ee60724a190d08",
      "max": 354041576,
      "min": 0,
      "orientation": "horizontal",
      "style": "IPY_MODEL_7d11852833d6463e8775ce75ad4acdbf",
      "value": 354041576
     }
    },
    "1d30a4090e47492098c9faf317c2a065": {
     "model_module": "@jupyter-widgets/base",
     "model_name": "LayoutModel",
     "state": {
      "_model_module": "@jupyter-widgets/base",
      "_model_module_version": "1.2.0",
      "_model_name": "LayoutModel",
      "_view_count": null,
      "_view_module": "@jupyter-widgets/base",
      "_view_module_version": "1.2.0",
      "_view_name": "LayoutView",
      "align_content": null,
      "align_items": null,
      "align_self": null,
      "border": null,
      "bottom": null,
      "display": null,
      "flex": null,
      "flex_flow": null,
      "grid_area": null,
      "grid_auto_columns": null,
      "grid_auto_flow": null,
      "grid_auto_rows": null,
      "grid_column": null,
      "grid_gap": null,
      "grid_row": null,
      "grid_template_areas": null,
      "grid_template_columns": null,
      "grid_template_rows": null,
      "height": null,
      "justify_content": null,
      "justify_items": null,
      "left": null,
      "margin": null,
      "max_height": null,
      "max_width": null,
      "min_height": null,
      "min_width": null,
      "object_fit": null,
      "object_position": null,
      "order": null,
      "overflow": null,
      "overflow_x": null,
      "overflow_y": null,
      "padding": null,
      "right": null,
      "top": null,
      "visibility": null,
      "width": null
     }
    },
    "200d1e34611744f8b925ab2e264ca245": {
     "model_module": "@jupyter-widgets/base",
     "model_name": "LayoutModel",
     "state": {
      "_model_module": "@jupyter-widgets/base",
      "_model_module_version": "1.2.0",
      "_model_name": "LayoutModel",
      "_view_count": null,
      "_view_module": "@jupyter-widgets/base",
      "_view_module_version": "1.2.0",
      "_view_name": "LayoutView",
      "align_content": null,
      "align_items": null,
      "align_self": null,
      "border": null,
      "bottom": null,
      "display": null,
      "flex": null,
      "flex_flow": null,
      "grid_area": null,
      "grid_auto_columns": null,
      "grid_auto_flow": null,
      "grid_auto_rows": null,
      "grid_column": null,
      "grid_gap": null,
      "grid_row": null,
      "grid_template_areas": null,
      "grid_template_columns": null,
      "grid_template_rows": null,
      "height": null,
      "justify_content": null,
      "justify_items": null,
      "left": null,
      "margin": null,
      "max_height": null,
      "max_width": null,
      "min_height": null,
      "min_width": null,
      "object_fit": null,
      "object_position": null,
      "order": null,
      "overflow": null,
      "overflow_x": null,
      "overflow_y": null,
      "padding": null,
      "right": null,
      "top": null,
      "visibility": null,
      "width": null
     }
    },
    "24330a99b1ed4f82bd21cfd01e897a2a": {
     "model_module": "@jupyter-widgets/controls",
     "model_name": "ProgressStyleModel",
     "state": {
      "_model_module": "@jupyter-widgets/controls",
      "_model_module_version": "1.5.0",
      "_model_name": "ProgressStyleModel",
      "_view_count": null,
      "_view_module": "@jupyter-widgets/base",
      "_view_module_version": "1.2.0",
      "_view_name": "StyleView",
      "bar_color": null,
      "description_width": "initial"
     }
    },
    "3ae20d66dcc84b2b81ee60724a190d08": {
     "model_module": "@jupyter-widgets/base",
     "model_name": "LayoutModel",
     "state": {
      "_model_module": "@jupyter-widgets/base",
      "_model_module_version": "1.2.0",
      "_model_name": "LayoutModel",
      "_view_count": null,
      "_view_module": "@jupyter-widgets/base",
      "_view_module_version": "1.2.0",
      "_view_name": "LayoutView",
      "align_content": null,
      "align_items": null,
      "align_self": null,
      "border": null,
      "bottom": null,
      "display": null,
      "flex": null,
      "flex_flow": null,
      "grid_area": null,
      "grid_auto_columns": null,
      "grid_auto_flow": null,
      "grid_auto_rows": null,
      "grid_column": null,
      "grid_gap": null,
      "grid_row": null,
      "grid_template_areas": null,
      "grid_template_columns": null,
      "grid_template_rows": null,
      "height": null,
      "justify_content": null,
      "justify_items": null,
      "left": null,
      "margin": null,
      "max_height": null,
      "max_width": null,
      "min_height": null,
      "min_width": null,
      "object_fit": null,
      "object_position": null,
      "order": null,
      "overflow": null,
      "overflow_x": null,
      "overflow_y": null,
      "padding": null,
      "right": null,
      "top": null,
      "visibility": null,
      "width": null
     }
    },
    "5d44e7502a1647f884bd6ef57655fe31": {
     "model_module": "@jupyter-widgets/controls",
     "model_name": "DescriptionStyleModel",
     "state": {
      "_model_module": "@jupyter-widgets/controls",
      "_model_module_version": "1.5.0",
      "_model_name": "DescriptionStyleModel",
      "_view_count": null,
      "_view_module": "@jupyter-widgets/base",
      "_view_module_version": "1.2.0",
      "_view_name": "StyleView",
      "description_width": ""
     }
    },
    "60439d60b6824f4987e9179391761ec3": {
     "model_module": "@jupyter-widgets/controls",
     "model_name": "HTMLModel",
     "state": {
      "_dom_classes": [],
      "_model_module": "@jupyter-widgets/controls",
      "_model_module_version": "1.5.0",
      "_model_name": "HTMLModel",
      "_view_count": null,
      "_view_module": "@jupyter-widgets/controls",
      "_view_module_version": "1.5.0",
      "_view_name": "HTMLView",
      "description": "",
      "description_tooltip": null,
      "layout": "IPY_MODEL_200d1e34611744f8b925ab2e264ca245",
      "placeholder": "​",
      "style": "IPY_MODEL_5d44e7502a1647f884bd6ef57655fe31",
      "value": " 354M/354M [00:05&lt;00:00, 62.4MB/s]"
     }
    },
    "6b226755b24b4aa6b674eadfe74f2b32": {
     "model_module": "@jupyter-widgets/controls",
     "model_name": "HTMLModel",
     "state": {
      "_dom_classes": [],
      "_model_module": "@jupyter-widgets/controls",
      "_model_module_version": "1.5.0",
      "_model_name": "HTMLModel",
      "_view_count": null,
      "_view_module": "@jupyter-widgets/controls",
      "_view_module_version": "1.5.0",
      "_view_name": "HTMLView",
      "description": "",
      "description_tooltip": null,
      "layout": "IPY_MODEL_783d7f0e85bc433795a182339194ad38",
      "placeholder": "​",
      "style": "IPY_MODEL_7339321e2c214bf0b0e984418d35f1e0",
      "value": " 411/411 [00:06&lt;00:00, 65.8B/s]"
     }
    },
    "7339321e2c214bf0b0e984418d35f1e0": {
     "model_module": "@jupyter-widgets/controls",
     "model_name": "DescriptionStyleModel",
     "state": {
      "_model_module": "@jupyter-widgets/controls",
      "_model_module_version": "1.5.0",
      "_model_name": "DescriptionStyleModel",
      "_view_count": null,
      "_view_module": "@jupyter-widgets/base",
      "_view_module_version": "1.2.0",
      "_view_name": "StyleView",
      "description_width": ""
     }
    },
    "783d7f0e85bc433795a182339194ad38": {
     "model_module": "@jupyter-widgets/base",
     "model_name": "LayoutModel",
     "state": {
      "_model_module": "@jupyter-widgets/base",
      "_model_module_version": "1.2.0",
      "_model_name": "LayoutModel",
      "_view_count": null,
      "_view_module": "@jupyter-widgets/base",
      "_view_module_version": "1.2.0",
      "_view_name": "LayoutView",
      "align_content": null,
      "align_items": null,
      "align_self": null,
      "border": null,
      "bottom": null,
      "display": null,
      "flex": null,
      "flex_flow": null,
      "grid_area": null,
      "grid_auto_columns": null,
      "grid_auto_flow": null,
      "grid_auto_rows": null,
      "grid_column": null,
      "grid_gap": null,
      "grid_row": null,
      "grid_template_areas": null,
      "grid_template_columns": null,
      "grid_template_rows": null,
      "height": null,
      "justify_content": null,
      "justify_items": null,
      "left": null,
      "margin": null,
      "max_height": null,
      "max_width": null,
      "min_height": null,
      "min_width": null,
      "object_fit": null,
      "object_position": null,
      "order": null,
      "overflow": null,
      "overflow_x": null,
      "overflow_y": null,
      "padding": null,
      "right": null,
      "top": null,
      "visibility": null,
      "width": null
     }
    },
    "7d11852833d6463e8775ce75ad4acdbf": {
     "model_module": "@jupyter-widgets/controls",
     "model_name": "ProgressStyleModel",
     "state": {
      "_model_module": "@jupyter-widgets/controls",
      "_model_module_version": "1.5.0",
      "_model_name": "ProgressStyleModel",
      "_view_count": null,
      "_view_module": "@jupyter-widgets/base",
      "_view_module_version": "1.2.0",
      "_view_name": "StyleView",
      "bar_color": null,
      "description_width": "initial"
     }
    },
    "8a24a502ff994927aead895e463fd24a": {
     "model_module": "@jupyter-widgets/controls",
     "model_name": "FloatProgressModel",
     "state": {
      "_dom_classes": [],
      "_model_module": "@jupyter-widgets/controls",
      "_model_module_version": "1.5.0",
      "_model_name": "FloatProgressModel",
      "_view_count": null,
      "_view_module": "@jupyter-widgets/controls",
      "_view_module_version": "1.5.0",
      "_view_name": "ProgressView",
      "bar_style": "success",
      "description": "Downloading: 100%",
      "description_tooltip": null,
      "layout": "IPY_MODEL_e43726dc09544506aed6aa395fd341f8",
      "max": 411,
      "min": 0,
      "orientation": "horizontal",
      "style": "IPY_MODEL_24330a99b1ed4f82bd21cfd01e897a2a",
      "value": 411
     }
    },
    "a1b519eda0bb406ebd5c1e6b1facf6bb": {
     "model_module": "@jupyter-widgets/controls",
     "model_name": "HBoxModel",
     "state": {
      "_dom_classes": [],
      "_model_module": "@jupyter-widgets/controls",
      "_model_module_version": "1.5.0",
      "_model_name": "HBoxModel",
      "_view_count": null,
      "_view_module": "@jupyter-widgets/controls",
      "_view_module_version": "1.5.0",
      "_view_name": "HBoxView",
      "box_style": "",
      "children": [
       "IPY_MODEL_8a24a502ff994927aead895e463fd24a",
       "IPY_MODEL_6b226755b24b4aa6b674eadfe74f2b32"
      ],
      "layout": "IPY_MODEL_1d30a4090e47492098c9faf317c2a065"
     }
    },
    "d640867ce8444560bc6ffb8350700220": {
     "model_module": "@jupyter-widgets/controls",
     "model_name": "HBoxModel",
     "state": {
      "_dom_classes": [],
      "_model_module": "@jupyter-widgets/controls",
      "_model_module_version": "1.5.0",
      "_model_name": "HBoxModel",
      "_view_count": null,
      "_view_module": "@jupyter-widgets/controls",
      "_view_module_version": "1.5.0",
      "_view_name": "HBoxView",
      "box_style": "",
      "children": [
       "IPY_MODEL_069a404e2509445d9f0211f4e6cbfa14",
       "IPY_MODEL_60439d60b6824f4987e9179391761ec3"
      ],
      "layout": "IPY_MODEL_0175da6745744fa192f129d8a2d25ab5"
     }
    },
    "e43726dc09544506aed6aa395fd341f8": {
     "model_module": "@jupyter-widgets/base",
     "model_name": "LayoutModel",
     "state": {
      "_model_module": "@jupyter-widgets/base",
      "_model_module_version": "1.2.0",
      "_model_name": "LayoutModel",
      "_view_count": null,
      "_view_module": "@jupyter-widgets/base",
      "_view_module_version": "1.2.0",
      "_view_name": "LayoutView",
      "align_content": null,
      "align_items": null,
      "align_self": null,
      "border": null,
      "bottom": null,
      "display": null,
      "flex": null,
      "flex_flow": null,
      "grid_area": null,
      "grid_auto_columns": null,
      "grid_auto_flow": null,
      "grid_auto_rows": null,
      "grid_column": null,
      "grid_gap": null,
      "grid_row": null,
      "grid_template_areas": null,
      "grid_template_columns": null,
      "grid_template_rows": null,
      "height": null,
      "justify_content": null,
      "justify_items": null,
      "left": null,
      "margin": null,
      "max_height": null,
      "max_width": null,
      "min_height": null,
      "min_width": null,
      "object_fit": null,
      "object_position": null,
      "order": null,
      "overflow": null,
      "overflow_x": null,
      "overflow_y": null,
      "padding": null,
      "right": null,
      "top": null,
      "visibility": null,
      "width": null
     }
    }
   }
  }
 },
 "nbformat": 4,
 "nbformat_minor": 1
}
