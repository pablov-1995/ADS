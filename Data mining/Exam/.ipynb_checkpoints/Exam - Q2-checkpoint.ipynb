{
 "cells": [
  {
   "cell_type": "markdown",
   "metadata": {},
   "source": [
    "# Data Mining: exam text analysis"
   ]
  },
  {
   "cell_type": "markdown",
   "metadata": {},
   "source": [
    "- Pablo Vizán Siso\n",
    "- 7438214"
   ]
  },
  {
   "cell_type": "markdown",
   "metadata": {},
   "source": [
    "## Question 2"
   ]
  },
  {
   "cell_type": "markdown",
   "metadata": {},
   "source": [
    "### Choose two genres from the song dataset from exercise 3.1 to examine and compare the gender bias in songs of both genres. Explain why the two genres you choose are relevant to compare in this context, and formulate a hypothesis."
   ]
  },
  {
   "cell_type": "markdown",
   "metadata": {},
   "source": [
    "The genres I will choose are Pop and Metal. I think it is interesting to compare this to genres because of how different they are:\n",
    "\n",
    "- Pop is a genre that has mainstream appeal. The lyrics usually deal with experiences that are common to most people: love, relationships, friends, parties, etc. Personally, I feel popstars are not mostly men nor women, or if they are is not by a long shot. Analogously, I also expect the audience to be rather homogenuous in terms of gender.\n",
    "\n",
    "\n",
    "- Metal, on the other hand, has more of an alternative appeal. The lyrics usually do not deal with mainstream topics like the ones pop deals with, but rather evoke fantasy and horror imagery, as well as feelings of pain and anger. My impression is that most metal music is created by male artists and in general more targeted to a male-dominated audience.\n",
    "\n",
    "Given my initial assumptions, I am going to test the hypothesis that **metal music has a more pronounced gender bias towards men than pop**."
   ]
  },
  {
   "cell_type": "markdown",
   "metadata": {},
   "source": [
    "### Train two word embeddings models (one for each genre), and use the lists of female and male words uploaded to BB (Assignments / exam 1 / question 2) for your analysis. Compare the biases between the two genres you choose using the method by Wevers. Interpret the results and relate them to your hypothesis."
   ]
  },
  {
   "cell_type": "markdown",
   "metadata": {},
   "source": [
    "Below, I will import the necessary packages for the analysis"
   ]
  },
  {
   "cell_type": "code",
   "execution_count": 1,
   "metadata": {},
   "outputs": [],
   "source": [
    "# Counter\n",
    "from collections import Counter\n",
    "\n",
    "# gensim\n",
    "import gensim\n",
    "from gensim.corpora import Dictionary\n",
    "from gensim.models import CoherenceModel, Word2Vec\n",
    "from gensim.models.wrappers import LdaMallet\n",
    "\n",
    "# json\n",
    "import json\n",
    "\n",
    "# matplotlib\n",
    "from matplotlib import pyplot as plt\n",
    "\n",
    "# numpy\n",
    "import numpy as np\n",
    "\n",
    "# pandas\n",
    "import pandas as pd\n",
    "\n",
    "# pickle\n",
    "import pickle\n",
    "\n",
    "# pyLDAvis\n",
    "import pyLDAvis\n",
    "import pyLDAvis.gensim\n",
    "\n",
    "# tqdm\n",
    "from tqdm import tqdm, tqdm_notebook\n",
    "\n",
    "# spacy\n",
    "import spacy\n",
    "nlp = spacy.load(\"en_core_web_sm\")"
   ]
  },
  {
   "cell_type": "markdown",
   "metadata": {},
   "source": [
    "I will start by processing the lyrics of the pop and metal songs of the dataset. I will exclude those songs from years where there were less than 50 songs of the particular genre.\n",
    "\n",
    "I will also save the lemmas of the lyrics to a json file, so I don't have to rerun the tokenizer every time I restart the runtime."
   ]
  },
  {
   "cell_type": "code",
   "execution_count": 2,
   "metadata": {},
   "outputs": [],
   "source": [
    "PATH_DF = 'english_cleaned_lyrics.csv'\n",
    "PATH_CORRECTION = 'indx2newdate.p'\n",
    "\n",
    "def load_dataset(data_path, path_correction):\n",
    "    df = pd.read_csv(data_path)\n",
    "    indx2newdate = pickle.load(open(PATH_CORRECTION, 'rb'))\n",
    "    df['year'] = df['index'].apply(lambda x: int(indx2newdate[x][0][:4]) if indx2newdate[x][0] != '' else 0)\n",
    "    return df[df.year > 1960][['song', 'year', 'artist', 'genre', 'lyrics']]\n",
    "    \n",
    "dataset = load_dataset(PATH_DF, PATH_CORRECTION)"
   ]
  },
  {
   "cell_type": "code",
   "execution_count": null,
   "metadata": {},
   "outputs": [],
   "source": [
    "pop = dataset[dataset.genre == \"Pop\"]\n",
    "pop_ids = pop.groupby(by=\"year\").count()[\"song\"].apply(lambda v: v if v <= 50 else None).dropna().index\n",
    "pop_data = pop[~pop.year.isin(pop_ids)].lyrics.values\n",
    "\n",
    "processed_texts = [text \n",
    "                   for text in tqdm_notebook(\n",
    "                       nlp.pipe(\n",
    "                           pop_data, n_process=-1, disable=[\"ner\", \"parser\"]\n",
    "                           ), total=len(data)\n",
    "                   )\n",
    "                   ]\n",
    "pop_lemma = [\n",
    "         [token.lemma_ for token in text if not token.is_punct and not token.is_stop] \n",
    "         for text in processed_texts\n",
    "         ]\n",
    "with open('pop_lemma.json', 'w') as file:\n",
    "    json.dump(pop_lemma, file)"
   ]
  },
  {
   "cell_type": "code",
   "execution_count": null,
   "metadata": {},
   "outputs": [],
   "source": [
    "metal = dataset[dataset.genre == \"Metal\"]\n",
    "metal_ids = metal.groupby(by=\"year\").count()[\"song\"].apply(lambda v: v if v <= 50 else None).dropna().index\n",
    "metal_data = metal[~metal.year.isin(metal_ids)].lyrics.values\n",
    "\n",
    "processed_texts = [text \n",
    "                   for text in tqdm_notebook(\n",
    "                       nlp.pipe(\n",
    "                           metal_data, n_process=-1, disable=[\"ner\", \"parser\"]\n",
    "                           ), total=len(data)\n",
    "                   )\n",
    "                   ]\n",
    "metal_lemma = [\n",
    "         [token.lemma_ for token in text if not token.is_punct and not token.is_stop] \n",
    "         for text in processed_texts\n",
    "         ]\n",
    "with open('metal_lemma.json', 'w') as file:\n",
    "    json.dump(metal_lemma, file)"
   ]
  },
  {
   "cell_type": "code",
   "execution_count": 16,
   "metadata": {},
   "outputs": [],
   "source": [
    "with open('pop_lemma.json') as json_file:\n",
    "    pop_lemma = json.load(json_file)\n",
    "    \n",
    "with open('metal_lemma.json') as json_file:\n",
    "    metal_lemma = json.load(json_file)"
   ]
  },
  {
   "cell_type": "markdown",
   "metadata": {},
   "source": [
    "Now, I will create two models (one for each genre) and train them with their respective dictionaries of lemmas."
   ]
  },
  {
   "cell_type": "code",
   "execution_count": 17,
   "metadata": {},
   "outputs": [
    {
     "data": {
      "text/plain": [
       "(9218085, 11465035)"
      ]
     },
     "execution_count": 17,
     "metadata": {},
     "output_type": "execute_result"
    }
   ],
   "source": [
    "SIZE = 300 \n",
    "SG = 1 \n",
    "WINDOW = 10 \n",
    "N_WORKERS = 1 \n",
    "MIN_COUNT = 5\n",
    "\n",
    "pop_model = Word2Vec(size=SIZE,\n",
    "                sg=SG,\n",
    "                window=WINDOW, \n",
    "                min_count=MIN_COUNT,\n",
    "                workers=N_WORKERS)\n",
    "\n",
    "pop_model.build_vocab(pop_lemma)\n",
    "\n",
    "pop_model.train(pop_lemma,\n",
    "           total_examples=pop_model.corpus_count,\n",
    "           epochs=pop_model.epochs) "
   ]
  },
  {
   "cell_type": "code",
   "execution_count": 18,
   "metadata": {},
   "outputs": [
    {
     "data": {
      "text/plain": [
       "(5695530, 6400640)"
      ]
     },
     "execution_count": 18,
     "metadata": {},
     "output_type": "execute_result"
    }
   ],
   "source": [
    "metal_model = Word2Vec(size=SIZE,\n",
    "                sg=SG,\n",
    "                window=WINDOW, \n",
    "                min_count=MIN_COUNT,\n",
    "                workers=N_WORKERS)\n",
    "\n",
    "metal_model.build_vocab(metal_lemma)\n",
    "\n",
    "metal_model.train(metal_lemma,\n",
    "           total_examples=metal_model.corpus_count,\n",
    "           epochs=metal_model.epochs)"
   ]
  },
  {
   "cell_type": "markdown",
   "metadata": {},
   "source": [
    "Let's now open word_cats.p. This file contains words representing the following categories: \n",
    "\n",
    "- affect: Affect\n",
    "- posemo: Positive emotions\n",
    "- negemo: Negative emotions\n",
    "- social: Social\n",
    "- family: Family\n",
    "- cogproc: Cognitive Processes\n",
    "- percept: Perceptual Processes\n",
    "- body: Body\n",
    "- work: Word\n",
    "- leisure: Leisure\n",
    "- money: Money\n",
    "- relig: Religion\n",
    "- occupation: Occupation"
   ]
  },
  {
   "cell_type": "code",
   "execution_count": 19,
   "metadata": {},
   "outputs": [],
   "source": [
    "word_cats = pickle.load(open('word_cats.p', 'rb'))"
   ]
  },
  {
   "cell_type": "code",
   "execution_count": 27,
   "metadata": {},
   "outputs": [
    {
     "data": {
      "text/html": [
       "<div>\n",
       "<style scoped>\n",
       "    .dataframe tbody tr th:only-of-type {\n",
       "        vertical-align: middle;\n",
       "    }\n",
       "\n",
       "    .dataframe tbody tr th {\n",
       "        vertical-align: top;\n",
       "    }\n",
       "\n",
       "    .dataframe thead th {\n",
       "        text-align: right;\n",
       "    }\n",
       "</style>\n",
       "<table border=\"1\" class=\"dataframe\">\n",
       "  <thead>\n",
       "    <tr style=\"text-align: right;\">\n",
       "      <th></th>\n",
       "      <th>affect</th>\n",
       "      <th>posemo</th>\n",
       "      <th>negemo</th>\n",
       "      <th>social</th>\n",
       "      <th>family</th>\n",
       "      <th>cogproc</th>\n",
       "      <th>percept</th>\n",
       "      <th>body</th>\n",
       "      <th>work</th>\n",
       "      <th>leisure</th>\n",
       "      <th>money</th>\n",
       "      <th>relig</th>\n",
       "      <th>occupation</th>\n",
       "    </tr>\n",
       "  </thead>\n",
       "  <tbody>\n",
       "    <tr>\n",
       "      <th>0</th>\n",
       "      <td>protesting</td>\n",
       "      <td>incentive</td>\n",
       "      <td>destruction</td>\n",
       "      <td>chick</td>\n",
       "      <td>ma's</td>\n",
       "      <td>comply</td>\n",
       "      <td>squeez</td>\n",
       "      <td>pussy</td>\n",
       "      <td>dotcom</td>\n",
       "      <td>dnd</td>\n",
       "      <td>portfolio</td>\n",
       "      <td>goddess</td>\n",
       "      <td>accountant</td>\n",
       "    </tr>\n",
       "    <tr>\n",
       "      <th>1</th>\n",
       "      <td>pretty</td>\n",
       "      <td>luck</td>\n",
       "      <td>beaten</td>\n",
       "      <td>ma's</td>\n",
       "      <td>niece</td>\n",
       "      <td>luck</td>\n",
       "      <td>sand</td>\n",
       "      <td>wears</td>\n",
       "      <td>employee</td>\n",
       "      <td>vacation</td>\n",
       "      <td>sale</td>\n",
       "      <td>karma</td>\n",
       "      <td>actor</td>\n",
       "    </tr>\n",
       "    <tr>\n",
       "      <th>2</th>\n",
       "      <td>sighs</td>\n",
       "      <td>freeing</td>\n",
       "      <td>battl</td>\n",
       "      <td>lets</td>\n",
       "      <td>stepkid</td>\n",
       "      <td>unquestion</td>\n",
       "      <td>moist</td>\n",
       "      <td>hearts</td>\n",
       "      <td>paper</td>\n",
       "      <td>hobb</td>\n",
       "      <td>stores</td>\n",
       "      <td>pastor</td>\n",
       "      <td>actress</td>\n",
       "    </tr>\n",
       "    <tr>\n",
       "      <th>3</th>\n",
       "      <td>warmth</td>\n",
       "      <td>pretty</td>\n",
       "      <td>protesting</td>\n",
       "      <td>son's</td>\n",
       "      <td>son's</td>\n",
       "      <td>pretty</td>\n",
       "      <td>warmth</td>\n",
       "      <td>asleep</td>\n",
       "      <td>earns</td>\n",
       "      <td>band</td>\n",
       "      <td>bets</td>\n",
       "      <td>temple</td>\n",
       "      <td>actuary</td>\n",
       "    </tr>\n",
       "    <tr>\n",
       "      <th>4</th>\n",
       "      <td>mooch</td>\n",
       "      <td>nicely</td>\n",
       "      <td>dumber</td>\n",
       "      <td>daddies</td>\n",
       "      <td>daddies</td>\n",
       "      <td>become</td>\n",
       "      <td>gloomy</td>\n",
       "      <td>gums</td>\n",
       "      <td>assign</td>\n",
       "      <td>skat</td>\n",
       "      <td>bank</td>\n",
       "      <td>holy</td>\n",
       "      <td>acupuncturist</td>\n",
       "    </tr>\n",
       "  </tbody>\n",
       "</table>\n",
       "</div>"
      ],
      "text/plain": [
       "       affect     posemo       negemo   social   family     cogproc percept  \\\n",
       "0  protesting  incentive  destruction    chick     ma's      comply  squeez   \n",
       "1      pretty       luck       beaten     ma's    niece        luck    sand   \n",
       "2       sighs    freeing        battl     lets  stepkid  unquestion   moist   \n",
       "3      warmth     pretty   protesting    son's    son's      pretty  warmth   \n",
       "4       mooch     nicely       dumber  daddies  daddies      become  gloomy   \n",
       "\n",
       "     body      work   leisure      money    relig     occupation  \n",
       "0   pussy    dotcom       dnd  portfolio  goddess     accountant  \n",
       "1   wears  employee  vacation       sale    karma          actor  \n",
       "2  hearts     paper      hobb     stores   pastor        actress  \n",
       "3  asleep     earns      band       bets   temple        actuary  \n",
       "4    gums    assign      skat       bank     holy  acupuncturist  "
      ]
     },
     "execution_count": 27,
     "metadata": {},
     "output_type": "execute_result"
    }
   ],
   "source": [
    "word_cats.head()"
   ]
  },
  {
   "cell_type": "markdown",
   "metadata": {},
   "source": [
    "I will first use the word embeddings of the Pop model. I will calculate the mean for the male and female word embeddings, respectively, in order to calculate Frobenius norms in the next step."
   ]
  },
  {
   "cell_type": "code",
   "execution_count": 39,
   "metadata": {},
   "outputs": [],
   "source": [
    "male_words = pickle.load(open('male_words.p', 'rb'))\n",
    "female_words = pickle.load(open('female_words.p', 'rb'))\n",
    "\n",
    "# male\n",
    "pm_words = [word for word in male_words if word in pop_model.wv.vocab]\n",
    "pm_mean_embedding = np.mean([pop_model.wv[word] for word in pm_words], axis=0)\n",
    "\n",
    "# female\n",
    "pf_words = [word for word in female_words if word in pop_model.wv.vocab]\n",
    "pf_mean_embedding = np.mean([pop_model.wv[word] for word in pf_words], axis=0)"
   ]
  },
  {
   "attachments": {
    "NumberedEquation1.gif": {
     "image/gif": "[encoded data removed]"
    }
   },
   "cell_type": "markdown",
   "metadata": {},
   "source": [
    "I will calculate now the Frobenius norm for each gender, which is defined as the square root of the sum of the absolute squares of its elements.\n",
    "\n",
    "![NumberedEquation1.gif](attachment:NumberedEquation1.gif)\n",
    "\n",
    "The difference between both Frobenius norms will result in the bias score of each word, which will be male leaning if it's below 1 and female leaning if it's above 1."
   ]
  },
  {
   "cell_type": "code",
   "execution_count": 40,
   "metadata": {},
   "outputs": [],
   "source": [
    "p_male_distance = lambda x: np.linalg.norm(np.subtract(pop_model.wv[x], pm_mean_embedding)) if x in pop_model.wv.vocab else None\n",
    "p_female_distance = lambda x: np.linalg.norm(np.subtract(pop_model.wv[x], pf_mean_embedding)) if x in pop_model.wv.vocab else None\n",
    "p_total_bias = lambda x: p_male_distance(x) - p_female_distance(x) if x in pop_model.wv.vocab else None\n",
    "\n",
    "\n",
    "pop_bias = word_cats.applymap(p_total_bias)"
   ]
  },
  {
   "cell_type": "markdown",
   "metadata": {},
   "source": [
    "Once I have calculated the bias score according to pop_model, I will do the same with metal_model."
   ]
  },
  {
   "cell_type": "code",
   "execution_count": 41,
   "metadata": {},
   "outputs": [],
   "source": [
    "# male\n",
    "mm_words = [word for word in male_words if word in metal_model.wv.vocab]\n",
    "mm_mean_embedding = np.mean([metal_model.wv[word] for word in mm_words], axis=0)\n",
    "\n",
    "# female\n",
    "mf_words = [word for word in female_words if word in metal_model.wv.vocab]\n",
    "mf_mean_embedding = np.mean([metal_model.wv[word] for word in mf_words], axis=0)"
   ]
  },
  {
   "cell_type": "code",
   "execution_count": 42,
   "metadata": {},
   "outputs": [],
   "source": [
    "m_male_distance = lambda x: np.linalg.norm(np.subtract(metal_model.wv[x], mm_mean_embedding)) if x in metal_model.wv.vocab else None\n",
    "m_female_distance = lambda x: np.linalg.norm(np.subtract(metal_model.wv[x], mf_mean_embedding)) if x in metal_model.wv.vocab else None\n",
    "m_total_bias = lambda x: m_male_distance(x) - m_female_distance(x) if x in metal_model.wv.vocab else None\n",
    "\n",
    "\n",
    "metal_bias = word_cats.applymap(m_total_bias)"
   ]
  },
  {
   "cell_type": "markdown",
   "metadata": {},
   "source": [
    "Done! We can now inspect the results and check out our findings."
   ]
  },
  {
   "cell_type": "code",
   "execution_count": 55,
   "metadata": {},
   "outputs": [
    {
     "data": {
      "text/html": [
       "<div>\n",
       "<style scoped>\n",
       "    .dataframe tbody tr th:only-of-type {\n",
       "        vertical-align: middle;\n",
       "    }\n",
       "\n",
       "    .dataframe tbody tr th {\n",
       "        vertical-align: top;\n",
       "    }\n",
       "\n",
       "    .dataframe thead th {\n",
       "        text-align: right;\n",
       "    }\n",
       "</style>\n",
       "<table border=\"1\" class=\"dataframe\">\n",
       "  <thead>\n",
       "    <tr style=\"text-align: right;\">\n",
       "      <th></th>\n",
       "      <th>affect</th>\n",
       "      <th>posemo</th>\n",
       "      <th>negemo</th>\n",
       "      <th>social</th>\n",
       "      <th>family</th>\n",
       "      <th>cogproc</th>\n",
       "      <th>percept</th>\n",
       "      <th>body</th>\n",
       "      <th>work</th>\n",
       "      <th>leisure</th>\n",
       "      <th>money</th>\n",
       "      <th>relig</th>\n",
       "      <th>occupation</th>\n",
       "    </tr>\n",
       "  </thead>\n",
       "  <tbody>\n",
       "    <tr>\n",
       "      <th>pop</th>\n",
       "      <td>0.015850</td>\n",
       "      <td>0.033826</td>\n",
       "      <td>0.000878</td>\n",
       "      <td>-0.026334</td>\n",
       "      <td>-0.039384</td>\n",
       "      <td>0.013022</td>\n",
       "      <td>0.009028</td>\n",
       "      <td>-0.053316</td>\n",
       "      <td>-0.058315</td>\n",
       "      <td>-0.047031</td>\n",
       "      <td>-0.041692</td>\n",
       "      <td>0.056279</td>\n",
       "      <td>-0.061458</td>\n",
       "    </tr>\n",
       "    <tr>\n",
       "      <th>metal</th>\n",
       "      <td>-0.050295</td>\n",
       "      <td>-0.041795</td>\n",
       "      <td>-0.054740</td>\n",
       "      <td>-0.103696</td>\n",
       "      <td>-0.164546</td>\n",
       "      <td>-0.059902</td>\n",
       "      <td>-0.022077</td>\n",
       "      <td>-0.104145</td>\n",
       "      <td>-0.164851</td>\n",
       "      <td>-0.125848</td>\n",
       "      <td>-0.172085</td>\n",
       "      <td>-0.003333</td>\n",
       "      <td>-0.130248</td>\n",
       "    </tr>\n",
       "  </tbody>\n",
       "</table>\n",
       "</div>"
      ],
      "text/plain": [
       "         affect    posemo    negemo    social    family   cogproc   percept  \\\n",
       "pop    0.015850  0.033826  0.000878 -0.026334 -0.039384  0.013022  0.009028   \n",
       "metal -0.050295 -0.041795 -0.054740 -0.103696 -0.164546 -0.059902 -0.022077   \n",
       "\n",
       "           body      work   leisure     money     relig  occupation  \n",
       "pop   -0.053316 -0.058315 -0.047031 -0.041692  0.056279   -0.061458  \n",
       "metal -0.104145 -0.164851 -0.125848 -0.172085 -0.003333   -0.130248  "
      ]
     },
     "execution_count": 55,
     "metadata": {},
     "output_type": "execute_result"
    }
   ],
   "source": [
    "pd.DataFrame(data=[pop_bias.mean(), metal_bias.mean()], index=['pop', 'metal'])"
   ]
  },
  {
   "cell_type": "code",
   "execution_count": 61,
   "metadata": {},
   "outputs": [
    {
     "data": {
      "text/plain": [
       "<AxesSubplot:>"
      ]
     },
     "execution_count": 61,
     "metadata": {},
     "output_type": "execute_result"
    },
    {
     "data": {
      "image/png": "[encoded data removed]",
      "text/plain": [
       "<Figure size 432x288 with 1 Axes>"
      ]
     },
     "metadata": {
      "needs_background": "light"
     },
     "output_type": "display_data"
    }
   ],
   "source": [
    "pop_bias.mean().plot.bar()"
   ]
  },
  {
   "cell_type": "code",
   "execution_count": 62,
   "metadata": {},
   "outputs": [
    {
     "data": {
      "text/plain": [
       "<AxesSubplot:>"
      ]
     },
     "execution_count": 62,
     "metadata": {},
     "output_type": "execute_result"
    },
    {
     "data": {
      "image/png": "[encoded data removed]",
      "text/plain": [
       "<Figure size 432x288 with 1 Axes>"
      ]
     },
     "metadata": {
      "needs_background": "light"
     },
     "output_type": "display_data"
    }
   ],
   "source": [
    "metal_bias.mean().plot.bar()"
   ]
  },
  {
   "cell_type": "markdown",
   "metadata": {},
   "source": [
    "## Conclusions"
   ]
  },
  {
   "cell_type": "markdown",
   "metadata": {},
   "source": [
    "The results seem coherent with my initial expectation:\n",
    "\n",
    "- Pop seems to be biased towards men in some categories (social, family, body, work, leisure, money, occupation) and towards women in others (affect, posemo, negemo, cogproc, precept, relig). The bias seems to be rather slight, as it never goes beyond 0.06, although more pronounced in the categories whose bias is leaning towards male. \n",
    "\n",
    "- Metal, on the other hand, seems to be biased towards men in all categories. The bias here is more pronounced than it was for the pop model, reaching biases as high as .175 in favour of men. \n",
    "\n",
    "An interesting pattern to notice between the two charts is that the cateogries that have male bias for the pop model are the categories with the most male bias in for the metal model; also, religion, the category that has the lowest male bias for the metal model, has the highest female bias for the pop model. This can lead to think that both models assign similar bias scores, but the metal model always adds some extra male bias to the score."
   ]
  }
 ],
 "metadata": {
  "kernelspec": {
   "display_name": "ADS",
   "language": "python",
   "name": "ads"
  },
  "language_info": {
   "codemirror_mode": {
    "name": "ipython",
    "version": 3
   },
   "file_extension": ".py",
   "mimetype": "text/x-python",
   "name": "python",
   "nbconvert_exporter": "python",
   "pygments_lexer": "ipython3",
   "version": "3.8.5"
  }
 },
 "nbformat": 4,
 "nbformat_minor": 4
}
