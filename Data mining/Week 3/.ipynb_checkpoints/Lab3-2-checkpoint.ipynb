{
 "cells": [
  {
   "cell_type": "code",
   "execution_count": 1,
   "metadata": {},
   "outputs": [],
   "source": [
    "import pickle\n",
    "import pandas as pd\n",
    "import spacy\n",
    "\n",
    "import gensim\n",
    "from gensim.models import Word2Vec\n",
    "import numpy as np"
   ]
  },
  {
   "cell_type": "markdown",
   "metadata": {},
   "source": [
    "### 1. Load the data using Pickle"
   ]
  },
  {
   "cell_type": "code",
   "execution_count": 2,
   "metadata": {},
   "outputs": [],
   "source": [
    "data = pickle.load(open('gender.p', 'rb'))\n",
    "data = [s.lower() for s in data]"
   ]
  },
  {
   "cell_type": "markdown",
   "metadata": {},
   "source": [
    "### 2. Tokenize the lowercased texts using NLTK (or Spacy – if you prefer),"
   ]
  },
  {
   "cell_type": "code",
   "execution_count": 3,
   "metadata": {},
   "outputs": [],
   "source": [
    "nlp = spacy.load(\"en_core_web_sm\")\n",
    "processed_texts = [text for text in nlp.pipe(data, disable=[\"ner\", \"parser\"])]\n",
    "tokenized_texts = [[word.text for word in text if not word.is_punct] for text in processed_texts]"
   ]
  },
  {
   "cell_type": "code",
   "execution_count": 4,
   "metadata": {},
   "outputs": [],
   "source": [
    "# Save file so no need for running pipe again\n",
    "with open('processed_gender.p', 'wb') as f:\n",
    "    pickle.dump(tokenized_texts, f)"
   ]
  },
  {
   "cell_type": "code",
   "execution_count": 5,
   "metadata": {},
   "outputs": [
    {
     "data": {
      "text/plain": [
       "(7999760, 10600560)"
      ]
     },
     "execution_count": 5,
     "metadata": {},
     "output_type": "execute_result"
    }
   ],
   "source": [
    "# Train word embeddings\n",
    "SIZE = 300 # dimensions of the embeddings\n",
    "SG = 1 # whether to use skip-gram or CBOW (we use skip-gram)\n",
    "WINDOW = 10 # the window size\n",
    "N_WORKERS = 1 # number of workers to use\n",
    "MIN_COUNT = 5\n",
    "\n",
    "model = Word2Vec(size=SIZE,\n",
    "                sg=SG,\n",
    "                window=WINDOW, \n",
    "                min_count=MIN_COUNT,\n",
    "                workers=N_WORKERS)\n",
    "\n",
    "model.build_vocab(tokenized_texts)\n",
    "\n",
    "model.train(tokenized_texts,\n",
    "           total_examples=model.corpus_count,\n",
    "           epochs=model.epochs) # grab some coffee while training"
   ]
  },
  {
   "cell_type": "markdown",
   "metadata": {},
   "source": [
    "### 3. Use the most similar() function for some random words to test the model. Does the model produce sensible results?"
   ]
  },
  {
   "cell_type": "code",
   "execution_count": 6,
   "metadata": {},
   "outputs": [
    {
     "data": {
      "text/plain": [
       "[('walked', 0.8730869889259338),\n",
       " ('evening', 0.8540593385696411),\n",
       " ('bed', 0.8510856032371521),\n",
       " ('handed', 0.8499448299407959),\n",
       " ('vegetables', 0.847419023513794),\n",
       " ('drinks', 0.8384785056114197),\n",
       " ('sewing', 0.8361748456954956),\n",
       " ('smiling', 0.8339858651161194),\n",
       " ('ivan', 0.8339289426803589),\n",
       " ('shoulders', 0.832855224609375)]"
      ]
     },
     "execution_count": 6,
     "metadata": {},
     "output_type": "execute_result"
    }
   ],
   "source": [
    "word_1 = model.wv.most_similar('car')\n",
    "word_1"
   ]
  },
  {
   "cell_type": "code",
   "execution_count": 7,
   "metadata": {},
   "outputs": [
    {
     "data": {
      "text/plain": [
       "[('iconic', 0.8424939513206482),\n",
       " ('princess', 0.8397291898727417),\n",
       " ('mythology', 0.8303258419036865),\n",
       " ('hallie', 0.8279092311859131),\n",
       " ('palestina', 0.8235186338424683),\n",
       " ('clara', 0.8216514587402344),\n",
       " ('gangster', 0.8174343109130859),\n",
       " ('solider', 0.8142279982566833),\n",
       " ('fairy', 0.8131545782089233),\n",
       " ('lia', 0.8127529621124268)]"
      ]
     },
     "execution_count": 7,
     "metadata": {},
     "output_type": "execute_result"
    }
   ],
   "source": [
    "word_2 = model.wv.most_similar('movie')\n",
    "word_2"
   ]
  },
  {
   "cell_type": "code",
   "execution_count": 8,
   "metadata": {},
   "outputs": [
    {
     "data": {
      "text/plain": [
       "[('sport', 0.6839720010757446),\n",
       " ('euro', 0.6635732650756836),\n",
       " ('sporting', 0.6567165851593018),\n",
       " ('fan', 0.6520801782608032),\n",
       " ('tournament', 0.6519428491592407),\n",
       " ('basketball', 0.6442797183990479),\n",
       " ('bigotry', 0.6384038925170898),\n",
       " ('fans', 0.6373090147972107),\n",
       " ('game', 0.6319559812545776),\n",
       " ('stadium', 0.6253989934921265)]"
      ]
     },
     "execution_count": 8,
     "metadata": {},
     "output_type": "execute_result"
    }
   ],
   "source": [
    "word_3 = model.wv.most_similar('football')\n",
    "word_3"
   ]
  },
  {
   "cell_type": "markdown",
   "metadata": {},
   "source": [
    "The results don't always seem to make sense. 'car' has in my opinion very little to do with 'bed' or 'vegetables' (I would have expected to see: engine, tires, bus, etc). Same could be said about 'movie', except for words that represent usua character i movies like 'princess' or 'gangster'. Words like 'football' on the other hand seem to be related to many words that actually keep a thematic connection ('fan', 'Euro' -league-, 'stadium', or 'bigotry') or that are other popular sports, like 'basketball'."
   ]
  },
  {
   "cell_type": "markdown",
   "metadata": {},
   "source": [
    "### 4. Calculate the similarity between man and king, and between woman and king."
   ]
  },
  {
   "cell_type": "code",
   "execution_count": 9,
   "metadata": {},
   "outputs": [
    {
     "data": {
      "text/plain": [
       "0.39131212"
      ]
     },
     "execution_count": 9,
     "metadata": {},
     "output_type": "execute_result"
    }
   ],
   "source": [
    "model.wv.similarity('man', 'king')"
   ]
  },
  {
   "cell_type": "code",
   "execution_count": 10,
   "metadata": {},
   "outputs": [
    {
     "data": {
      "text/plain": [
       "0.23417583"
      ]
     },
     "execution_count": 10,
     "metadata": {},
     "output_type": "execute_result"
    }
   ],
   "source": [
    "model.wv.similarity('woman', 'king')"
   ]
  },
  {
   "cell_type": "markdown",
   "metadata": {},
   "source": [
    "'Man' is more associated to 'king' than 'woman' is. One could expect to see the opposite relation when using the word 'queen', which surprisingly is also more associated to 'man' than it is to 'woman'!"
   ]
  },
  {
   "cell_type": "code",
   "execution_count": 11,
   "metadata": {},
   "outputs": [
    {
     "data": {
      "text/plain": [
       "0.46344876"
      ]
     },
     "execution_count": 11,
     "metadata": {},
     "output_type": "execute_result"
    }
   ],
   "source": [
    "model.wv.similarity('man', 'queen')"
   ]
  },
  {
   "cell_type": "code",
   "execution_count": 12,
   "metadata": {},
   "outputs": [
    {
     "data": {
      "text/plain": [
       "0.39398766"
      ]
     },
     "execution_count": 12,
     "metadata": {},
     "output_type": "execute_result"
    }
   ],
   "source": [
    "model.wv.similarity('woman', 'queen')"
   ]
  },
  {
   "cell_type": "markdown",
   "metadata": {},
   "source": [
    "## Part 2: Reproducing Wevers"
   ]
  },
  {
   "cell_type": "code",
   "execution_count": 13,
   "metadata": {},
   "outputs": [],
   "source": [
    "word_cats = pickle.load(open('word_cats.p', 'rb'))"
   ]
  },
  {
   "cell_type": "code",
   "execution_count": 14,
   "metadata": {},
   "outputs": [
    {
     "data": {
      "text/html": [
       "<div>\n",
       "<style scoped>\n",
       "    .dataframe tbody tr th:only-of-type {\n",
       "        vertical-align: middle;\n",
       "    }\n",
       "\n",
       "    .dataframe tbody tr th {\n",
       "        vertical-align: top;\n",
       "    }\n",
       "\n",
       "    .dataframe thead th {\n",
       "        text-align: right;\n",
       "    }\n",
       "</style>\n",
       "<table border=\"1\" class=\"dataframe\">\n",
       "  <thead>\n",
       "    <tr style=\"text-align: right;\">\n",
       "      <th></th>\n",
       "      <th>affect</th>\n",
       "      <th>posemo</th>\n",
       "      <th>negemo</th>\n",
       "      <th>social</th>\n",
       "      <th>family</th>\n",
       "      <th>cogproc</th>\n",
       "      <th>percept</th>\n",
       "      <th>body</th>\n",
       "      <th>work</th>\n",
       "      <th>leisure</th>\n",
       "      <th>money</th>\n",
       "      <th>relig</th>\n",
       "      <th>occupation</th>\n",
       "    </tr>\n",
       "  </thead>\n",
       "  <tbody>\n",
       "    <tr>\n",
       "      <th>0</th>\n",
       "      <td>protesting</td>\n",
       "      <td>incentive</td>\n",
       "      <td>destruction</td>\n",
       "      <td>chick</td>\n",
       "      <td>ma's</td>\n",
       "      <td>comply</td>\n",
       "      <td>squeez</td>\n",
       "      <td>pussy</td>\n",
       "      <td>dotcom</td>\n",
       "      <td>dnd</td>\n",
       "      <td>portfolio</td>\n",
       "      <td>goddess</td>\n",
       "      <td>accountant</td>\n",
       "    </tr>\n",
       "    <tr>\n",
       "      <th>1</th>\n",
       "      <td>pretty</td>\n",
       "      <td>luck</td>\n",
       "      <td>beaten</td>\n",
       "      <td>ma's</td>\n",
       "      <td>niece</td>\n",
       "      <td>luck</td>\n",
       "      <td>sand</td>\n",
       "      <td>wears</td>\n",
       "      <td>employee</td>\n",
       "      <td>vacation</td>\n",
       "      <td>sale</td>\n",
       "      <td>karma</td>\n",
       "      <td>actor</td>\n",
       "    </tr>\n",
       "    <tr>\n",
       "      <th>2</th>\n",
       "      <td>sighs</td>\n",
       "      <td>freeing</td>\n",
       "      <td>battl</td>\n",
       "      <td>lets</td>\n",
       "      <td>stepkid</td>\n",
       "      <td>unquestion</td>\n",
       "      <td>moist</td>\n",
       "      <td>hearts</td>\n",
       "      <td>paper</td>\n",
       "      <td>hobb</td>\n",
       "      <td>stores</td>\n",
       "      <td>pastor</td>\n",
       "      <td>actress</td>\n",
       "    </tr>\n",
       "    <tr>\n",
       "      <th>3</th>\n",
       "      <td>warmth</td>\n",
       "      <td>pretty</td>\n",
       "      <td>protesting</td>\n",
       "      <td>son's</td>\n",
       "      <td>son's</td>\n",
       "      <td>pretty</td>\n",
       "      <td>warmth</td>\n",
       "      <td>asleep</td>\n",
       "      <td>earns</td>\n",
       "      <td>band</td>\n",
       "      <td>bets</td>\n",
       "      <td>temple</td>\n",
       "      <td>actuary</td>\n",
       "    </tr>\n",
       "    <tr>\n",
       "      <th>4</th>\n",
       "      <td>mooch</td>\n",
       "      <td>nicely</td>\n",
       "      <td>dumber</td>\n",
       "      <td>daddies</td>\n",
       "      <td>daddies</td>\n",
       "      <td>become</td>\n",
       "      <td>gloomy</td>\n",
       "      <td>gums</td>\n",
       "      <td>assign</td>\n",
       "      <td>skat</td>\n",
       "      <td>bank</td>\n",
       "      <td>holy</td>\n",
       "      <td>acupuncturist</td>\n",
       "    </tr>\n",
       "  </tbody>\n",
       "</table>\n",
       "</div>"
      ],
      "text/plain": [
       "       affect     posemo       negemo   social   family     cogproc percept  \\\n",
       "0  protesting  incentive  destruction    chick     ma's      comply  squeez   \n",
       "1      pretty       luck       beaten     ma's    niece        luck    sand   \n",
       "2       sighs    freeing        battl     lets  stepkid  unquestion   moist   \n",
       "3      warmth     pretty   protesting    son's    son's      pretty  warmth   \n",
       "4       mooch     nicely       dumber  daddies  daddies      become  gloomy   \n",
       "\n",
       "     body      work   leisure      money    relig     occupation  \n",
       "0   pussy    dotcom       dnd  portfolio  goddess     accountant  \n",
       "1   wears  employee  vacation       sale    karma          actor  \n",
       "2  hearts     paper      hobb     stores   pastor        actress  \n",
       "3  asleep     earns      band       bets   temple        actuary  \n",
       "4    gums    assign      skat       bank     holy  acupuncturist  "
      ]
     },
     "execution_count": 14,
     "metadata": {},
     "output_type": "execute_result"
    }
   ],
   "source": [
    "word_cats.head()"
   ]
  },
  {
   "cell_type": "markdown",
   "metadata": {},
   "source": [
    "### 2. Make a list of male-related words (he, his, male, etc.) and of femalerelated words. Get the mean embeddings of those words."
   ]
  },
  {
   "cell_type": "code",
   "execution_count": 15,
   "metadata": {},
   "outputs": [],
   "source": [
    "male_words = ['he', 'his', 'him', 'male', 'man', 'boy', 'son', 'father', 'dad', 'brother']\n",
    "female_words = ['she', 'her', 'female', 'woman', 'girl', 'daughter', 'mother', 'mom', 'sister']\n",
    "\n",
    "# male\n",
    "words = [word for word in male_words if word in model.wv.vocab]\n",
    "m_mean_embedding = np.mean([model.wv[word] for word in words], axis=0)\n",
    "\n",
    "# female\n",
    "words = [word for word in female_words if word in model.wv.vocab]\n",
    "f_mean_embedding = np.mean([model.wv[word] for word in words], axis=0)"
   ]
  },
  {
   "cell_type": "markdown",
   "metadata": {},
   "source": [
    "### 3. What occupations are most biased towards men, and what occupations are most biased towards women? What do the results say about the gender bias in these journals? And what do they say about the word embeddings method in general?"
   ]
  },
  {
   "cell_type": "code",
   "execution_count": 54,
   "metadata": {},
   "outputs": [
    {
     "data": {
      "text/plain": [
       "affect        0.115966\n",
       "posemo        0.121922\n",
       "negemo        0.112119\n",
       "social        0.083855\n",
       "family        0.084019\n",
       "cogproc       0.141877\n",
       "percept       0.127018\n",
       "body          0.109166\n",
       "work          0.110266\n",
       "leisure       0.127163\n",
       "money         0.115823\n",
       "relig         0.101734\n",
       "occupation    0.138350\n",
       "dtype: float64"
      ]
     },
     "execution_count": 54,
     "metadata": {},
     "output_type": "execute_result"
    }
   ],
   "source": [
    "# Oscillates between -1 (maximum bias favouring man) and 1 (maximum bias favouring woman)\n",
    "\n",
    "male_distance = lambda x: np.linalg.norm(np.subtract(model.wv[x], m_mean_embedding)) if x in model.wv.vocab else None\n",
    "female_distance = lambda x: np.linalg.norm(np.subtract(model.wv[x], f_mean_embedding)) if x in model.wv.vocab else None\n",
    "total_bias = lambda x: male_distance(x) - female_distance(x) if x in model.wv.vocab else None\n",
    "\n",
    "\n",
    "bias = word_cats.applymap(total_bias)\n",
    "\n",
    "bias.mean()"
   ]
  },
  {
   "cell_type": "code",
   "execution_count": 55,
   "metadata": {},
   "outputs": [
    {
     "data": {
      "text/plain": [
       "0.13835028"
      ]
     },
     "execution_count": 55,
     "metadata": {},
     "output_type": "execute_result"
    }
   ],
   "source": [
    "# Alternative way to extract occupation bias\n",
    "b = []\n",
    "occs = word_cats.occupation.dropna()\n",
    "for occ in occs:\n",
    "    if occ in model.wv.vocab:\n",
    "        w = male_distance(occ) - female_distance(occ)\n",
    "        b.append(w)\n",
    "np.array(b).mean()"
   ]
  },
  {
   "cell_type": "code",
   "execution_count": 56,
   "metadata": {},
   "outputs": [],
   "source": [
    "# What occupations are biased against man and what are against woman?\n",
    "bias_occupation = bias.occupation.dropna()\n",
    "idx = bias_occupation.index\n",
    "occupations = word_cats.occupation\n",
    "occupations = [occupations.get(id) for id in idx] # filter out those whose bias is NaN"
   ]
  },
  {
   "cell_type": "code",
   "execution_count": 57,
   "metadata": {},
   "outputs": [],
   "source": [
    "occ_and_bias = list(zip(occupations, bias_occupation))\n",
    "male_biased = [t for t in occ_and_bias if t[1] < 0]\n",
    "female_biased = [t for t in occ_and_bias if t[1] > 0]"
   ]
  },
  {
   "cell_type": "code",
   "execution_count": 58,
   "metadata": {},
   "outputs": [
    {
     "data": {
      "text/plain": [
       "[('accountant', 0.22003638744354248),\n",
       " ('actor', 0.14423155784606934),\n",
       " ('actress', 0.3198357820510864),\n",
       " ('agent', 0.21956539154052734),\n",
       " ('anthropologist', 0.17869114875793457),\n",
       " ('architect', 0.10076117515563965),\n",
       " ('archivist', 0.298606276512146),\n",
       " ('artist', 0.3054170608520508),\n",
       " ('arts', 0.3572051525115967),\n",
       " ('assistant', 0.06510329246520996),\n",
       " ('attendant', 0.03656435012817383),\n",
       " ('butler', 0.23173093795776367),\n",
       " ('caretaker', 0.265336275100708),\n",
       " ('chef', 0.14805960655212402),\n",
       " ('commissioned', 0.22829365730285645),\n",
       " ('consultant', 0.16578149795532227),\n",
       " ('counsellor', 0.1672229766845703),\n",
       " ('dealer', 0.18950319290161133),\n",
       " ('doctor', 0.12057256698608398),\n",
       " ('driver', 0.04199552536010742),\n",
       " ('economist', 0.2214674949645996),\n",
       " ('editor', 0.06642436981201172),\n",
       " ('employee', 0.16644954681396484),\n",
       " ('employment', 0.2549629211425781),\n",
       " ('engineer', 0.07393956184387207),\n",
       " ('executive', 0.028613567352294922),\n",
       " ('farmer', 0.09309554100036621),\n",
       " ('groom', 0.14982116222381592),\n",
       " ('historian', 0.32086706161499023),\n",
       " ('hostess', 0.12367188930511475),\n",
       " ('housewife', 0.20248448848724365),\n",
       " ('interviewer', 0.06002378463745117),\n",
       " ('journalist', 0.299546480178833),\n",
       " ('judge', 0.027280569076538086),\n",
       " ('lawyer', 0.1802501678466797),\n",
       " ('lecturer', 0.15483736991882324),\n",
       " ('librarian', 0.11663222312927246),\n",
       " ('manufacturing', 0.12590408325195312),\n",
       " ('nanny', 0.2406919002532959),\n",
       " ('nurse', 0.2545640468597412),\n",
       " ('operations', 0.005418062210083008),\n",
       " ('operative', 0.2544820308685303),\n",
       " ('operator', 0.08471190929412842),\n",
       " ('optical', 0.21297335624694824),\n",
       " ('painter', 0.23333406448364258),\n",
       " ('photographer', 0.26580679416656494),\n",
       " ('physician', 0.11241638660430908),\n",
       " ('pilot', 0.023241043090820312),\n",
       " ('premises', 0.1965649127960205),\n",
       " ('priest', 0.18587660789489746),\n",
       " ('producer', 0.2200925350189209),\n",
       " ('psychologist', 0.319979190826416),\n",
       " ('publisher', 0.27094316482543945),\n",
       " ('receptionist', 0.12107205390930176),\n",
       " ('recreational', 0.049593210220336914),\n",
       " ('reporter', 0.0720374584197998),\n",
       " ('representative', 0.12978529930114746),\n",
       " ('researcher', 0.19085097312927246),\n",
       " ('retired', 0.17080068588256836),\n",
       " ('scientist', 0.18281936645507812),\n",
       " ('secretary', 0.05782628059387207),\n",
       " ('servant', 0.20018982887268066),\n",
       " ('shepherd', 0.1278820037841797),\n",
       " ('student', 0.1365649700164795),\n",
       " ('supervisor', 0.1261347532272339),\n",
       " ('tanner', 0.09315180778503418),\n",
       " ('teacher', 0.11456298828125),\n",
       " ('thatcher', 0.1665046215057373),\n",
       " ('therapist', 0.21818947792053223),\n",
       " ('turner', 0.10411882400512695),\n",
       " ('waitress', 0.23888611793518066),\n",
       " ('weaver', 0.0655510425567627),\n",
       " ('writer', 0.4172954559326172)]"
      ]
     },
     "execution_count": 58,
     "metadata": {},
     "output_type": "execute_result"
    }
   ],
   "source": [
    "female_biased"
   ]
  },
  {
   "cell_type": "code",
   "execution_count": 59,
   "metadata": {},
   "outputs": [
    {
     "data": {
      "text/plain": [
       "[('administrator', -0.11632394790649414),\n",
       " ('baker', -0.013622760772705078),\n",
       " ('barber', -0.060036659240722656),\n",
       " ('carpenter', -0.022475004196166992),\n",
       " ('goldsmith', -0.010659933090209961),\n",
       " ('instructor', -0.08390474319458008),\n",
       " ('licensing', -0.18330907821655273),\n",
       " ('miller', -0.01764822006225586),\n",
       " ('musician', -0.2623690366744995),\n",
       " ('soldier', -0.0822761058807373)]"
      ]
     },
     "execution_count": 59,
     "metadata": {},
     "output_type": "execute_result"
    }
   ],
   "source": [
    "male_biased"
   ]
  },
  {
   "cell_type": "markdown",
   "metadata": {},
   "source": [
    "A few occupations are more biased towards men, whereas most occupations seem to be biased against women (even some professions traditionally associated to males)"
   ]
  },
  {
   "cell_type": "markdown",
   "metadata": {},
   "source": [
    "### 4. Get all the categories in a list using df.column. Loop over al the categories, and calculate the mean gender bias for each category. Add the results to a data frame. Which category is the most biased towards females and towards males?"
   ]
  },
  {
   "cell_type": "code",
   "execution_count": 60,
   "metadata": {},
   "outputs": [
    {
     "data": {
      "text/plain": [
       "affect        0.115966\n",
       "posemo        0.121922\n",
       "negemo        0.112119\n",
       "social        0.083855\n",
       "family        0.084019\n",
       "cogproc       0.141877\n",
       "percept       0.127018\n",
       "body          0.109166\n",
       "work          0.110266\n",
       "leisure       0.127163\n",
       "money         0.115823\n",
       "relig         0.101734\n",
       "occupation    0.138350\n",
       "dtype: float64"
      ]
     },
     "execution_count": 60,
     "metadata": {},
     "output_type": "execute_result"
    }
   ],
   "source": [
    "bias.mean()"
   ]
  },
  {
   "cell_type": "markdown",
   "metadata": {},
   "source": [
    "'cogproc' is the more biased category towards women whereas 'family' is the least biased category towards women. No category is biased towards men in average."
   ]
  },
  {
   "cell_type": "markdown",
   "metadata": {},
   "source": [
    "### BONUS: Try to reproduce Figure 3 of Wevers on one category. "
   ]
  },
  {
   "cell_type": "code",
   "execution_count": 108,
   "metadata": {},
   "outputs": [],
   "source": [
    "m_distances = word_cats.occupation.dropna().apply(male_distance).dropna()\n",
    "f_distances = word_cats.occupation.dropna().apply(female_distance).dropna()"
   ]
  },
  {
   "cell_type": "code",
   "execution_count": 109,
   "metadata": {},
   "outputs": [],
   "source": [
    "k = list(zip(occupations, 1/m_distances, 1/f_distances))"
   ]
  },
  {
   "cell_type": "code",
   "execution_count": 110,
   "metadata": {},
   "outputs": [],
   "source": [
    "distances_df = pd.DataFrame(data=k, columns=['profession', 'male_simil', 'female_simil'])"
   ]
  },
  {
   "cell_type": "code",
   "execution_count": 112,
   "metadata": {},
   "outputs": [
    {
     "data": {
      "text/plain": [
       "<AxesSubplot:xlabel='male_simil', ylabel='female_simil'>"
      ]
     },
     "execution_count": 112,
     "metadata": {},
     "output_type": "execute_result"
    },
    {
     "name": "stderr",
     "output_type": "stream",
     "text": [
      "Exception in Tkinter callback\n",
      "Traceback (most recent call last):\n",
      "  File \"/home/pablo/anaconda3/envs/ADS/lib/python3.7/tkinter/__init__.py\", line 1705, in __call__\n",
      "    return self.func(*args)\n",
      "  File \"/home/pablo/anaconda3/envs/ADS/lib/python3.7/tkinter/__init__.py\", line 749, in callit\n",
      "    func(*args)\n",
      "  File \"/home/pablo/anaconda3/envs/ADS/lib/python3.7/site-packages/matplotlib/backends/_backend_tk.py\", line 253, in idle_draw\n",
      "    self.draw()\n",
      "  File \"/home/pablo/anaconda3/envs/ADS/lib/python3.7/site-packages/matplotlib/backends/backend_tkagg.py\", line 9, in draw\n",
      "    super(FigureCanvasTkAgg, self).draw()\n",
      "  File \"/home/pablo/anaconda3/envs/ADS/lib/python3.7/site-packages/matplotlib/backends/backend_agg.py\", line 407, in draw\n",
      "    self.figure.draw(self.renderer)\n",
      "  File \"/home/pablo/anaconda3/envs/ADS/lib/python3.7/site-packages/matplotlib/backend_bases.py\", line 1544, in _draw\n",
      "    def _draw(renderer): raise Done(renderer)\n",
      "matplotlib.backend_bases._get_renderer.<locals>.Done: <matplotlib.backends.backend_agg.RendererAgg object at 0x7fd924d07bd0>\n",
      "Exception in Tkinter callback\n",
      "Traceback (most recent call last):\n",
      "  File \"/home/pablo/anaconda3/envs/ADS/lib/python3.7/tkinter/__init__.py\", line 1705, in __call__\n",
      "    return self.func(*args)\n",
      "  File \"/home/pablo/anaconda3/envs/ADS/lib/python3.7/site-packages/matplotlib/backends/_backend_tk.py\", line 242, in resize\n",
      "    self.draw()\n",
      "  File \"/home/pablo/anaconda3/envs/ADS/lib/python3.7/site-packages/matplotlib/backends/backend_tkagg.py\", line 9, in draw\n",
      "    super(FigureCanvasTkAgg, self).draw()\n",
      "  File \"/home/pablo/anaconda3/envs/ADS/lib/python3.7/site-packages/matplotlib/backends/backend_agg.py\", line 407, in draw\n",
      "    self.figure.draw(self.renderer)\n",
      "  File \"/home/pablo/anaconda3/envs/ADS/lib/python3.7/site-packages/matplotlib/backend_bases.py\", line 1544, in _draw\n",
      "    def _draw(renderer): raise Done(renderer)\n",
      "matplotlib.backend_bases._get_renderer.<locals>.Done: <matplotlib.backends.backend_agg.RendererAgg object at 0x7fd924d07bd0>\n",
      "Exception in Tkinter callback\n",
      "Traceback (most recent call last):\n",
      "  File \"/home/pablo/anaconda3/envs/ADS/lib/python3.7/tkinter/__init__.py\", line 1705, in __call__\n",
      "    return self.func(*args)\n",
      "  File \"/home/pablo/anaconda3/envs/ADS/lib/python3.7/tkinter/__init__.py\", line 749, in callit\n",
      "    func(*args)\n",
      "  File \"/home/pablo/anaconda3/envs/ADS/lib/python3.7/site-packages/matplotlib/backends/_backend_tk.py\", line 253, in idle_draw\n",
      "    self.draw()\n",
      "  File \"/home/pablo/anaconda3/envs/ADS/lib/python3.7/site-packages/matplotlib/backends/backend_tkagg.py\", line 9, in draw\n",
      "    super(FigureCanvasTkAgg, self).draw()\n",
      "  File \"/home/pablo/anaconda3/envs/ADS/lib/python3.7/site-packages/matplotlib/backends/backend_agg.py\", line 407, in draw\n",
      "    self.figure.draw(self.renderer)\n",
      "  File \"/home/pablo/anaconda3/envs/ADS/lib/python3.7/site-packages/matplotlib/backend_bases.py\", line 1544, in _draw\n",
      "    def _draw(renderer): raise Done(renderer)\n",
      "matplotlib.backend_bases._get_renderer.<locals>.Done: <matplotlib.backends.backend_agg.RendererAgg object at 0x7fd924d07bd0>\n"
     ]
    },
    {
     "data": {
      "image/png": "[encoded data removed]",
      "text/plain": [
       "<Figure size 432x288 with 1 Axes>"
      ]
     },
     "metadata": {
      "needs_background": "light"
     },
     "output_type": "display_data"
    }
   ],
   "source": [
    "distances_df.plot.scatter(x='male_simil', y='female_simil')"
   ]
  }
 ],
 "metadata": {
  "kernelspec": {
   "display_name": "ADS",
   "language": "python",
   "name": "ads"
  },
  "language_info": {
   "codemirror_mode": {
    "name": "ipython",
    "version": 3
   },
   "file_extension": ".py",
   "mimetype": "text/x-python",
   "name": "python",
   "nbconvert_exporter": "python",
   "pygments_lexer": "ipython3",
   "version": "3.7.9"
  }
 },
 "nbformat": 4,
 "nbformat_minor": 4
}
